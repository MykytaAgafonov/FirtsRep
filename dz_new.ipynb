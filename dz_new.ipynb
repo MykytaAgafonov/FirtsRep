{
 "cells": [
  {
   "cell_type": "code",
   "execution_count": null,
   "id": "08a8ccd7-42c4-47f8-9780-a7c0be189cff",
   "metadata": {
    "tags": []
   },
   "outputs": [],
   "source": []
  },
  {
   "cell_type": "code",
   "execution_count": 1,
   "id": "125f1411-0f3a-4edf-9303-9a07affc132e",
   "metadata": {
    "collapsed": true,
    "jupyter": {
     "outputs_hidden": true
    },
    "tags": []
   },
   "outputs": [
    {
     "name": "stderr",
     "output_type": "stream",
     "text": [
      "\n",
      "KeyboardInterrupt\n",
      "\n"
     ]
    }
   ],
   "source": [
    "number = int(input(\"Insert a number: \"))\n",
    "digit1 = str(number)[0]\n",
    "digit2 = str(number)[1]\n",
    "digit3 = str(number)[2]\n",
    "digit4 = str(number)[3]\n",
    "\n",
    "digit11 = int(number/1000)\n",
    "digit22 = int((number-digit11*1000)/100)\n",
    "digit33 = int((number-digit11*1000-digit22*100)/10)\n",
    "digit44 = int((number-digit11*1000-digit22*100-digit33*10))\n",
    "\n",
    "print(digit1) \n",
    "print(digit2) \n",
    "print(digit3) \n",
    "print(digit4) \n",
    "print(digit11) \n",
    "print(digit22) \n",
    "print(digit33) \n",
    "print(digit44) "
   ]
  },
  {
   "cell_type": "code",
   "execution_count": 3,
   "id": "f7292833-3bf9-4b3d-bd05-656d413ee4c4",
   "metadata": {
    "collapsed": true,
    "jupyter": {
     "outputs_hidden": true
    },
    "tags": []
   },
   "outputs": [
    {
     "name": "stdin",
     "output_type": "stream",
     "text": [
      " 12\n",
      " 23\n",
      " 34\n",
      " 45\n",
      " 56\n",
      " 67\n",
      " 78\n",
      " 89\n",
      " 1212\n",
      " 31\n"
     ]
    },
    {
     "name": "stdout",
     "output_type": "stream",
     "text": [
      "s = 1647\n"
     ]
    }
   ],
   "source": [
    "\n",
    "s = 0\n",
    "for _ in range (10):\n",
    "    s += int(input())\n",
    "print('s =',s)\n",
    "\n"
   ]
  },
  {
   "cell_type": "code",
   "execution_count": 8,
   "id": "1b1416da-81ed-419a-84ec-f55482feef45",
   "metadata": {
    "collapsed": true,
    "jupyter": {
     "outputs_hidden": true
    },
    "tags": []
   },
   "outputs": [
    {
     "data": {
      "text/plain": [
       "0"
      ]
     },
     "execution_count": 8,
     "metadata": {},
     "output_type": "execute_result"
    }
   ],
   "source": [
    "lst = []\n",
    "for i in range(3):\n",
    "      lst.append(int())\n",
    "sum(lst)"
   ]
  },
  {
   "cell_type": "code",
   "execution_count": 10,
   "id": "f3395140-9283-4d9c-86de-f19572b65bc5",
   "metadata": {
    "collapsed": true,
    "jupyter": {
     "outputs_hidden": true
    },
    "tags": []
   },
   "outputs": [
    {
     "name": "stdout",
     "output_type": "stream",
     "text": [
      "4\n",
      "2\n",
      "6\n",
      "4\n"
     ]
    }
   ],
   "source": [
    "lst = [4,2,6,5,4,5,7]\n",
    "\n",
    "for el in lst:\n",
    "    if el%2 == 0:\n",
    "        print(el)"
   ]
  },
  {
   "cell_type": "code",
   "execution_count": 11,
   "id": "e32df885-13c5-4c10-9474-b3e48a30b082",
   "metadata": {
    "collapsed": true,
    "jupyter": {
     "outputs_hidden": true
    },
    "tags": []
   },
   "outputs": [
    {
     "ename": "SyntaxError",
     "evalue": "incomplete input (2348454159.py, line 1)",
     "output_type": "error",
     "traceback": [
      "\u001b[1;36m  Cell \u001b[1;32mIn[11], line 1\u001b[1;36m\u001b[0m\n\u001b[1;33m    list(enumerate(lst)\u001b[0m\n\u001b[1;37m                       ^\u001b[0m\n\u001b[1;31mSyntaxError\u001b[0m\u001b[1;31m:\u001b[0m incomplete input\n"
     ]
    }
   ],
   "source": [
    "list(enumerate(lst)"
   ]
  },
  {
   "cell_type": "code",
   "execution_count": 13,
   "id": "ac38ae9c-6d7f-4279-ada1-a55ccaf53614",
   "metadata": {
    "collapsed": true,
    "jupyter": {
     "outputs_hidden": true
    },
    "tags": []
   },
   "outputs": [
    {
     "name": "stdin",
     "output_type": "stream",
     "text": [
      "n =  10\n"
     ]
    },
    {
     "name": "stdout",
     "output_type": "stream",
     "text": [
      "11235813213455"
     ]
    }
   ],
   "source": [
    "a=1\n",
    "b=1\n",
    "\n",
    "n = int(input('n = '))\n",
    "\n",
    "for _ in range(n):\n",
    "    print(a, end= '')\n",
    "    a,b = b, (a+b)"
   ]
  },
  {
   "cell_type": "code",
   "execution_count": 20,
   "id": "e1feca90-5c6a-41df-a29f-c26053f422ce",
   "metadata": {
    "collapsed": true,
    "jupyter": {
     "outputs_hidden": true
    },
    "tags": []
   },
   "outputs": [
    {
     "ename": "KeyboardInterrupt",
     "evalue": "Interrupted by user",
     "output_type": "error",
     "traceback": [
      "\u001b[1;31m---------------------------------------------------------------------------\u001b[0m",
      "\u001b[1;31mKeyboardInterrupt\u001b[0m                         Traceback (most recent call last)",
      "Cell \u001b[1;32mIn[20], line 5\u001b[0m\n\u001b[0;32m      3\u001b[0m lst \u001b[38;5;241m=\u001b[39m []\n\u001b[0;32m      4\u001b[0m \u001b[38;5;28;01mfor\u001b[39;00m i \u001b[38;5;129;01min\u001b[39;00m \u001b[38;5;28mrange\u001b[39m(\u001b[38;5;241m10\u001b[39m):\n\u001b[1;32m----> 5\u001b[0m     lst\u001b[38;5;241m.\u001b[39mappend(\u001b[38;5;28mint\u001b[39m(\u001b[38;5;28;43minput\u001b[39;49m\u001b[43m(\u001b[49m\u001b[38;5;124;43mf\u001b[39;49m\u001b[38;5;124;43m'\u001b[39;49m\u001b[38;5;124;43mnumber \u001b[39;49m\u001b[38;5;132;43;01m{\u001b[39;49;00m\u001b[43mi\u001b[49m\u001b[38;5;241;43m+\u001b[39;49m\u001b[38;5;241;43m1\u001b[39;49m\u001b[38;5;132;43;01m}\u001b[39;49;00m\u001b[38;5;124;43m = \u001b[39;49m\u001b[38;5;124;43m'\u001b[39;49m\u001b[43m)\u001b[49m))\n\u001b[0;32m      7\u001b[0m     \u001b[38;5;28mprint\u001b[39m(\u001b[38;5;124m'\u001b[39m\u001b[38;5;124mmean =\u001b[39m\u001b[38;5;124m'\u001b[39m, statistics\u001b[38;5;241m.\u001b[39mmean(lst))\n\u001b[0;32m      8\u001b[0m     \u001b[38;5;28mprint\u001b[39m(\u001b[38;5;124m'\u001b[39m\u001b[38;5;124mmed =\u001b[39m\u001b[38;5;124m'\u001b[39m, statistics\u001b[38;5;241m.\u001b[39mmedian(lst))\n",
      "File \u001b[1;32m~\\anaconda3\\lib\\site-packages\\ipykernel\\kernelbase.py:1175\u001b[0m, in \u001b[0;36mKernel.raw_input\u001b[1;34m(self, prompt)\u001b[0m\n\u001b[0;32m   1171\u001b[0m \u001b[38;5;28;01mif\u001b[39;00m \u001b[38;5;129;01mnot\u001b[39;00m \u001b[38;5;28mself\u001b[39m\u001b[38;5;241m.\u001b[39m_allow_stdin:\n\u001b[0;32m   1172\u001b[0m     \u001b[38;5;28;01mraise\u001b[39;00m StdinNotImplementedError(\n\u001b[0;32m   1173\u001b[0m         \u001b[38;5;124m\"\u001b[39m\u001b[38;5;124mraw_input was called, but this frontend does not support input requests.\u001b[39m\u001b[38;5;124m\"\u001b[39m\n\u001b[0;32m   1174\u001b[0m     )\n\u001b[1;32m-> 1175\u001b[0m \u001b[38;5;28;01mreturn\u001b[39;00m \u001b[38;5;28;43mself\u001b[39;49m\u001b[38;5;241;43m.\u001b[39;49m\u001b[43m_input_request\u001b[49m\u001b[43m(\u001b[49m\n\u001b[0;32m   1176\u001b[0m \u001b[43m    \u001b[49m\u001b[38;5;28;43mstr\u001b[39;49m\u001b[43m(\u001b[49m\u001b[43mprompt\u001b[49m\u001b[43m)\u001b[49m\u001b[43m,\u001b[49m\n\u001b[0;32m   1177\u001b[0m \u001b[43m    \u001b[49m\u001b[38;5;28;43mself\u001b[39;49m\u001b[38;5;241;43m.\u001b[39;49m\u001b[43m_parent_ident\u001b[49m\u001b[43m[\u001b[49m\u001b[38;5;124;43m\"\u001b[39;49m\u001b[38;5;124;43mshell\u001b[39;49m\u001b[38;5;124;43m\"\u001b[39;49m\u001b[43m]\u001b[49m\u001b[43m,\u001b[49m\n\u001b[0;32m   1178\u001b[0m \u001b[43m    \u001b[49m\u001b[38;5;28;43mself\u001b[39;49m\u001b[38;5;241;43m.\u001b[39;49m\u001b[43mget_parent\u001b[49m\u001b[43m(\u001b[49m\u001b[38;5;124;43m\"\u001b[39;49m\u001b[38;5;124;43mshell\u001b[39;49m\u001b[38;5;124;43m\"\u001b[39;49m\u001b[43m)\u001b[49m\u001b[43m,\u001b[49m\n\u001b[0;32m   1179\u001b[0m \u001b[43m    \u001b[49m\u001b[43mpassword\u001b[49m\u001b[38;5;241;43m=\u001b[39;49m\u001b[38;5;28;43;01mFalse\u001b[39;49;00m\u001b[43m,\u001b[49m\n\u001b[0;32m   1180\u001b[0m \u001b[43m\u001b[49m\u001b[43m)\u001b[49m\n",
      "File \u001b[1;32m~\\anaconda3\\lib\\site-packages\\ipykernel\\kernelbase.py:1217\u001b[0m, in \u001b[0;36mKernel._input_request\u001b[1;34m(self, prompt, ident, parent, password)\u001b[0m\n\u001b[0;32m   1214\u001b[0m             \u001b[38;5;28;01mbreak\u001b[39;00m\n\u001b[0;32m   1215\u001b[0m \u001b[38;5;28;01mexcept\u001b[39;00m \u001b[38;5;167;01mKeyboardInterrupt\u001b[39;00m:\n\u001b[0;32m   1216\u001b[0m     \u001b[38;5;66;03m# re-raise KeyboardInterrupt, to truncate traceback\u001b[39;00m\n\u001b[1;32m-> 1217\u001b[0m     \u001b[38;5;28;01mraise\u001b[39;00m \u001b[38;5;167;01mKeyboardInterrupt\u001b[39;00m(\u001b[38;5;124m\"\u001b[39m\u001b[38;5;124mInterrupted by user\u001b[39m\u001b[38;5;124m\"\u001b[39m) \u001b[38;5;28;01mfrom\u001b[39;00m \u001b[38;5;28mNone\u001b[39m\n\u001b[0;32m   1218\u001b[0m \u001b[38;5;28;01mexcept\u001b[39;00m \u001b[38;5;167;01mException\u001b[39;00m:\n\u001b[0;32m   1219\u001b[0m     \u001b[38;5;28mself\u001b[39m\u001b[38;5;241m.\u001b[39mlog\u001b[38;5;241m.\u001b[39mwarning(\u001b[38;5;124m\"\u001b[39m\u001b[38;5;124mInvalid Message:\u001b[39m\u001b[38;5;124m\"\u001b[39m, exc_info\u001b[38;5;241m=\u001b[39m\u001b[38;5;28;01mTrue\u001b[39;00m)\n",
      "\u001b[1;31mKeyboardInterrupt\u001b[0m: Interrupted by user"
     ]
    }
   ],
   "source": [
    "import statistics\n",
    "\n",
    "lst = []\n",
    "for i in range(10):\n",
    "    lst.append(int(input(f'number {i+1} = ')))\n",
    "    \n",
    "    print('mean =', statistics.mean(lst))\n",
    "    print('med =', statistics.median(lst))"
   ]
  },
  {
   "cell_type": "code",
   "execution_count": 27,
   "id": "b958da0d-6e49-4321-ab5d-08aa21a9814c",
   "metadata": {
    "tags": []
   },
   "outputs": [],
   "source": [
    "\n",
    "def is_prime(n):\n",
    "    if n==1:\n",
    "        return False\n",
    "    if n==2:\n",
    "        return True\n",
    "    for i in range(2, int(n**0.5)+1):\n",
    "        if n % i == 0:\n",
    "            return False\n",
    "    return True"
   ]
  },
  {
   "cell_type": "code",
   "execution_count": 28,
   "id": "0826a24e-b755-4648-a22e-8fd2d8be462c",
   "metadata": {
    "collapsed": true,
    "jupyter": {
     "outputs_hidden": true
    },
    "tags": []
   },
   "outputs": [
    {
     "data": {
      "text/plain": [
       "False"
      ]
     },
     "execution_count": 28,
     "metadata": {},
     "output_type": "execute_result"
    }
   ],
   "source": [
    "is_prime(123)"
   ]
  },
  {
   "cell_type": "markdown",
   "id": "e45f4219-3740-49af-add7-b0709a69c86d",
   "metadata": {
    "tags": []
   },
   "source": [
    "#### num = 0\n",
    "for _ in range(10):\n",
    "    num += is_prime(int(input()))"
   ]
  },
  {
   "cell_type": "code",
   "execution_count": 30,
   "id": "7cd2918b-7d5b-456a-809b-4fe05d94e7e8",
   "metadata": {
    "collapsed": true,
    "jupyter": {
     "outputs_hidden": true
    },
    "tags": []
   },
   "outputs": [
    {
     "name": "stdout",
     "output_type": "stream",
     "text": [
      "3\n"
     ]
    }
   ],
   "source": [
    "print(num)"
   ]
  },
  {
   "cell_type": "code",
   "execution_count": 32,
   "id": "f505dbdb-ea7e-4836-b8ce-e7c026db981c",
   "metadata": {
    "collapsed": true,
    "jupyter": {
     "outputs_hidden": true
    },
    "tags": []
   },
   "outputs": [
    {
     "name": "stdout",
     "output_type": "stream",
     "text": [
      "['3', '4', '5', '6']\n"
     ]
    }
   ],
   "source": [
    "lst = [3,4,5,6]\n",
    "\n",
    "lst1=[]\n",
    "for el in lst:\n",
    "    lst1.append(str(el))\n",
    "    \n",
    "print(lst1)"
   ]
  },
  {
   "cell_type": "code",
   "execution_count": 36,
   "id": "cea7c37d-bf56-4617-9f63-88c23bd36d7d",
   "metadata": {
    "collapsed": true,
    "jupyter": {
     "outputs_hidden": true
    },
    "tags": []
   },
   "outputs": [
    {
     "data": {
      "text/plain": [
       "['3', '4', '5', '6']"
      ]
     },
     "execution_count": 36,
     "metadata": {},
     "output_type": "execute_result"
    }
   ],
   "source": [
    "list(map(str,lst))"
   ]
  },
  {
   "cell_type": "code",
   "execution_count": 40,
   "id": "30726a53-5195-4835-b0bb-8201f10117b3",
   "metadata": {
    "collapsed": true,
    "jupyter": {
     "outputs_hidden": true
    },
    "tags": []
   },
   "outputs": [
    {
     "data": {
      "text/plain": [
       "[6, 8, 10, 12]"
      ]
     },
     "execution_count": 40,
     "metadata": {},
     "output_type": "execute_result"
    }
   ],
   "source": [
    "list(map(lambda x,y: x+y, lst,lst[:5]))"
   ]
  },
  {
   "cell_type": "code",
   "execution_count": 42,
   "id": "8e3b5c61-e351-482d-8c8b-96e85a226148",
   "metadata": {
    "collapsed": true,
    "jupyter": {
     "outputs_hidden": true
    },
    "tags": []
   },
   "outputs": [
    {
     "data": {
      "text/plain": [
       "[9, 16, 25, 36]"
      ]
     },
     "execution_count": 42,
     "metadata": {},
     "output_type": "execute_result"
    }
   ],
   "source": [
    "list(map(lambda x: x**2, lst))"
   ]
  },
  {
   "cell_type": "code",
   "execution_count": 43,
   "id": "f2b89845-602b-42ad-b427-4fec8551c413",
   "metadata": {
    "collapsed": true,
    "jupyter": {
     "outputs_hidden": true
    },
    "tags": []
   },
   "outputs": [
    {
     "data": {
      "text/plain": [
       "[3, 5]"
      ]
     },
     "execution_count": 43,
     "metadata": {},
     "output_type": "execute_result"
    }
   ],
   "source": [
    "list(filter(is_prime,lst))"
   ]
  },
  {
   "cell_type": "code",
   "execution_count": 45,
   "id": "a5d93d6a-4b1e-457d-9f71-ea103c3cc503",
   "metadata": {
    "collapsed": true,
    "jupyter": {
     "outputs_hidden": true
    },
    "tags": []
   },
   "outputs": [
    {
     "data": {
      "text/plain": [
       "['Bnm,,nb', 'Zxczxc', 'Qweqwe', 'Asda']"
      ]
     },
     "execution_count": 45,
     "metadata": {},
     "output_type": "execute_result"
    }
   ],
   "source": [
    "words = ['bnm,,nb','zxczxc','qweqwe','asda']\n",
    "\n",
    "list(map(lambda x: x[0].upper()+x[1:],words))"
   ]
  },
  {
   "cell_type": "code",
   "execution_count": 49,
   "id": "9743a7ee-c218-477d-a5bd-66f99cbf0414",
   "metadata": {
    "collapsed": true,
    "jupyter": {
     "outputs_hidden": true
    },
    "tags": []
   },
   "outputs": [
    {
     "data": {
      "text/plain": [
       "'bnm,,nb zxczxc qweqwe asda'"
      ]
     },
     "execution_count": 49,
     "metadata": {},
     "output_type": "execute_result"
    }
   ],
   "source": [
    "from functools import reduce\n",
    "\n",
    "reduce(lambda x,y: x+' '+y, words)"
   ]
  },
  {
   "cell_type": "code",
   "execution_count": 51,
   "id": "ce9d869d-411a-4d70-823e-5359b48b211a",
   "metadata": {
    "tags": []
   },
   "outputs": [
    {
     "name": "stdout",
     "output_type": "stream",
     "text": [
      "bnm,,nb zxczxc qweqwe asda\n"
     ]
    }
   ],
   "source": [
    "def f(x,y):\n",
    "    return x+' '+y\n",
    "\n",
    "res = words[0]\n",
    "for el in words[1:]:\n",
    "    res = f(res,el)\n",
    "print(res)"
   ]
  },
  {
   "cell_type": "code",
   "execution_count": 52,
   "id": "e2afdc47-4c3c-4157-8911-8c32b774ccc0",
   "metadata": {},
   "outputs": [
    {
     "data": {
      "text/plain": [
       "['asda', 'bnm,,nb', 'qweqwe', 'zxczxc']"
      ]
     },
     "execution_count": 52,
     "metadata": {},
     "output_type": "execute_result"
    }
   ],
   "source": [
    "sorted(words)"
   ]
  },
  {
   "cell_type": "code",
   "execution_count": null,
   "id": "2fb858cf-7268-4f7a-93f0-63c473611c32",
   "metadata": {},
   "outputs": [],
   "source": [
    "seed(123)\n",
    "x=[]\n",
    "for i in range(4):\n",
    "    y = []\n",
    "    for j in range(6)"
   ]
  },
  {
   "cell_type": "code",
   "execution_count": 57,
   "id": "eecd8dc7-7d9c-4eb6-8bbe-7c12c0114ef4",
   "metadata": {},
   "outputs": [
    {
     "name": "stdout",
     "output_type": "stream",
     "text": [
      "[1, 0, 1, 0, 0, 0, 1, 1, 1, 1, 0, 0, 0, 0, 1, 1, 1, 1, 1, 1, 1, 1, 0, 1, 0, 0, 0, 1, 1, 1, 1, 0, 1, 1, 0, 1, 0, 1, 0, 0, 1, 0, 0, 0, 0, 1, 1, 0, 1, 0, 0, 0, 0, 1, 1, 0, 0, 1, 0, 0, 0, 0, 1, 1, 0, 0, 1, 0, 1, 0, 0, 0, 1, 0, 1, 0, 1, 0, 1, 1, 1, 1, 0, 0, 0, 0, 0, 0, 0, 0, 1, 1, 1, 0, 1, 1, 1, 1, 1, 0]\n"
     ]
    }
   ],
   "source": [
    "from random import *\n",
    "x = []\n",
    "for _ in range(100):\n",
    "    x.append(randrange(2))\n",
    "print(x)"
   ]
  },
  {
   "cell_type": "code",
   "execution_count": null,
   "id": "c81d9f7a-5f6f-4dad-b4d3-64fe162db55b",
   "metadata": {},
   "outputs": [],
   "source": [
    "heads = x.count"
   ]
  },
  {
   "cell_type": "code",
   "execution_count": 58,
   "id": "c8b79db9-0528-4481-992b-c8722b1b1fa1",
   "metadata": {},
   "outputs": [
    {
     "ename": "NameError",
     "evalue": "name 'x2' is not defined",
     "output_type": "error",
     "traceback": [
      "\u001b[1;31m---------------------------------------------------------------------------\u001b[0m",
      "\u001b[1;31mNameError\u001b[0m                                 Traceback (most recent call last)",
      "Cell \u001b[1;32mIn[58], line 1\u001b[0m\n\u001b[1;32m----> 1\u001b[0m \u001b[43mx2\u001b[49m\n",
      "\u001b[1;31mNameError\u001b[0m: name 'x2' is not defined"
     ]
    }
   ],
   "source": [
    "x2\n"
   ]
  },
  {
   "cell_type": "code",
   "execution_count": 61,
   "id": "6c3857da-7fcf-4892-a14a-268194abcabd",
   "metadata": {},
   "outputs": [
    {
     "name": "stdout",
     "output_type": "stream",
     "text": [
      "{'Person 0': 2, 'Person 1': 11}\n"
     ]
    }
   ],
   "source": [
    "test = {'Person '+str(i):j if i == 0 else 11 for i in range (2) for j in range(3)}\n",
    "print(test)"
   ]
  },
  {
   "cell_type": "code",
   "execution_count": 62,
   "id": "832a26f4-4bb0-40f1-bbf2-6863ec5d8ccb",
   "metadata": {},
   "outputs": [
    {
     "data": {
      "text/plain": [
       "[1, 2, 3, 4, 5]"
      ]
     },
     "execution_count": 62,
     "metadata": {},
     "output_type": "execute_result"
    }
   ],
   "source": [
    "[i+1 for i in range(5)]"
   ]
  },
  {
   "cell_type": "code",
   "execution_count": 65,
   "id": "c7bc4314-32f5-46c0-9aa6-7c706c6edd4e",
   "metadata": {},
   "outputs": [
    {
     "ename": "IndentationError",
     "evalue": "expected an indented block after 'for' statement on line 4 (3500282126.py, line 5)",
     "output_type": "error",
     "traceback": [
      "\u001b[1;36m  Cell \u001b[1;32mIn[65], line 5\u001b[1;36m\u001b[0m\n\u001b[1;33m    print((y1[i],y2[i]))\u001b[0m\n\u001b[1;37m    ^\u001b[0m\n\u001b[1;31mIndentationError\u001b[0m\u001b[1;31m:\u001b[0m expected an indented block after 'for' statement on line 4\n"
     ]
    }
   ],
   "source": [
    "y1 = [1,2,3]\n",
    "y2 = ['one','two','three']\n",
    "\n",
    "for i in range(len(y1)):\n",
    "    print((y1[i],y2[i]))"
   ]
  },
  {
   "cell_type": "code",
   "execution_count": 3,
   "id": "ff4405fd-5d45-4e1e-a927-2402dbece4d6",
   "metadata": {},
   "outputs": [
    {
     "name": "stdin",
     "output_type": "stream",
     "text": [
      " 12\n",
      " 5\n"
     ]
    },
    {
     "name": "stdout",
     "output_type": "stream",
     "text": [
      "90.0\n"
     ]
    }
   ],
   "source": [
    "a = int(input())\n",
    "h = int(input())\n",
    " \n",
    "print(a*h*1.5)"
   ]
  },
  {
   "cell_type": "code",
   "execution_count": 7,
   "id": "222afe66-50c0-4517-941a-625cb3028f0c",
   "metadata": {},
   "outputs": [
    {
     "name": "stdin",
     "output_type": "stream",
     "text": [
      " 345\n"
     ]
    },
    {
     "name": "stdout",
     "output_type": "stream",
     "text": [
      "['3', '4', '5']\n"
     ]
    }
   ],
   "source": [
    "N = input()\n",
    "\n",
    "newN = []\n",
    "for i in range(3):\n",
    "  newN.append(N[i])\n",
    "print(newN) "
   ]
  },
  {
   "cell_type": "code",
   "execution_count": 15,
   "id": "ee62d5f1-deb9-40d9-8d6a-d4c26e365a88",
   "metadata": {
    "collapsed": true,
    "jupyter": {
     "outputs_hidden": true
    },
    "tags": []
   },
   "outputs": [
    {
     "name": "stdout",
     "output_type": "stream",
     "text": [
      "['My', 'favourite', 'tutor', 'in', 'academy', 'is', 'Ihor']\n",
      "7\n",
      "My Ihor\n"
     ]
    }
   ],
   "source": [
    "sentence = 'My favourite tutor in academy is Ihor'\n",
    "\n",
    "lst = sentence.split()\n",
    "\n",
    "print(lst)\n",
    "print(len(lst))\n",
    "print(lst[0]+' '+lst[len(lst)-1])"
   ]
  },
  {
   "cell_type": "code",
   "execution_count": 20,
   "id": "2e43bdf1-47c1-4237-9f91-013618479147",
   "metadata": {
    "collapsed": true,
    "jupyter": {
     "outputs_hidden": true
    },
    "tags": []
   },
   "outputs": [
    {
     "name": "stdin",
     "output_type": "stream",
     "text": [
      " asd\n",
      " 123\n"
     ]
    },
    {
     "name": "stdout",
     "output_type": "stream",
     "text": [
      "Діаметр планети  asd дорівнює  123\n"
     ]
    }
   ],
   "source": [
    "Planet  = input()\n",
    "Diament = input()\n",
    "\n",
    "print('Діаметр планети ',Planet+' '+'дорівнює ',Diament)"
   ]
  },
  {
   "cell_type": "code",
   "execution_count": 48,
   "id": "acc02b5c-29a4-4ebd-bfd0-22137b0dcffa",
   "metadata": {
    "collapsed": true,
    "jupyter": {
     "outputs_hidden": true
    },
    "tags": []
   },
   "outputs": [
    {
     "ename": "NameError",
     "evalue": "name 'randletter' is not defined",
     "output_type": "error",
     "traceback": [
      "\u001b[1;31m---------------------------------------------------------------------------\u001b[0m",
      "\u001b[1;31mNameError\u001b[0m                                 Traceback (most recent call last)",
      "Cell \u001b[1;32mIn[48], line 24\u001b[0m\n\u001b[0;32m     21\u001b[0m     x\u001b[38;5;241m.\u001b[39mappend(b7)   \n\u001b[0;32m     22\u001b[0m     \u001b[38;5;28;01mreturn\u001b[39;00m x\n\u001b[1;32m---> 24\u001b[0m \u001b[38;5;28mprint\u001b[39m(\u001b[43mmethPassw\u001b[49m\u001b[43m(\u001b[49m\u001b[43m)\u001b[49m)\n",
      "Cell \u001b[1;32mIn[48], line 7\u001b[0m, in \u001b[0;36mmethPassw\u001b[1;34m()\u001b[0m\n\u001b[0;32m      5\u001b[0m x \u001b[38;5;241m=\u001b[39m [] \n\u001b[0;32m      6\u001b[0m a \u001b[38;5;241m=\u001b[39m randint(\u001b[38;5;241m0\u001b[39m,\u001b[38;5;241m9\u001b[39m)\n\u001b[1;32m----> 7\u001b[0m b1 \u001b[38;5;241m=\u001b[39m \u001b[43mrandletter\u001b[49m(\u001b[38;5;124m'\u001b[39m\u001b[38;5;124ma\u001b[39m\u001b[38;5;124m'\u001b[39m, \u001b[38;5;124m'\u001b[39m\u001b[38;5;124mz\u001b[39m\u001b[38;5;124m'\u001b[39m)\n\u001b[0;32m      8\u001b[0m b2 \u001b[38;5;241m=\u001b[39m randletter(\u001b[38;5;124m'\u001b[39m\u001b[38;5;124ma\u001b[39m\u001b[38;5;124m'\u001b[39m, \u001b[38;5;124m'\u001b[39m\u001b[38;5;124mz\u001b[39m\u001b[38;5;124m'\u001b[39m)\n\u001b[0;32m      9\u001b[0m b3 \u001b[38;5;241m=\u001b[39m randletter(\u001b[38;5;124m'\u001b[39m\u001b[38;5;124ma\u001b[39m\u001b[38;5;124m'\u001b[39m, \u001b[38;5;124m'\u001b[39m\u001b[38;5;124mz\u001b[39m\u001b[38;5;124m'\u001b[39m)\n",
      "\u001b[1;31mNameError\u001b[0m: name 'randletter' is not defined"
     ]
    }
   ],
   "source": [
    "from random import *\n",
    "\n",
    "  \n",
    "def methPassw(): \n",
    "    x = [] \n",
    "    a = randint(0,9)\n",
    "    \n",
    "    \n",
    "    b1 = randletter('a', 'z')\n",
    "    b2 = randletter('a', 'z')\n",
    "    b3 = randletter('a', 'z')\n",
    "    b4 = randletter('a', 'z')\n",
    "    b5 = randletter('a', 'z')\n",
    "    b6 = randletter('a', 'z')\n",
    "    b7 = randletter('a', 'z')\n",
    "    x.append(a)\n",
    "    x.append(b1)\n",
    "    x.append(b2)\n",
    "    x.append(b3)\n",
    "    x.append(b4)\n",
    "    x.append(b5)\n",
    "    x.append(b6)\n",
    "    x.append(b7)   \n",
    "    return x\n",
    " \n",
    "print(methPassw())                                          \n",
    "                                               "
   ]
  },
  {
   "cell_type": "code",
   "execution_count": 105,
   "id": "c86206ea-b994-4838-95e4-137c1de6e37e",
   "metadata": {
    "collapsed": true,
    "jupyter": {
     "outputs_hidden": true
    },
    "tags": []
   },
   "outputs": [
    {
     "ename": "SyntaxError",
     "evalue": "invalid syntax (2611299002.py, line 5)",
     "output_type": "error",
     "traceback": [
      "\u001b[1;36m  Cell \u001b[1;32mIn[107], line 5\u001b[1;36m\u001b[0m\n\u001b[1;33m    text = random.choice(string.ascii_lowercase + string.digits if i != 5 else string.ascii_uppercase) for i in range(10)\u001b[0m\n\u001b[1;37m                                                                                                       ^\u001b[0m\n\u001b[1;31mSyntaxError\u001b[0m\u001b[1;31m:\u001b[0m invalid syntax\n"
     ]
    }
   ],
   "source": [
    "import random\n",
    "import string\n",
    "\n",
    "def methPassw(): \n",
    "    text = [random.choice(string.ascii_lowercase + string.digits if i != 5 else string.ascii_uppercase) for i in range(10)]  \n",
    "    return (text)"
   ]
  },
  {
   "cell_type": "code",
   "execution_count": 106,
   "id": "d64d4cf9-ac55-458e-be6c-d1ba4e01b902",
   "metadata": {},
   "outputs": [
    {
     "name": "stdout",
     "output_type": "stream",
     "text": [
      "['7', 'g', 'y', 'p', 'w', 'C', 'l', 'u', '7', '4']\n"
     ]
    }
   ],
   "source": [
    "print(methPassw())"
   ]
  },
  {
   "cell_type": "code",
   "execution_count": 110,
   "id": "1792febf-0f4c-49d5-8d2e-bcf97d5de1ed",
   "metadata": {
    "collapsed": true,
    "jupyter": {
     "outputs_hidden": true
    },
    "tags": []
   },
   "outputs": [
    {
     "ename": "IndentationError",
     "evalue": "unexpected indent (1751179338.py, line 3)",
     "output_type": "error",
     "traceback": [
      "\u001b[1;36m  Cell \u001b[1;32mIn[110], line 3\u001b[1;36m\u001b[0m\n\u001b[1;33m    for  methPassw[i] in string.digits:\u001b[0m\n\u001b[1;37m    ^\u001b[0m\n\u001b[1;31mIndentationError\u001b[0m\u001b[1;31m:\u001b[0m unexpected indent\n"
     ]
    }
   ],
   "source": [
    " def CheckMethPassw (methPassw):\n",
    "        for i in range(len(methPassw)): []\n",
    "             for  methPassw[i] in string.digits:\n",
    "                    for methPassw[i] in string.ascii_lowercase:\n",
    "                        for methPassw[i] in string.ascii_uppercase:\n",
    "                            return 'OK' "
   ]
  },
  {
   "cell_type": "code",
   "execution_count": 101,
   "id": "a42a7ac4-dd3b-40e0-b903-70c11dc3bd1d",
   "metadata": {
    "collapsed": true,
    "jupyter": {
     "outputs_hidden": true
    },
    "tags": []
   },
   "outputs": [
    {
     "name": "stdout",
     "output_type": "stream",
     "text": [
      "<function CheckMethPassw at 0x0000019957B7B7F0>\n"
     ]
    }
   ],
   "source": [
    "print(CheckMethPassw())"
   ]
  },
  {
   "cell_type": "code",
   "execution_count": 45,
   "id": "ef6fd00d-784e-4073-9696-815557bb2fc1",
   "metadata": {
    "collapsed": true,
    "jupyter": {
     "outputs_hidden": true
    },
    "tags": []
   },
   "outputs": [
    {
     "name": "stdout",
     "output_type": "stream",
     "text": [
      "[21, -58, -79, -27, 63, 86, -98, 33, -93, -77, 25, 7, -37, -3, -56, -78, 70, 95, 5, -94]\n",
      "-14.75\n",
      "[-94, -58, -79, -27, -98, -93, -77, -37, -56, -78]\n",
      "[]\n",
      "[21, 63, 86, 33, 25, 7, -3, 70, 95, 5]\n"
     ]
    }
   ],
   "source": [
    "from random import *\n",
    "import   statistics  \n",
    "\n",
    "\n",
    "a = []\n",
    "b_MEAN = int\n",
    "c_LowerMean = []\n",
    "d_EquelsMean = []\n",
    "E_UpperMean = []\n",
    "for i in range(20): \n",
    "    b = randint(-100,100)\n",
    "    a.append(b)\n",
    "    \n",
    "b_MEAN = statistics.mean(a)\n",
    "\n",
    "for i2 in range(20):\n",
    "    if a[i2-1] <= b_MEAN:\n",
    "        c_LowerMean.append(a[i2-1]) \n",
    "    if a[i2-1] == b_MEAN:\n",
    "        d_EquelsMean.append(a[i2-1]) \n",
    "    if a[i2-1] >= b_MEAN:   \n",
    "        E_UpperMean.append(a[i2-1]) \n",
    "        \n",
    "print(a)\n",
    "print(b_MEAN)\n",
    "print(c_LowerMean)\n",
    "print(d_EquelsMean)\n",
    "print(E_UpperMean)\n",
    "\n"
   ]
  },
  {
   "cell_type": "code",
   "execution_count": 108,
   "id": "82a134b7-f451-4a5c-ae53-e3df42022d65",
   "metadata": {
    "collapsed": true,
    "jupyter": {
     "outputs_hidden": true
    },
    "tags": []
   },
   "outputs": [
    {
     "name": "stdout",
     "output_type": "stream",
     "text": [
      "a_8_nums:  [1000, 8, 16, 24, 32, 40, 48, 56, 64, 72, 80, 88, 96, 104, 112, 120, 128, 136, 144, 152, 160, 168, 176, 184, 192, 200, 208, 216, 224, 232, 240, 248, 256, 264, 272, 280, 288, 296, 304, 312, 320, 328, 336, 344, 352, 360, 368, 376, 384, 392, 400, 408, 416, 424, 432, 440, 448, 456, 464, 472, 480, 488, 496, 504, 512, 520, 528, 536, 544, 552, 560, 568, 576, 584, 592, 600, 608, 616, 624, 632, 640, 648, 656, 664, 672, 680, 688, 696, 704, 712, 720, 728, 736, 744, 752, 760, 768, 776, 784, 792, 800, 808, 816, 824, 832, 840, 848, 856, 864, 872, 880, 888, 896, 904, 912, 920, 928, 936, 944, 952, 960, 968, 976, 984, 992]\n",
      "b_6_nums:  [6]\n",
      "test:  ['Practice', 'Following', 'Problems', 'to', 'Drill', 'List', 'Comprehension', 'in', 'Your', 'Head.']\n",
      "a_5_string:  ['to', 'List', 'in', 'Your']\n",
      "a_5_string:  [5, 8, 9, 8, 2, 5, 4, 13, 2, 4]\n",
      "a_5_string:  [13, 23, 26, 37, 39, 46, 52, 65, 69, 74, 78, 91, 92, 104, 111, 115, 117, 130, 138, 143, 148, 156, 161, 169, 182, 184, 185, 195, 207, 208, 221, 222, 230, 234, 247, 253, 259, 260, 273, 276, 286, 296, 299, 299, 312, 322, 325, 333, 338, 345, 351, 364, 368, 370, 377, 390, 391, 403, 407, 414, 416, 429, 437, 442, 444, 455, 460, 468, 481, 481, 483, 494, 506, 507, 518, 520, 529, 533, 546, 552, 555, 559, 572, 575, 585, 592, 598, 598, 611, 621, 624, 629, 637, 644, 650, 663, 666, 667, 676, 689, 690, 702, 703, 713, 715, 728, 736, 740, 741, 754, 759, 767, 777, 780, 782, 793, 805, 806, 814, 819, 828, 832, 845, 851, 851, 858, 871, 874, 884, 888, 897, 897, 910, 920, 923, 925, 936, 943, 949, 962, 962, 966, 975, 988, 989, 999]\n"
     ]
    }
   ],
   "source": [
    "nums = [i for i in range(1,1001)]\n",
    "string = \"Practice Following Problems to Drill List Comprehension in Your Head.\"\n",
    "\n",
    "a_8_nums = []\n",
    "b_6_nums = [] \n",
    "a_5_string = []\n",
    "a_5_LEN_string = []\n",
    "a_13_23_37_num = []\n",
    "\n",
    "\n",
    "for i in range(len(nums)):\n",
    "    if nums[i-1] >= 1:\n",
    "        if nums[i-1] <= 1000: \n",
    "            \n",
    "            for i3 in range(9):\n",
    "                if nums[i-1]%i3 == 0:\n",
    "                    \n",
    "                вот тут не ясно\n",
    "            #6)* Для кожного числа від  до  знайдіть найбільше одноцифрове число (), на яке воно ділиться.\n",
    "            \n",
    "            \n",
    "            \n",
    "            \n",
    "            if nums[i-1]%8==0:\n",
    "                a_8_nums.append(nums[i-1]) \n",
    "                \n",
    "            if nums[i-1]==6:\n",
    "                    b_6_nums.append(nums[i-1]) \n",
    "            if nums[i-1]%13==0:\n",
    "                    a_13_23_37_num.append(nums[i-1]) \n",
    "            if nums[i-1]%23==0:\n",
    "                    a_13_23_37_num.append(nums[i-1]) \n",
    "            if nums[i-1]%37==0:\n",
    "                    a_13_23_37_num.append(nums[i-1])     \n",
    "                    \n",
    "splitString = string.split()\n",
    "\n",
    "for i in range(len(splitString)):\n",
    "    a_5_LEN_string.append((len(splitString[i-1])))\n",
    "    \n",
    "    if len(splitString[i-1]) <5:\n",
    "        a_5_string.append(splitString[i-1])\n",
    "        \n",
    "    \n",
    "        \n",
    "        \n",
    "print('a_8_nums: ',a_8_nums)\n",
    "print('b_6_nums: ',b_6_nums)  \n",
    "print('a_5_string: ',a_5_string)  \n",
    "print('a_5_LEN_string: ',a_5_LEN_string)  \n",
    "print('a_13_23_37_num: ',a_13_23_37_num)  \n",
    "\n"
   ]
  },
  {
   "cell_type": "code",
   "execution_count": null,
   "id": "82f6edf6-7bba-4513-8a32-c9a7e4528291",
   "metadata": {
    "tags": []
   },
   "outputs": [
    {
     "name": "stdout",
     "output_type": "stream",
     "text": [
      "k R\n"
     ]
    }
   ],
   "source": [
    "import random\n",
    " \n",
    "# генерирует случайную букву в диапазоне x - y\n",
    "def randletter(x, y):\n",
    "    return chr(random.randint(ord(x), ord(y)))\n",
    "    \n",
    " \n",
    "    r = randletter('a', 'z')\n",
    " \n",
    "    # генерирует случайную букву в диапазоне `A-Z`\n",
    "    R = randletter('A', 'Z')\n",
    "  \n",
    "print(r, R)"
   ]
  },
  {
   "cell_type": "code",
   "execution_count": null,
   "id": "88b79ded-cb9b-4a7b-b20f-10ce606973d1",
   "metadata": {},
   "outputs": [],
   "source": []
  },
  {
   "cell_type": "code",
   "execution_count": null,
   "id": "c0525024-2aa2-49d1-9026-2587d1208752",
   "metadata": {},
   "outputs": [],
   "source": []
  },
  {
   "cell_type": "code",
   "execution_count": 41,
   "id": "3e876055-c732-4415-87b6-84c60b179a2c",
   "metadata": {
    "tags": []
   },
   "outputs": [
    {
     "name": "stdout",
     "output_type": "stream",
     "text": [
      "th\n",
      "ac\n",
      "['i\\n', '\\n', 'ывфв\\n', '\\n', 'itachi naruto']\n",
      "asd thaci\n",
      "\n",
      "ывфв\n",
      "\n",
      "itachi naruto\n",
      "[]\n",
      "['thaci', 'ывфв', 'itachi', 'naruto']\n"
     ]
    },
    {
     "data": {
      "text/plain": [
       "30"
      ]
     },
     "execution_count": 41,
     "metadata": {},
     "output_type": "execute_result"
    }
   ],
   "source": [
    "\n",
    "f = open('test1.txt',encoding='UTF-8')\n",
    "print(f.read(2))\n",
    "print(f.read(2))\n",
    "print(f.readlines())\n",
    "f.seek(0)\n",
    "\n",
    "\n",
    "print('asd', f.read())\n",
    "\n",
    "f.seek(0)\n",
    "s = f.read()\n",
    "\n",
    "s1 = s.split() \n",
    "    \n",
    "print(f.readlines())\n",
    "print(s1)\n",
    "\n",
    "f.tell()\n"
   ]
  },
  {
   "cell_type": "code",
   "execution_count": 58,
   "id": "5ef413d2-026f-49a9-b677-267446636457",
   "metadata": {},
   "outputs": [
    {
     "name": "stdout",
     "output_type": "stream",
     "text": [
      "thaci\n",
      "\n",
      "ывфв\n",
      "\n",
      "itachi narutoSASKESASKE\n",
      "thaci\n",
      "\n",
      "С‹РІС„РІ\n",
      "\n",
      "itachi narutoSASKESASKE\n"
     ]
    }
   ],
   "source": [
    "f = open('test3.txt', encoding = 'UTF-8', mode = 'w')\n",
    "k = open('test1.txt')\n",
    "\n",
    "f.write(k.read()) \n",
    "\n",
    "S = open('test1.txt', encoding = 'UTF-8')\n",
    "Q = open('test3.txt', encoding = 'UTF-8')\n",
    "\n",
    "\n",
    "f.seek(0)\n",
    "\n",
    "print(S.read())\n",
    "print(Q.read())\n",
    "\n",
    "f.close()\n",
    "k.close()\n",
    "S.close()\n",
    "Q.close()\n",
    " "
   ]
  },
  {
   "cell_type": "code",
   "execution_count": 57,
   "id": "bdfd831c-e432-415f-8332-680a44aa226d",
   "metadata": {},
   "outputs": [
    {
     "data": {
      "text/plain": [
       "'thaci\\n\\nС‹РІС„РІ\\n\\nitachi narutoSASKESASKE'"
      ]
     },
     "execution_count": 57,
     "metadata": {},
     "output_type": "execute_result"
    }
   ],
   "source": [
    "f = open('test3.txt', encoding = 'UTF-8', mode = 'r')\n",
    "f.read()"
   ]
  },
  {
   "cell_type": "code",
   "execution_count": 62,
   "id": "d771f86e-dad3-420b-8cef-44e77c83bafa",
   "metadata": {},
   "outputs": [],
   "source": [
    "import pickle as pkl\n",
    "\n",
    "f =  open('test3.txt', encoding = 'UTF-8', mode = 'r')\n",
    "lines = f.read()\n",
    "\n",
    "with open('lines.pickle', mode = 'wb') as f:\n",
    "    pickle.dump(lines,f)\n",
    "\n"
   ]
  },
  {
   "cell_type": "code",
   "execution_count": 65,
   "id": "bdd8bc4b-85d3-46a0-8915-f57e6f34d1da",
   "metadata": {},
   "outputs": [
    {
     "data": {
      "text/plain": [
       "'thaci\\n\\nС‹РІС„РІ\\n\\nitachi narutoSASKESASKE'"
      ]
     },
     "execution_count": 65,
     "metadata": {},
     "output_type": "execute_result"
    }
   ],
   "source": [
    "with open('lines.pickle', mode = 'rb') as f:\n",
    "    lines1 = pickle.load(f)\n",
    "\n",
    "lines1"
   ]
  },
  {
   "cell_type": "code",
   "execution_count": 69,
   "id": "a60aef9a-757b-4794-bcab-9c4e8779d63c",
   "metadata": {},
   "outputs": [
    {
     "name": "stdout",
     "output_type": "stream",
     "text": [
      "Persin 1\n"
     ]
    }
   ],
   "source": [
    "class Person():\n",
    "    def __init__ (self,name):\n",
    "        self.name = name\n",
    "    def __str__(self):\n",
    "        return self.name\n",
    "    \n",
    "p=Person('Persin 1')\n",
    "\n",
    "print(p)"
   ]
  },
  {
   "cell_type": "code",
   "execution_count": 73,
   "id": "9bd0285c-c2ed-4ce0-8a70-6685c758fb20",
   "metadata": {},
   "outputs": [],
   "source": [
    "import csv\n",
    "from random import *"
   ]
  },
  {
   "cell_type": "code",
   "execution_count": 74,
   "id": "c7916e59-9fe6-48e6-adf1-022d005e9d92",
   "metadata": {},
   "outputs": [
    {
     "data": {
      "text/plain": [
       "[[17, 26, 11, 47],\n",
       " [26, 19, 59, 41],\n",
       " [54, 40, 66, 32],\n",
       " [22, 44, 0, 52],\n",
       " [7, 8, 82, 10]]"
      ]
     },
     "execution_count": 74,
     "metadata": {},
     "output_type": "execute_result"
    }
   ],
   "source": [
    "matrix = [[randint(0,100) for _ in range(4)] for _ in range(5)]\n",
    "matrix\n"
   ]
  },
  {
   "cell_type": "code",
   "execution_count": 76,
   "id": "ae3087fc-c58d-4d04-8937-e6bfd3009e06",
   "metadata": {},
   "outputs": [],
   "source": [
    "with open('matrix.csv', 'w') as f:\n",
    "    file_csv=csv.writer(f)\n",
    "    file_csv.writerows(matrix)"
   ]
  },
  {
   "cell_type": "code",
   "execution_count": 77,
   "id": "270da512-7e71-4d7e-ab5b-9b1e1b62af03",
   "metadata": {},
   "outputs": [
    {
     "data": {
      "text/plain": [
       "[['17', '26', '11', '47'],\n",
       " [],\n",
       " ['26', '19', '59', '41'],\n",
       " [],\n",
       " ['54', '40', '66', '32'],\n",
       " [],\n",
       " ['22', '44', '0', '52'],\n",
       " [],\n",
       " ['7', '8', '82', '10'],\n",
       " []]"
      ]
     },
     "execution_count": 77,
     "metadata": {},
     "output_type": "execute_result"
    }
   ],
   "source": [
    "with open('matrix.csv','r') as f:\n",
    "    file_csv = csv.reader(f)\n",
    "    date = list(file_csv)\n",
    "    \n",
    "date"
   ]
  },
  {
   "cell_type": "code",
   "execution_count": 81,
   "id": "5a9f9a93-b00d-4339-a653-426bef4ec227",
   "metadata": {},
   "outputs": [
    {
     "data": {
      "text/plain": [
       "<_csv.reader at 0x19e9e320d00>"
      ]
     },
     "execution_count": 81,
     "metadata": {},
     "output_type": "execute_result"
    }
   ],
   "source": [
    "file_csv"
   ]
  },
  {
   "cell_type": "code",
   "execution_count": 84,
   "id": "4992ca36-ad8f-4068-a20b-0232b876cdcf",
   "metadata": {},
   "outputs": [
    {
     "data": {
      "text/plain": [
       "68"
      ]
     },
     "execution_count": 84,
     "metadata": {},
     "output_type": "execute_result"
    }
   ],
   "source": [
    "with open('owid-covid-codebook.csv','r') as f:\n",
    "    file_csv = csv.reader(f)\n",
    "    date = list(file_csv)\n",
    "    \n",
    "len(date)"
   ]
  },
  {
   "cell_type": "code",
   "execution_count": 85,
   "id": "dcad65ec-682d-4147-a2cc-a0ecc9b9dfc1",
   "metadata": {
    "collapsed": true,
    "jupyter": {
     "outputs_hidden": true
    },
    "tags": []
   },
   "outputs": [
    {
     "data": {
      "text/plain": [
       "[['column', 'source', 'category', 'description'],\n",
       " ['iso_code',\n",
       "  'International Organization for Standardization',\n",
       "  'Others',\n",
       "  \"ISO 3166-1 alpha-3 вЂ“ three-letter country codes. Note that OWID-defined regions (e.g. continents like 'Europe') contain prefix 'OWID_'.\"],\n",
       " ['continent',\n",
       "  'Our World in Data',\n",
       "  'Others',\n",
       "  'Continent of the geographical location'],\n",
       " ['location', 'Our World in Data', 'Others', 'Geographical location'],\n",
       " ['date', 'Our World in Data', 'Others', 'Date of observation'],\n",
       " ['total_cases',\n",
       "  'COVID-19 Dashboard by the WHO',\n",
       "  'Confirmed cases',\n",
       "  'Total confirmed cases of COVID-19. Counts can include probable cases, where reported.'],\n",
       " ['new_cases',\n",
       "  'COVID-19 Dashboard by the WHO',\n",
       "  'Confirmed cases',\n",
       "  'New confirmed cases of COVID-19. Counts can include probable cases, where reported. In rare cases where our source reports a negative daily change due to a data correction, we set this metric to NA.'],\n",
       " ['new_cases_smoothed',\n",
       "  'COVID-19 Dashboard by the WHO',\n",
       "  'Confirmed cases',\n",
       "  'New confirmed cases of COVID-19 (7-day smoothed). Counts can include probable cases, where reported.'],\n",
       " ['total_deaths',\n",
       "  'COVID-19 Dashboard by the WHO',\n",
       "  'Confirmed deaths',\n",
       "  'Total deaths attributed to COVID-19. Counts can include probable deaths, where reported.'],\n",
       " ['new_deaths',\n",
       "  'COVID-19 Dashboard by the WHO',\n",
       "  'Confirmed deaths',\n",
       "  'New deaths attributed to COVID-19. Counts can include probable deaths, where reported. In rare cases where our source reports a negative daily change due to a data correction, we set this metric to NA.'],\n",
       " ['new_deaths_smoothed',\n",
       "  'COVID-19 Dashboard by the WHO',\n",
       "  'Confirmed deaths',\n",
       "  'New deaths attributed to COVID-19 (7-day smoothed). Counts can include probable deaths, where reported.'],\n",
       " ['total_cases_per_million',\n",
       "  'COVID-19 Dashboard by the WHO',\n",
       "  'Confirmed cases',\n",
       "  'Total confirmed cases of COVID-19 per 1,000,000 people. Counts can include probable cases, where reported.'],\n",
       " ['new_cases_per_million',\n",
       "  'COVID-19 Dashboard by the WHO',\n",
       "  'Confirmed cases',\n",
       "  'New confirmed cases of COVID-19 per 1,000,000 people. Counts can include probable cases, where reported.'],\n",
       " ['new_cases_smoothed_per_million',\n",
       "  'COVID-19 Dashboard by the WHO',\n",
       "  'Confirmed cases',\n",
       "  'New confirmed cases of COVID-19 (7-day smoothed) per 1,000,000 people. Counts can include probable cases, where reported.'],\n",
       " ['total_deaths_per_million',\n",
       "  'COVID-19 Dashboard by the WHO',\n",
       "  'Confirmed deaths',\n",
       "  'Total deaths attributed to COVID-19 per 1,000,000 people. Counts can include probable deaths, where reported.'],\n",
       " ['new_deaths_per_million',\n",
       "  'COVID-19 Dashboard by the WHO',\n",
       "  'Confirmed deaths',\n",
       "  'New deaths attributed to COVID-19 per 1,000,000 people. Counts can include probable deaths, where reported.'],\n",
       " ['new_deaths_smoothed_per_million',\n",
       "  'COVID-19 Dashboard by the WHO',\n",
       "  'Confirmed deaths',\n",
       "  'New deaths attributed to COVID-19 (7-day smoothed) per 1,000,000 people. Counts can include probable deaths, where reported.'],\n",
       " ['reproduction_rate',\n",
       "  'Arroyo Marioli et al. (2020). https://doi.org/10.2139/ssrn.3581633',\n",
       "  'Reproduction rate',\n",
       "  'Real-time estimate of the effective reproduction rate (R) of COVID-19. See https://github.com/crondonm/TrackingR/tree/main/Estimates-Database'],\n",
       " ['icu_patients',\n",
       "  'National government reports and European CDC',\n",
       "  'Hospital & ICU',\n",
       "  'Number of COVID-19 patients in intensive care units (ICUs) on a given day'],\n",
       " ['icu_patients_per_million',\n",
       "  'National government reports and European CDC',\n",
       "  'Hospital & ICU',\n",
       "  'Number of COVID-19 patients in intensive care units (ICUs) on a given day per 1,000,000 people'],\n",
       " ['hosp_patients',\n",
       "  'National government reports and European CDC',\n",
       "  'Hospital & ICU',\n",
       "  'Number of COVID-19 patients in hospital on a given day'],\n",
       " ['hosp_patients_per_million',\n",
       "  'National government reports and European CDC',\n",
       "  'Hospital & ICU',\n",
       "  'Number of COVID-19 patients in hospital on a given day per 1,000,000 people'],\n",
       " ['weekly_icu_admissions',\n",
       "  'National government reports and European CDC',\n",
       "  'Hospital & ICU',\n",
       "  'Number of COVID-19 patients newly admitted to intensive care units (ICUs) in a given week (reporting date and the preceeding 6 days)'],\n",
       " ['weekly_icu_admissions_per_million',\n",
       "  'National government reports and European CDC',\n",
       "  'Hospital & ICU',\n",
       "  'Number of COVID-19 patients newly admitted to intensive care units (ICUs) in a given week per 1,000,000 people (reporting date and the preceeding 6 days)'],\n",
       " ['weekly_hosp_admissions',\n",
       "  'National government reports and European CDC',\n",
       "  'Hospital & ICU',\n",
       "  'Number of COVID-19 patients newly admitted to hospitals in a given week (reporting date and the preceeding 6 days)'],\n",
       " ['weekly_hosp_admissions_per_million',\n",
       "  'National government reports and European CDC',\n",
       "  'Hospital & ICU',\n",
       "  'Number of COVID-19 patients newly admitted to hospitals in a given week per 1,000,000 people (reporting date and the preceeding 6 days)'],\n",
       " ['total_tests',\n",
       "  'National government reports',\n",
       "  'Tests & positivity',\n",
       "  'Total tests for COVID-19'],\n",
       " ['new_tests',\n",
       "  'National government reports',\n",
       "  'Tests & positivity',\n",
       "  'New tests for COVID-19 (only calculated for consecutive days)'],\n",
       " ['total_tests_per_thousand',\n",
       "  'National government reports',\n",
       "  'Tests & positivity',\n",
       "  'Total tests for COVID-19 per 1,000 people'],\n",
       " ['new_tests_per_thousand',\n",
       "  'National government reports',\n",
       "  'Tests & positivity',\n",
       "  'New tests for COVID-19 per 1,000 people'],\n",
       " ['new_tests_smoothed',\n",
       "  'National government reports',\n",
       "  'Tests & positivity',\n",
       "  \"New tests for COVID-19 (7-day smoothed). For countries that don't report testing data on a daily basis, we assume that testing changed equally on a daily basis over any periods in which no data was reported. This produces a complete series of daily figures, which is then averaged over a rolling 7-day window\"],\n",
       " ['new_tests_smoothed_per_thousand',\n",
       "  'National government reports',\n",
       "  'Tests & positivity',\n",
       "  'New tests for COVID-19 (7-day smoothed) per 1,000 people'],\n",
       " ['positive_rate',\n",
       "  'National government reports',\n",
       "  'Tests & positivity',\n",
       "  'The share of COVID-19 tests that are positive, given as a rolling 7-day average (this is the inverse of tests_per_case)'],\n",
       " ['tests_per_case',\n",
       "  'National government reports',\n",
       "  'Tests & positivity',\n",
       "  'Tests conducted per new confirmed case of COVID-19, given as a rolling 7-day average (this is the inverse of positive_rate)'],\n",
       " ['tests_units',\n",
       "  'National government reports',\n",
       "  'Tests & positivity',\n",
       "  \"Units used by the location to report its testing data. A country file can't contain mixed units. All metrics concerning testing data use the specified test unit. Valid units are 'people tested' (number of people tested), 'tests performed' (number of tests performed. a single person can be tested more than once in a given day) and 'samples tested' (number of samples tested. In some cases, more than one sample may be required to perform a given test.)\"],\n",
       " ['total_vaccinations',\n",
       "  'National government reports',\n",
       "  'Vaccinations',\n",
       "  'Total number of COVID-19 vaccination doses administered'],\n",
       " ['people_vaccinated',\n",
       "  'National government reports',\n",
       "  'Vaccinations',\n",
       "  'Total number of people who received at least one vaccine dose'],\n",
       " ['people_fully_vaccinated',\n",
       "  'National government reports',\n",
       "  'Vaccinations',\n",
       "  'Total number of people who received all doses prescribed by the initial vaccination protocol'],\n",
       " ['total_boosters',\n",
       "  'National government reports',\n",
       "  'Vaccinations',\n",
       "  'Total number of COVID-19 vaccination booster doses administered (doses administered beyond the number prescribed by the vaccination protocol)'],\n",
       " ['new_vaccinations',\n",
       "  'National government reports',\n",
       "  'Vaccinations',\n",
       "  'New COVID-19 vaccination doses administered (only calculated for consecutive days)'],\n",
       " ['new_vaccinations_smoothed',\n",
       "  'National government reports',\n",
       "  'Vaccinations',\n",
       "  \"New COVID-19 vaccination doses administered (7-day smoothed). For countries that don't report vaccination data on a daily basis, we assume that vaccination changed equally on a daily basis over any periods in which no data was reported. This produces a complete series of daily figures, which is then averaged over a rolling 7-day window\"],\n",
       " ['total_vaccinations_per_hundred',\n",
       "  'National government reports',\n",
       "  'Vaccinations',\n",
       "  'Total number of COVID-19 vaccination doses administered per 100 people in the total population'],\n",
       " ['people_vaccinated_per_hundred',\n",
       "  'National government reports',\n",
       "  'Vaccinations',\n",
       "  'Total number of people who received at least one vaccine dose per 100 people in the total population'],\n",
       " ['people_fully_vaccinated_per_hundred',\n",
       "  'National government reports',\n",
       "  'Vaccinations',\n",
       "  'Total number of people who received all doses prescribed by the initial vaccination protocol per 100 people in the total population'],\n",
       " ['total_boosters_per_hundred',\n",
       "  'National government reports',\n",
       "  'Vaccinations',\n",
       "  'Total number of COVID-19 vaccination booster doses administered per 100 people in the total population'],\n",
       " ['new_vaccinations_smoothed_per_million',\n",
       "  'National government reports',\n",
       "  'Vaccinations',\n",
       "  'New COVID-19 vaccination doses administered (7-day smoothed) per 1,000,000 people in the total population'],\n",
       " ['new_people_vaccinated_smoothed',\n",
       "  'National government reports',\n",
       "  'Vaccinations',\n",
       "  'Daily number of people receiving their first vaccine dose (7-day smoothed)'],\n",
       " ['new_people_vaccinated_smoothed_per_hundred',\n",
       "  'National government reports',\n",
       "  'Vaccinations',\n",
       "  'Daily number of people receiving their first vaccine dose (7-day smoothed) per 100 people in the total population'],\n",
       " ['stringency_index',\n",
       "  'Oxford COVID-19 Government Response Tracker, Blavatnik School of Government',\n",
       "  'Policy responses',\n",
       "  'Government Response Stringency Index: composite measure based on 9 response indicators including school closures, workplace closures, and travel bans, rescaled to a value from 0 to 100 (100 = strictest response)'],\n",
       " ['population',\n",
       "  'United Nations, Department of Economic and Social Affairs, Population Division, World Population Prospects 2019 Revision',\n",
       "  'Others',\n",
       "  'Population (latest available values). See https://github.com/owid/covid-19-data/blob/master/scripts/input/un/population_latest.csv for full list of sources'],\n",
       " ['population_density',\n",
       "  'World Bank World Development Indicators, sourced from Food and Agriculture Organization and World Bank estimates',\n",
       "  'Others',\n",
       "  'Number of people divided by land area, measured in square kilometers, most recent year available'],\n",
       " ['median_age',\n",
       "  'UN Population Division, World Population Prospects, 2017 Revision',\n",
       "  'Others',\n",
       "  'Median age of the population, UN projection for 2020'],\n",
       " ['aged_65_older',\n",
       "  'World Bank World Development Indicators based on age/sex distributions of United Nations World Population Prospects 2017 Revision',\n",
       "  'Others',\n",
       "  'Share of the population that is 65 years and older, most recent year available'],\n",
       " ['aged_70_older',\n",
       "  'United Nations, Department of Economic and Social Affairs, Population Division (2017), World Population Prospects 2017 Revision',\n",
       "  'Others',\n",
       "  'Share of the population that is 70 years and older in 2015'],\n",
       " ['gdp_per_capita',\n",
       "  'World Bank World Development Indicators, source from World Bank, International Comparison Program database',\n",
       "  'Others',\n",
       "  'Gross domestic product at purchasing power parity (constant 2011 international dollars), most recent year available'],\n",
       " ['extreme_poverty',\n",
       "  'World Bank World Development Indicators, sourced from World Bank Development Research Group',\n",
       "  'Others',\n",
       "  'Share of the population living in extreme poverty, most recent year available since 2010'],\n",
       " ['cardiovasc_death_rate',\n",
       "  'Global Burden of Disease Collaborative Network, Global Burden of Disease Study 2017 Results',\n",
       "  'Others',\n",
       "  'Death rate from cardiovascular disease in 2017 (annual number of deaths per 100,000 people)'],\n",
       " ['diabetes_prevalence',\n",
       "  'World Bank World Development Indicators, sourced from International Diabetes Federation, Diabetes Atlas',\n",
       "  'Others',\n",
       "  'Diabetes prevalence (% of population aged 20 to 79) in 2017'],\n",
       " ['female_smokers',\n",
       "  'World Bank World Development Indicators, sourced from World Health Organization, Global Health Observatory Data Repository',\n",
       "  'Others',\n",
       "  'Share of women who smoke, most recent year available'],\n",
       " ['male_smokers',\n",
       "  'World Bank World Development Indicators, sourced from World Health Organization, Global Health Observatory Data Repository',\n",
       "  'Others',\n",
       "  'Share of men who smoke, most recent year available'],\n",
       " ['handwashing_facilities',\n",
       "  'United Nations Statistics Division',\n",
       "  'Others',\n",
       "  'Share of the population with basic handwashing facilities on premises, most recent year available'],\n",
       " ['hospital_beds_per_thousand',\n",
       "  'OECD, Eurostat, World Bank, national government records and other sources',\n",
       "  'Others',\n",
       "  'Hospital beds per 1,000 people, most recent year available since 2010'],\n",
       " ['life_expectancy',\n",
       "  'James C. Riley, Clio Infra, United Nations Population Division',\n",
       "  'Others',\n",
       "  'Life expectancy at birth in 2019'],\n",
       " ['human_development_index',\n",
       "  'United Nations Development Programme (UNDP)',\n",
       "  'Others',\n",
       "  'A composite index measuring average achievement in three basic dimensions of human developmentвЂ”a long and healthy life, knowledge and a decent standard of living. Values for 2019, imported from http://hdr.undp.org/en/indicators/137506'],\n",
       " ['excess_mortality',\n",
       "  'Human Mortality Database (2021), World Mortality Dataset (2021)',\n",
       "  'Excess mortality',\n",
       "  'Percentage difference between the reported number of weekly or monthly deaths in 2020вЂ“2021 and the projected number of deaths for the same period based on previous years. For more information, see https://github.com/owid/covid-19-data/tree/master/public/data/excess_mortality'],\n",
       " ['excess_mortality_cumulative',\n",
       "  'Human Mortality Database (2021), World Mortality Dataset (2021)',\n",
       "  'Excess mortality',\n",
       "  'Percentage difference between the cumulative number of deaths since 1 January 2020 and the cumulative projected deaths for the same period based on previous years. For more information, see https://github.com/owid/covid-19-data/tree/master/public/data/excess_mortality'],\n",
       " ['excess_mortality_cumulative_absolute',\n",
       "  'Human Mortality Database (2021), World Mortality Dataset (2021)',\n",
       "  'Excess mortality',\n",
       "  'Cumulative difference between the reported number of deaths since 1 January 2020 and the projected number of deaths for the same period based on previous years. For more information, see https://github.com/owid/covid-19-data/tree/master/public/data/excess_mortality'],\n",
       " ['excess_mortality_cumulative_per_million',\n",
       "  'Human Mortality Database (2021), World Mortality Dataset (2021)',\n",
       "  'Excess mortality',\n",
       "  'Cumulative difference between the reported number of deaths since 1 January 2020 and the projected number of deaths for the same period based on previous years, per million people. For more information, see https://github.com/owid/covid-19-data/tree/master/public/data/excess_mortality']]"
      ]
     },
     "execution_count": 85,
     "metadata": {},
     "output_type": "execute_result"
    }
   ],
   "source": [
    "date"
   ]
  },
  {
   "cell_type": "code",
   "execution_count": 86,
   "id": "6abc07c3-ac50-46d9-8a04-af3fc8a24b3a",
   "metadata": {},
   "outputs": [
    {
     "data": {
      "text/plain": [
       "'category'"
      ]
     },
     "execution_count": 86,
     "metadata": {},
     "output_type": "execute_result"
    }
   ],
   "source": [
    "date[0][2]"
   ]
  },
  {
   "cell_type": "code",
   "execution_count": 89,
   "id": "c8c58acd-739e-4705-b57d-2ee6a1874990",
   "metadata": {},
   "outputs": [],
   "source": [
    "cols_dict = dict()\n",
    "for i in range(len(date[0])):\n",
    "    cols_dict[date[0][i]] = [row[i]for row in date[1:]]"
   ]
  },
  {
   "cell_type": "code",
   "execution_count": 90,
   "id": "652a28be-7dab-4087-b5bb-040d42f1a2dd",
   "metadata": {},
   "outputs": [
    {
     "data": {
      "text/plain": [
       "4"
      ]
     },
     "execution_count": 90,
     "metadata": {},
     "output_type": "execute_result"
    }
   ],
   "source": [
    "len(cols_dict)"
   ]
  },
  {
   "cell_type": "code",
   "execution_count": 91,
   "id": "af56517c-3343-48f4-8f57-e0090f2bb77f",
   "metadata": {
    "collapsed": true,
    "jupyter": {
     "outputs_hidden": true
    },
    "tags": []
   },
   "outputs": [
    {
     "data": {
      "text/plain": [
       "{'column': ['iso_code',\n",
       "  'continent',\n",
       "  'location',\n",
       "  'date',\n",
       "  'total_cases',\n",
       "  'new_cases',\n",
       "  'new_cases_smoothed',\n",
       "  'total_deaths',\n",
       "  'new_deaths',\n",
       "  'new_deaths_smoothed',\n",
       "  'total_cases_per_million',\n",
       "  'new_cases_per_million',\n",
       "  'new_cases_smoothed_per_million',\n",
       "  'total_deaths_per_million',\n",
       "  'new_deaths_per_million',\n",
       "  'new_deaths_smoothed_per_million',\n",
       "  'reproduction_rate',\n",
       "  'icu_patients',\n",
       "  'icu_patients_per_million',\n",
       "  'hosp_patients',\n",
       "  'hosp_patients_per_million',\n",
       "  'weekly_icu_admissions',\n",
       "  'weekly_icu_admissions_per_million',\n",
       "  'weekly_hosp_admissions',\n",
       "  'weekly_hosp_admissions_per_million',\n",
       "  'total_tests',\n",
       "  'new_tests',\n",
       "  'total_tests_per_thousand',\n",
       "  'new_tests_per_thousand',\n",
       "  'new_tests_smoothed',\n",
       "  'new_tests_smoothed_per_thousand',\n",
       "  'positive_rate',\n",
       "  'tests_per_case',\n",
       "  'tests_units',\n",
       "  'total_vaccinations',\n",
       "  'people_vaccinated',\n",
       "  'people_fully_vaccinated',\n",
       "  'total_boosters',\n",
       "  'new_vaccinations',\n",
       "  'new_vaccinations_smoothed',\n",
       "  'total_vaccinations_per_hundred',\n",
       "  'people_vaccinated_per_hundred',\n",
       "  'people_fully_vaccinated_per_hundred',\n",
       "  'total_boosters_per_hundred',\n",
       "  'new_vaccinations_smoothed_per_million',\n",
       "  'new_people_vaccinated_smoothed',\n",
       "  'new_people_vaccinated_smoothed_per_hundred',\n",
       "  'stringency_index',\n",
       "  'population',\n",
       "  'population_density',\n",
       "  'median_age',\n",
       "  'aged_65_older',\n",
       "  'aged_70_older',\n",
       "  'gdp_per_capita',\n",
       "  'extreme_poverty',\n",
       "  'cardiovasc_death_rate',\n",
       "  'diabetes_prevalence',\n",
       "  'female_smokers',\n",
       "  'male_smokers',\n",
       "  'handwashing_facilities',\n",
       "  'hospital_beds_per_thousand',\n",
       "  'life_expectancy',\n",
       "  'human_development_index',\n",
       "  'excess_mortality',\n",
       "  'excess_mortality_cumulative',\n",
       "  'excess_mortality_cumulative_absolute',\n",
       "  'excess_mortality_cumulative_per_million'],\n",
       " 'source': ['International Organization for Standardization',\n",
       "  'Our World in Data',\n",
       "  'Our World in Data',\n",
       "  'Our World in Data',\n",
       "  'COVID-19 Dashboard by the WHO',\n",
       "  'COVID-19 Dashboard by the WHO',\n",
       "  'COVID-19 Dashboard by the WHO',\n",
       "  'COVID-19 Dashboard by the WHO',\n",
       "  'COVID-19 Dashboard by the WHO',\n",
       "  'COVID-19 Dashboard by the WHO',\n",
       "  'COVID-19 Dashboard by the WHO',\n",
       "  'COVID-19 Dashboard by the WHO',\n",
       "  'COVID-19 Dashboard by the WHO',\n",
       "  'COVID-19 Dashboard by the WHO',\n",
       "  'COVID-19 Dashboard by the WHO',\n",
       "  'COVID-19 Dashboard by the WHO',\n",
       "  'Arroyo Marioli et al. (2020). https://doi.org/10.2139/ssrn.3581633',\n",
       "  'National government reports and European CDC',\n",
       "  'National government reports and European CDC',\n",
       "  'National government reports and European CDC',\n",
       "  'National government reports and European CDC',\n",
       "  'National government reports and European CDC',\n",
       "  'National government reports and European CDC',\n",
       "  'National government reports and European CDC',\n",
       "  'National government reports and European CDC',\n",
       "  'National government reports',\n",
       "  'National government reports',\n",
       "  'National government reports',\n",
       "  'National government reports',\n",
       "  'National government reports',\n",
       "  'National government reports',\n",
       "  'National government reports',\n",
       "  'National government reports',\n",
       "  'National government reports',\n",
       "  'National government reports',\n",
       "  'National government reports',\n",
       "  'National government reports',\n",
       "  'National government reports',\n",
       "  'National government reports',\n",
       "  'National government reports',\n",
       "  'National government reports',\n",
       "  'National government reports',\n",
       "  'National government reports',\n",
       "  'National government reports',\n",
       "  'National government reports',\n",
       "  'National government reports',\n",
       "  'National government reports',\n",
       "  'Oxford COVID-19 Government Response Tracker, Blavatnik School of Government',\n",
       "  'United Nations, Department of Economic and Social Affairs, Population Division, World Population Prospects 2019 Revision',\n",
       "  'World Bank World Development Indicators, sourced from Food and Agriculture Organization and World Bank estimates',\n",
       "  'UN Population Division, World Population Prospects, 2017 Revision',\n",
       "  'World Bank World Development Indicators based on age/sex distributions of United Nations World Population Prospects 2017 Revision',\n",
       "  'United Nations, Department of Economic and Social Affairs, Population Division (2017), World Population Prospects 2017 Revision',\n",
       "  'World Bank World Development Indicators, source from World Bank, International Comparison Program database',\n",
       "  'World Bank World Development Indicators, sourced from World Bank Development Research Group',\n",
       "  'Global Burden of Disease Collaborative Network, Global Burden of Disease Study 2017 Results',\n",
       "  'World Bank World Development Indicators, sourced from International Diabetes Federation, Diabetes Atlas',\n",
       "  'World Bank World Development Indicators, sourced from World Health Organization, Global Health Observatory Data Repository',\n",
       "  'World Bank World Development Indicators, sourced from World Health Organization, Global Health Observatory Data Repository',\n",
       "  'United Nations Statistics Division',\n",
       "  'OECD, Eurostat, World Bank, national government records and other sources',\n",
       "  'James C. Riley, Clio Infra, United Nations Population Division',\n",
       "  'United Nations Development Programme (UNDP)',\n",
       "  'Human Mortality Database (2021), World Mortality Dataset (2021)',\n",
       "  'Human Mortality Database (2021), World Mortality Dataset (2021)',\n",
       "  'Human Mortality Database (2021), World Mortality Dataset (2021)',\n",
       "  'Human Mortality Database (2021), World Mortality Dataset (2021)'],\n",
       " 'category': ['Others',\n",
       "  'Others',\n",
       "  'Others',\n",
       "  'Others',\n",
       "  'Confirmed cases',\n",
       "  'Confirmed cases',\n",
       "  'Confirmed cases',\n",
       "  'Confirmed deaths',\n",
       "  'Confirmed deaths',\n",
       "  'Confirmed deaths',\n",
       "  'Confirmed cases',\n",
       "  'Confirmed cases',\n",
       "  'Confirmed cases',\n",
       "  'Confirmed deaths',\n",
       "  'Confirmed deaths',\n",
       "  'Confirmed deaths',\n",
       "  'Reproduction rate',\n",
       "  'Hospital & ICU',\n",
       "  'Hospital & ICU',\n",
       "  'Hospital & ICU',\n",
       "  'Hospital & ICU',\n",
       "  'Hospital & ICU',\n",
       "  'Hospital & ICU',\n",
       "  'Hospital & ICU',\n",
       "  'Hospital & ICU',\n",
       "  'Tests & positivity',\n",
       "  'Tests & positivity',\n",
       "  'Tests & positivity',\n",
       "  'Tests & positivity',\n",
       "  'Tests & positivity',\n",
       "  'Tests & positivity',\n",
       "  'Tests & positivity',\n",
       "  'Tests & positivity',\n",
       "  'Tests & positivity',\n",
       "  'Vaccinations',\n",
       "  'Vaccinations',\n",
       "  'Vaccinations',\n",
       "  'Vaccinations',\n",
       "  'Vaccinations',\n",
       "  'Vaccinations',\n",
       "  'Vaccinations',\n",
       "  'Vaccinations',\n",
       "  'Vaccinations',\n",
       "  'Vaccinations',\n",
       "  'Vaccinations',\n",
       "  'Vaccinations',\n",
       "  'Vaccinations',\n",
       "  'Policy responses',\n",
       "  'Others',\n",
       "  'Others',\n",
       "  'Others',\n",
       "  'Others',\n",
       "  'Others',\n",
       "  'Others',\n",
       "  'Others',\n",
       "  'Others',\n",
       "  'Others',\n",
       "  'Others',\n",
       "  'Others',\n",
       "  'Others',\n",
       "  'Others',\n",
       "  'Others',\n",
       "  'Others',\n",
       "  'Excess mortality',\n",
       "  'Excess mortality',\n",
       "  'Excess mortality',\n",
       "  'Excess mortality'],\n",
       " 'description': [\"ISO 3166-1 alpha-3 вЂ“ three-letter country codes. Note that OWID-defined regions (e.g. continents like 'Europe') contain prefix 'OWID_'.\",\n",
       "  'Continent of the geographical location',\n",
       "  'Geographical location',\n",
       "  'Date of observation',\n",
       "  'Total confirmed cases of COVID-19. Counts can include probable cases, where reported.',\n",
       "  'New confirmed cases of COVID-19. Counts can include probable cases, where reported. In rare cases where our source reports a negative daily change due to a data correction, we set this metric to NA.',\n",
       "  'New confirmed cases of COVID-19 (7-day smoothed). Counts can include probable cases, where reported.',\n",
       "  'Total deaths attributed to COVID-19. Counts can include probable deaths, where reported.',\n",
       "  'New deaths attributed to COVID-19. Counts can include probable deaths, where reported. In rare cases where our source reports a negative daily change due to a data correction, we set this metric to NA.',\n",
       "  'New deaths attributed to COVID-19 (7-day smoothed). Counts can include probable deaths, where reported.',\n",
       "  'Total confirmed cases of COVID-19 per 1,000,000 people. Counts can include probable cases, where reported.',\n",
       "  'New confirmed cases of COVID-19 per 1,000,000 people. Counts can include probable cases, where reported.',\n",
       "  'New confirmed cases of COVID-19 (7-day smoothed) per 1,000,000 people. Counts can include probable cases, where reported.',\n",
       "  'Total deaths attributed to COVID-19 per 1,000,000 people. Counts can include probable deaths, where reported.',\n",
       "  'New deaths attributed to COVID-19 per 1,000,000 people. Counts can include probable deaths, where reported.',\n",
       "  'New deaths attributed to COVID-19 (7-day smoothed) per 1,000,000 people. Counts can include probable deaths, where reported.',\n",
       "  'Real-time estimate of the effective reproduction rate (R) of COVID-19. See https://github.com/crondonm/TrackingR/tree/main/Estimates-Database',\n",
       "  'Number of COVID-19 patients in intensive care units (ICUs) on a given day',\n",
       "  'Number of COVID-19 patients in intensive care units (ICUs) on a given day per 1,000,000 people',\n",
       "  'Number of COVID-19 patients in hospital on a given day',\n",
       "  'Number of COVID-19 patients in hospital on a given day per 1,000,000 people',\n",
       "  'Number of COVID-19 patients newly admitted to intensive care units (ICUs) in a given week (reporting date and the preceeding 6 days)',\n",
       "  'Number of COVID-19 patients newly admitted to intensive care units (ICUs) in a given week per 1,000,000 people (reporting date and the preceeding 6 days)',\n",
       "  'Number of COVID-19 patients newly admitted to hospitals in a given week (reporting date and the preceeding 6 days)',\n",
       "  'Number of COVID-19 patients newly admitted to hospitals in a given week per 1,000,000 people (reporting date and the preceeding 6 days)',\n",
       "  'Total tests for COVID-19',\n",
       "  'New tests for COVID-19 (only calculated for consecutive days)',\n",
       "  'Total tests for COVID-19 per 1,000 people',\n",
       "  'New tests for COVID-19 per 1,000 people',\n",
       "  \"New tests for COVID-19 (7-day smoothed). For countries that don't report testing data on a daily basis, we assume that testing changed equally on a daily basis over any periods in which no data was reported. This produces a complete series of daily figures, which is then averaged over a rolling 7-day window\",\n",
       "  'New tests for COVID-19 (7-day smoothed) per 1,000 people',\n",
       "  'The share of COVID-19 tests that are positive, given as a rolling 7-day average (this is the inverse of tests_per_case)',\n",
       "  'Tests conducted per new confirmed case of COVID-19, given as a rolling 7-day average (this is the inverse of positive_rate)',\n",
       "  \"Units used by the location to report its testing data. A country file can't contain mixed units. All metrics concerning testing data use the specified test unit. Valid units are 'people tested' (number of people tested), 'tests performed' (number of tests performed. a single person can be tested more than once in a given day) and 'samples tested' (number of samples tested. In some cases, more than one sample may be required to perform a given test.)\",\n",
       "  'Total number of COVID-19 vaccination doses administered',\n",
       "  'Total number of people who received at least one vaccine dose',\n",
       "  'Total number of people who received all doses prescribed by the initial vaccination protocol',\n",
       "  'Total number of COVID-19 vaccination booster doses administered (doses administered beyond the number prescribed by the vaccination protocol)',\n",
       "  'New COVID-19 vaccination doses administered (only calculated for consecutive days)',\n",
       "  \"New COVID-19 vaccination doses administered (7-day smoothed). For countries that don't report vaccination data on a daily basis, we assume that vaccination changed equally on a daily basis over any periods in which no data was reported. This produces a complete series of daily figures, which is then averaged over a rolling 7-day window\",\n",
       "  'Total number of COVID-19 vaccination doses administered per 100 people in the total population',\n",
       "  'Total number of people who received at least one vaccine dose per 100 people in the total population',\n",
       "  'Total number of people who received all doses prescribed by the initial vaccination protocol per 100 people in the total population',\n",
       "  'Total number of COVID-19 vaccination booster doses administered per 100 people in the total population',\n",
       "  'New COVID-19 vaccination doses administered (7-day smoothed) per 1,000,000 people in the total population',\n",
       "  'Daily number of people receiving their first vaccine dose (7-day smoothed)',\n",
       "  'Daily number of people receiving their first vaccine dose (7-day smoothed) per 100 people in the total population',\n",
       "  'Government Response Stringency Index: composite measure based on 9 response indicators including school closures, workplace closures, and travel bans, rescaled to a value from 0 to 100 (100 = strictest response)',\n",
       "  'Population (latest available values). See https://github.com/owid/covid-19-data/blob/master/scripts/input/un/population_latest.csv for full list of sources',\n",
       "  'Number of people divided by land area, measured in square kilometers, most recent year available',\n",
       "  'Median age of the population, UN projection for 2020',\n",
       "  'Share of the population that is 65 years and older, most recent year available',\n",
       "  'Share of the population that is 70 years and older in 2015',\n",
       "  'Gross domestic product at purchasing power parity (constant 2011 international dollars), most recent year available',\n",
       "  'Share of the population living in extreme poverty, most recent year available since 2010',\n",
       "  'Death rate from cardiovascular disease in 2017 (annual number of deaths per 100,000 people)',\n",
       "  'Diabetes prevalence (% of population aged 20 to 79) in 2017',\n",
       "  'Share of women who smoke, most recent year available',\n",
       "  'Share of men who smoke, most recent year available',\n",
       "  'Share of the population with basic handwashing facilities on premises, most recent year available',\n",
       "  'Hospital beds per 1,000 people, most recent year available since 2010',\n",
       "  'Life expectancy at birth in 2019',\n",
       "  'A composite index measuring average achievement in three basic dimensions of human developmentвЂ”a long and healthy life, knowledge and a decent standard of living. Values for 2019, imported from http://hdr.undp.org/en/indicators/137506',\n",
       "  'Percentage difference between the reported number of weekly or monthly deaths in 2020вЂ“2021 and the projected number of deaths for the same period based on previous years. For more information, see https://github.com/owid/covid-19-data/tree/master/public/data/excess_mortality',\n",
       "  'Percentage difference between the cumulative number of deaths since 1 January 2020 and the cumulative projected deaths for the same period based on previous years. For more information, see https://github.com/owid/covid-19-data/tree/master/public/data/excess_mortality',\n",
       "  'Cumulative difference between the reported number of deaths since 1 January 2020 and the projected number of deaths for the same period based on previous years. For more information, see https://github.com/owid/covid-19-data/tree/master/public/data/excess_mortality',\n",
       "  'Cumulative difference between the reported number of deaths since 1 January 2020 and the projected number of deaths for the same period based on previous years, per million people. For more information, see https://github.com/owid/covid-19-data/tree/master/public/data/excess_mortality']}"
      ]
     },
     "execution_count": 91,
     "metadata": {},
     "output_type": "execute_result"
    }
   ],
   "source": [
    "cols_dict"
   ]
  },
  {
   "cell_type": "code",
   "execution_count": 92,
   "id": "c9627521-49ec-4617-b33f-f2a6473fab3e",
   "metadata": {},
   "outputs": [
    {
     "data": {
      "text/plain": [
       "dict_keys(['column', 'source', 'category', 'description'])"
      ]
     },
     "execution_count": 92,
     "metadata": {},
     "output_type": "execute_result"
    }
   ],
   "source": [
    "cols_dict.keys()"
   ]
  },
  {
   "cell_type": "code",
   "execution_count": 99,
   "id": "23efb0df-8dd6-47d1-b860-3cc4bf73a653",
   "metadata": {},
   "outputs": [
    {
     "data": {
      "text/plain": [
       "['iso_code']"
      ]
     },
     "execution_count": 99,
     "metadata": {},
     "output_type": "execute_result"
    }
   ],
   "source": [
    "lst = [el for el in cols_dict['column'] if el == 'iso_code']\n",
    "lst"
   ]
  },
  {
   "cell_type": "code",
   "execution_count": 104,
   "id": "9babfe15-c3c6-4424-941b-4576ab0e925e",
   "metadata": {
    "collapsed": true,
    "jupyter": {
     "outputs_hidden": true
    },
    "tags": []
   },
   "outputs": [
    {
     "data": {
      "text/plain": [
       "[('Others',),\n",
       " ('Others',),\n",
       " ('Others',),\n",
       " ('Others',),\n",
       " ('Confirmed cases',),\n",
       " ('Confirmed cases',),\n",
       " ('Confirmed cases',),\n",
       " ('Confirmed deaths',),\n",
       " ('Confirmed deaths',),\n",
       " ('Confirmed deaths',),\n",
       " ('Confirmed cases',),\n",
       " ('Confirmed cases',),\n",
       " ('Confirmed cases',),\n",
       " ('Confirmed deaths',),\n",
       " ('Confirmed deaths',),\n",
       " ('Confirmed deaths',),\n",
       " ('Reproduction rate',),\n",
       " ('Hospital & ICU',),\n",
       " ('Hospital & ICU',),\n",
       " ('Hospital & ICU',),\n",
       " ('Hospital & ICU',),\n",
       " ('Hospital & ICU',),\n",
       " ('Hospital & ICU',),\n",
       " ('Hospital & ICU',),\n",
       " ('Hospital & ICU',),\n",
       " ('Tests & positivity',),\n",
       " ('Tests & positivity',),\n",
       " ('Tests & positivity',),\n",
       " ('Tests & positivity',),\n",
       " ('Tests & positivity',),\n",
       " ('Tests & positivity',),\n",
       " ('Tests & positivity',),\n",
       " ('Tests & positivity',),\n",
       " ('Tests & positivity',),\n",
       " ('Vaccinations',),\n",
       " ('Vaccinations',),\n",
       " ('Vaccinations',),\n",
       " ('Vaccinations',),\n",
       " ('Vaccinations',),\n",
       " ('Vaccinations',),\n",
       " ('Vaccinations',),\n",
       " ('Vaccinations',),\n",
       " ('Vaccinations',),\n",
       " ('Vaccinations',),\n",
       " ('Vaccinations',),\n",
       " ('Vaccinations',),\n",
       " ('Vaccinations',),\n",
       " ('Policy responses',),\n",
       " ('Others',),\n",
       " ('Others',),\n",
       " ('Others',),\n",
       " ('Others',),\n",
       " ('Others',),\n",
       " ('Others',),\n",
       " ('Others',),\n",
       " ('Others',),\n",
       " ('Others',),\n",
       " ('Others',),\n",
       " ('Others',),\n",
       " ('Others',),\n",
       " ('Others',),\n",
       " ('Others',),\n",
       " ('Others',),\n",
       " ('Excess mortality',),\n",
       " ('Excess mortality',),\n",
       " ('Excess mortality',),\n",
       " ('Excess mortality',)]"
      ]
     },
     "execution_count": 104,
     "metadata": {},
     "output_type": "execute_result"
    }
   ],
   "source": [
    "[el[1:] for el in zip(cols_dict['column'],\n",
    "                      cols_dict['category'])]"
   ]
  },
  {
   "cell_type": "code",
   "execution_count": 105,
   "id": "d4572732-771d-4061-bd00-cf9554a9daac",
   "metadata": {},
   "outputs": [],
   "source": [
    "import json"
   ]
  },
  {
   "cell_type": "code",
   "execution_count": 106,
   "id": "0130c064-39bb-4e23-9e29-f002524040e8",
   "metadata": {},
   "outputs": [],
   "source": [
    "with open('new_cases.json', 'w') as f:\n",
    "    json.dump(cols_dict,f)"
   ]
  },
  {
   "cell_type": "code",
   "execution_count": 113,
   "id": "29000ace-70aa-4452-918e-8f99f901e440",
   "metadata": {
    "tags": []
   },
   "outputs": [
    {
     "name": "stdout",
     "output_type": "stream",
     "text": [
      "[{'r030': 36, 'txt': 'Австралійський долар', 'rate': 24.2688, 'cc': 'AUD', 'exchangedate': '10.07.2023'}, {'r030': 124, 'txt': 'Канадський долар', 'rate': 27.3584, 'cc': 'CAD', 'exchangedate': '10.07.2023'}, {'r030': 156, 'txt': 'Юань Женьміньбі', 'rate': 5.0547, 'cc': 'CNY', 'exchangedate': '10.07.2023'}, {'r030': 203, 'txt': 'Чеська крона', 'rate': 1.6642, 'cc': 'CZK', 'exchangedate': '10.07.2023'}, {'r030': 208, 'txt': 'Данська крона', 'rate': 5.3441, 'cc': 'DKK', 'exchangedate': '10.07.2023'}, {'r030': 344, 'txt': 'Гонконгівський долар', 'rate': 4.6716, 'cc': 'HKD', 'exchangedate': '10.07.2023'}, {'r030': 348, 'txt': 'Форинт', 'rate': 0.102424, 'cc': 'HUF', 'exchangedate': '10.07.2023'}, {'r030': 356, 'txt': 'Індійська рупія', 'rate': 0.44196, 'cc': 'INR', 'exchangedate': '10.07.2023'}, {'r030': 360, 'txt': 'Рупія', 'rate': 0.0024158, 'cc': 'IDR', 'exchangedate': '10.07.2023'}, {'r030': 376, 'txt': 'Новий ізраїльський шекель', 'rate': 9.8485, 'cc': 'ILS', 'exchangedate': '10.07.2023'}, {'r030': 392, 'txt': 'Єна', 'rate': 0.25527, 'cc': 'JPY', 'exchangedate': '10.07.2023'}, {'r030': 398, 'txt': 'Теньге', 'rate': 0.08206, 'cc': 'KZT', 'exchangedate': '10.07.2023'}, {'r030': 410, 'txt': 'Вона', 'rate': 0.028022, 'cc': 'KRW', 'exchangedate': '10.07.2023'}, {'r030': 484, 'txt': 'Мексиканське песо', 'rate': 2.1151, 'cc': 'MXN', 'exchangedate': '10.07.2023'}, {'r030': 498, 'txt': 'Молдовський лей', 'rate': 1.997, 'cc': 'MDL', 'exchangedate': '10.07.2023'}, {'r030': 554, 'txt': 'Новозеландський долар', 'rate': 22.572, 'cc': 'NZD', 'exchangedate': '10.07.2023'}, {'r030': 578, 'txt': 'Норвезька крона', 'rate': 3.3978, 'cc': 'NOK', 'exchangedate': '10.07.2023'}, {'r030': 643, 'txt': 'Російський рубль', 'rate': 0.40033, 'cc': 'RUB', 'exchangedate': '10.07.2023'}, {'r030': 702, 'txt': 'Сінгапурський долар', 'rate': 27.0558, 'cc': 'SGD', 'exchangedate': '10.07.2023'}, {'r030': 710, 'txt': 'Ренд', 'rate': 1.9134, 'cc': 'ZAR', 'exchangedate': '10.07.2023'}, {'r030': 752, 'txt': 'Шведська крона', 'rate': 3.3453, 'cc': 'SEK', 'exchangedate': '10.07.2023'}, {'r030': 756, 'txt': 'Швейцарський франк', 'rate': 40.836, 'cc': 'CHF', 'exchangedate': '10.07.2023'}, {'r030': 818, 'txt': 'Єгипетський фунт', 'rate': 1.1838, 'cc': 'EGP', 'exchangedate': '10.07.2023'}, {'r030': 826, 'txt': 'Фунт стерлінгів', 'rate': 46.6707, 'cc': 'GBP', 'exchangedate': '10.07.2023'}, {'r030': 840, 'txt': 'Долар США', 'rate': 36.5686, 'cc': 'USD', 'exchangedate': '10.07.2023'}, {'r030': 933, 'txt': 'Білоруський рубль', 'rate': 13.2919, 'cc': 'BYN', 'exchangedate': '10.07.2023'}, {'r030': 944, 'txt': 'Азербайджанський манат', 'rate': 21.5426, 'cc': 'AZN', 'exchangedate': '10.07.2023'}, {'r030': 946, 'txt': 'Румунський лей', 'rate': 8.0348, 'cc': 'RON', 'exchangedate': '10.07.2023'}, {'r030': 949, 'txt': 'Турецька ліра', 'rate': 1.403, 'cc': 'TRY', 'exchangedate': '10.07.2023'}, {'r030': 960, 'txt': 'СПЗ (спеціальні права запозичення)', 'rate': 48.791, 'cc': 'XDR', 'exchangedate': '10.07.2023'}, {'r030': 975, 'txt': 'Болгарський лев', 'rate': 20.36, 'cc': 'BGN', 'exchangedate': '10.07.2023'}, {'r030': 978, 'txt': 'Євро', 'rate': 39.8214, 'cc': 'EUR', 'exchangedate': '10.07.2023'}, {'r030': 985, 'txt': 'Злотий', 'rate': 8.8884, 'cc': 'PLN', 'exchangedate': '10.07.2023'}, {'r030': 12, 'txt': 'Алжирський динар', 'rate': 0.26998, 'cc': 'DZD', 'exchangedate': '10.07.2023'}, {'r030': 50, 'txt': 'Така', 'rate': 0.33719, 'cc': 'BDT', 'exchangedate': '10.07.2023'}, {'r030': 51, 'txt': 'Вірменський драм', 'rate': 0.094723, 'cc': 'AMD', 'exchangedate': '10.07.2023'}, {'r030': 214, 'txt': 'Домініканське песо', 'rate': 0.66264, 'cc': 'DOP', 'exchangedate': '10.07.2023'}, {'r030': 364, 'txt': 'Іранський ріал', 'rate': 0.00087068, 'cc': 'IRR', 'exchangedate': '10.07.2023'}, {'r030': 368, 'txt': 'Іракський динар', 'rate': 0.027915, 'cc': 'IQD', 'exchangedate': '10.07.2023'}, {'r030': 417, 'txt': 'Сом', 'rate': 0.41936, 'cc': 'KGS', 'exchangedate': '10.07.2023'}, {'r030': 422, 'txt': 'Ліванський фунт', 'rate': 0.002438, 'cc': 'LBP', 'exchangedate': '10.07.2023'}, {'r030': 434, 'txt': 'Лівійський динар', 'rate': 7.6042, 'cc': 'LYD', 'exchangedate': '10.07.2023'}, {'r030': 458, 'txt': 'Малайзійський ринггіт', 'rate': 7.8372, 'cc': 'MYR', 'exchangedate': '10.07.2023'}, {'r030': 504, 'txt': 'Марокканський дирхам', 'rate': 3.6922, 'cc': 'MAD', 'exchangedate': '10.07.2023'}, {'r030': 586, 'txt': 'Пакистанська рупія', 'rate': 0.12768, 'cc': 'PKR', 'exchangedate': '10.07.2023'}, {'r030': 682, 'txt': 'Саудівський ріял', 'rate': 9.7485, 'cc': 'SAR', 'exchangedate': '10.07.2023'}, {'r030': 704, 'txt': 'Донг', 'rate': 0.0015521, 'cc': 'VND', 'exchangedate': '10.07.2023'}, {'r030': 764, 'txt': 'Бат', 'rate': 1.03225, 'cc': 'THB', 'exchangedate': '10.07.2023'}, {'r030': 784, 'txt': 'Дирхам ОАЕ', 'rate': 9.9558, 'cc': 'AED', 'exchangedate': '10.07.2023'}, {'r030': 788, 'txt': 'Туніський динар', 'rate': 11.8169, 'cc': 'TND', 'exchangedate': '10.07.2023'}, {'r030': 860, 'txt': 'Узбецький сум', 'rate': 0.0031832, 'cc': 'UZS', 'exchangedate': '10.07.2023'}, {'r030': 901, 'txt': 'Новий тайванський долар', 'rate': 1.1738, 'cc': 'TWD', 'exchangedate': '10.07.2023'}, {'r030': 934, 'txt': 'Туркменський новий манат', 'rate': 10.4482, 'cc': 'TMT', 'exchangedate': '10.07.2023'}, {'r030': 941, 'txt': 'Сербський динар', 'rate': 0.33862, 'cc': 'RSD', 'exchangedate': '10.07.2023'}, {'r030': 972, 'txt': 'Сомоні', 'rate': 3.3506, 'cc': 'TJS', 'exchangedate': '10.07.2023'}, {'r030': 981, 'txt': 'Ларі', 'rate': 13.9976, 'cc': 'GEL', 'exchangedate': '10.07.2023'}, {'r030': 986, 'txt': 'Бразильський реал', 'rate': 7.5332, 'cc': 'BRL', 'exchangedate': '10.07.2023'}, {'r030': 959, 'txt': 'Золото', 'rate': 70123.95, 'cc': 'XAU', 'exchangedate': '10.07.2023'}, {'r030': 961, 'txt': 'Срібло', 'rate': 830.42, 'cc': 'XAG', 'exchangedate': '10.07.2023'}, {'r030': 962, 'txt': 'Платина', 'rate': 33258.41, 'cc': 'XPT', 'exchangedate': '10.07.2023'}, {'r030': 964, 'txt': 'Паладій', 'rate': 45447.46, 'cc': 'XPD', 'exchangedate': '10.07.2023'}]\n"
     ]
    }
   ],
   "source": [
    "import requests\n",
    "\n",
    "link = 'https://bank.gov.ua/NBUStatService/v1/statdirectory/exchangenew?json'\n",
    "\n",
    "r = requests.get(link) \n",
    "\n",
    "print(r.json())"
   ]
  },
  {
   "cell_type": "code",
   "execution_count": 10,
   "id": "49cb7cf6-c50a-4573-a912-e9a3c54c44fd",
   "metadata": {
    "collapsed": true,
    "jupyter": {
     "outputs_hidden": true
    },
    "tags": []
   },
   "outputs": [
    {
     "data": {
      "text/plain": [
       "<!DOCTYPE html PUBLIC \"-//W3C//DTD XHTML 1.0 Transitional//EN\" \"http://www.w3.org/TR/xhtml1/DTD/xhtml1-transitional.dtd\">\n",
       "<html xmlns=\"http://www.w3.org/1999/xhtml\">\n",
       "<head>\n",
       "<title>Знайомства - I.UA </title>\n",
       "<meta content=\"text/html; charset=utf-8\" http-equiv=\"content-type\"/>\n",
       "<meta content=\"HShIi9AqQMLaZPv7XOyqYVcwWYfPY-kJbUWtVTQkXkQ\" name=\"google-site-verification\"/>\n",
       "<meta content=\"//i3.i.ua/logo_new1.png\" property=\"og:image\"/>\n",
       "<link href=\"//i3.i.ua/css/i2/favicon_16.ico\" id=\"dynamic-favicon\" rel=\"icon\" type=\"image/x-icon\"/>\n",
       "<link href=\"//i3.i.ua/css/i2/favicon_16.ico\" rel=\"shortcut icon\" type=\"image/x-icon\"/>\n",
       "&lt;</head><body><p>![if !IE]&gt;<link href=\"//i3.i.ua/css/i2/blue/sprite/love.yecc33df2.css\" media=\"all\" rel=\"stylesheet\" type=\"text/css\"/>&lt;![endif]&gt;\n",
       "<script type=\"text/javascript\">\n",
       "<!--\n",
       "window.JS_ERROR_NOTIFY = 'MA==';\n",
       "var lmJsVersion = 1.690;\n",
       "var lmJsPath = '//i3.i.ua/js/';\n",
       "var JS_LANG_ID = 2;\n",
       "var I_VER2 = true;\n",
       "var I_SSL = true;\n",
       "//-->\n",
       "</script>\n",
       "<script src=\"//i3.i.ua/js/util.ya033ba43.js\" type=\"text/javascript\"></script>\n",
       "<script src=\"//i3.i.ua/js/JSHttpRequest.y989b751f.js\" type=\"text/javascript\"></script>\n",
       "<script src=\"//i3.i.ua/js/i/global.y18bbae35.js\" type=\"text/javascript\"></script>\n",
       "<script src=\"//i3.i.ua/js/i/autoload.y718797e6.js\" type=\"text/javascript\"></script>\n",
       "<script src=\"//i3.i.ua/js/i/popupdiv.y2ddeb664.js\" type=\"text/javascript\"></script>\n",
       "<script src=\"//i3.i.ua/js/i/popupdiv_u.y78e0105e.js\" type=\"text/javascript\"></script>\n",
       "<script src=\"//i3.i.ua/js/i/love.y29cd32ce.js\" type=\"text/javascript\"></script>\n",
       "<script async=\"\" data-ad-client=\"ca-pub-3755662197386269\" src=\"https://pagead2.googlesyndication.com/pagead/js/adsbygoogle.js\"></script><!-- GAM Code in <head> section START -->\n",
       "<script> !(function () { window.googletag = window.googletag || {}; window.vmpbjs = window.vmpbjs || {}; window.vpb = window.vpb || {}; vpb.cmd = vpb.cmd || []; vpb.st=Date.now();  vpb.fastLoad = true; googletag.cmd = googletag.cmd || []; vmpbjs.cmd = vmpbjs.cmd || []; var cmds = []; try{ cmds = googletag.cmd.slice(0); googletag.cmd.length = 0; }catch(e){} var ready = false; function exec(cb) { return cb.call(googletag); } var overriden = false; googletag.cmd.push(function () { overriden = true; googletag.cmd.unshift = function (cb) { if (ready) { return exec(cb); } cmds.unshift(cb); if (cb._startgpt) { ready = true; for (var k = 0; k < cmds.length; k++) { exec(cmds[k]); } } }; googletag.cmd.push = function (cb) { if (ready) { return exec(cb); } cmds.push(cb); }; }); if(!overriden){ googletag.cmd.push = function (cb) { cmds.push(cb); }; googletag.cmd.unshift = function (cb) { cmds.unshift(cb); if (cb._startgpt) { ready = true; if (googletag.apiReady) { cmds.forEach(function (cb) { googletag.cmd.push(cb); }); } else { googletag.cmd = cmds; } } }; } var dayMs = 36e5, cb = parseInt(Date.now() / dayMs), vpbSrc = '//player.adtcdn.com/prebidlink/' + cb + '/wrapper_hb_738585_17250.js', pbSrc = vpbSrc.replace('wrapper_hb', 'hb'), gptSrc = '//securepubads.g.doubleclick.net/tag/js/gpt.js', c = document.head || document.body || document.documentElement; function loadScript(src, cb) { var s = document.createElement('script'); s.src = src; s.defer=false; c.appendChild(s); s.onload = cb; s.onerror = function(){ var fn = function(){}; fn._startgpt = true; googletag.cmd.unshift(fn); }; return s; } loadScript(pbSrc); loadScript(gptSrc); loadScript(vpbSrc); })() </script>\n",
       "<script type=\"text/javascript\">\n",
       "\tvar ua = navigator.userAgent.toLowerCase();\n",
       "\tif(ua.indexOf('mobile')==-1 && ua.indexOf('iphone')==-1 && ua.indexOf('ipad')==-1  && ua.indexOf('android')==-1) { //desktop\n",
       "\t\twindow.googletag = window.googletag || {cmd: []};\n",
       "\t\tgoogletag.cmd.push(function() {\n",
       "\t\t\tgoogletag.defineSlot('/21861267298/i.ua/premium_side_banner', [[300, 600], [300, 250]], 'div-gpt-ad-i.ua/premium_side_banner').addService(googletag.pubads());\n",
       "\t\t\tgoogletag.defineSlot('/21861267298/i.ua/top_banner', [[728, 90], [970, 90]], 'div-gpt-ad-i.ua/top_banner').addService(googletag.pubads());\n",
       "\t\t\tgoogletag.pubads().enableSingleRequest();\n",
       "\t\t\tgoogletag.pubads().collapseEmptyDivs();\n",
       "\t\t\tgoogletag.enableServices();\n",
       "\t\t});\n",
       "\t} else { //mobile\n",
       "\t\twindow.googletag = window.googletag || {cmd: []};\n",
       "\t\tgoogletag.cmd.push(function() {\n",
       "\t\t\tgoogletag.defineSlot('/21861267298/i.ua/premium_side_banner', [[300, 600], [300, 250], [300, 400], [336, 280], [320, 165]], 'div-gpt-ad-i.ua/premium_side_banner').addService(googletag.pubads());\n",
       "\t\t\tgoogletag.pubads().enableSingleRequest();\n",
       "\t\t\tgoogletag.pubads().collapseEmptyDivs();\n",
       "\t\t\tgoogletag.enableServices();\n",
       "\t\t});\n",
       "\t}\n",
       "</script>\n",
       "<!-- GAM Code in <head> section END --><script async=\"\" data-bundle=\"desktop\" data-inv=\"//inv-nets.admixer.net/\" data-r=\"always\" id=\"Admixer\" src=\"https://cdn.admixer.net/scripts3/loader2.js\" type=\"text/javascript\"></script><script type=\"text/javascript\">\n",
       "(function() {\n",
       "\n",
       "\tvar branding = {\n",
       "\t\t\tpadTop:130,\n",
       "\t\t\tbgColor:'#fff',\n",
       "\t\t\tfixed:true,\n",
       "\t\t\thwAlco:false,\n",
       "\t\t\thwMed:false,\n",
       "\t\t\tiuaNew:false\n",
       "\t\t};\n",
       "\t\n",
       "\tfunction addEvent(e,t,f) {\n",
       "\t\tif (e.addEventListener) {\n",
       "\t\t\te.addEventListener(t, f, false);\n",
       "\t\t} else if (e.attachEvent) {\n",
       "\t\t\te.attachEvent('on'+t, f);\n",
       "\t\t}\n",
       "\t}\n",
       "\t\n",
       "\tfunction removeEvent(e,t,f) {\n",
       "\t\tif (e.removeEventListener) {\n",
       "\t\t\te.removeEventListener(t, f, false);\n",
       "\t\t} else if (e.detachEvent) {\n",
       "\t\t\te.detachEvent('on'+t, f);\n",
       "\t\t}\n",
       "\t}\n",
       "\t\n",
       "\tfunction merge() {\n",
       "\t\tvar options, name, copy, target=arguments[0] || {};\n",
       "\t\tfor (i = 1; i < arguments.length; i++ )\n",
       "\t\t\tif ((options = arguments[i]) != null)\n",
       "\t\t\t\tfor (name in options)\n",
       "\t\t\t\t\tif (options.hasOwnProperty(name) && options[name] !== undefined)\n",
       "\t\t\t\t\t\ttarget[name] = options[name];\n",
       "\t\treturn target;\n",
       "\t}\n",
       "\n",
       "\tfunction GEBCN(cn){\n",
       "\t\tif(document.getElementsByClassName) // Returns NodeList here\n",
       "\t\t\treturn document.getElementsByClassName(cn);\n",
       "\n",
       "\t\tcn = cn.replace(/ *$/, '');\n",
       "\n",
       "\t\tif(document.querySelectorAll) // Returns NodeList here\n",
       "\t\t\treturn document.querySelectorAll((' ' + cn).replace(/ +/g, '.'));\n",
       "\n",
       "\t\tcn = cn.replace(/^ */, '');\n",
       "\n",
       "\t\tvar classes = cn.split(/ +/), clength = classes.length;\n",
       "\t\tvar els = document.getElementsByTagName('*'), elength = els.length;\n",
       "\t\tvar results = [];\n",
       "\t\tvar i, j, match;\n",
       "\n",
       "\t\tfor(i = 0; i < elength; i++){\n",
       "\t\t\tmatch = true;\n",
       "\t\t\tfor(j = clength; j--;)\n",
       "\t\t\t\tif(!RegExp(' ' + classes[j] + ' ').test(' ' + els[i].className + ' '))\n",
       "\t\t\t\t\tmatch = false;\n",
       "\t\t\tif(match)\n",
       "\t\t\t\tresults.push(els[i]);\n",
       "\t\t}\n",
       "\n",
       "\t\t// Returns Array here\n",
       "\t\treturn results;\n",
       "\t}\n",
       "\n",
       "\tfunction addClass (o, c) {\n",
       "\t\tvar re = new RegExp(\"(^|\\\\s)\" + c + \"(\\\\s|$)\", \"g\");\n",
       "\t\tif (re.test(o.className)) return\n",
       "\t\to.className = (o.className + \" \" + c).replace(/\\s+/g, \" \").replace(/(^ | $)/g, \"\");\n",
       "\t}\n",
       "\n",
       "\tfunction getStyle(e,s){\n",
       "\t\tif (e.currentStyle) { return e.currentStyle[s]||''; }\n",
       "\t\telse if (window.getComputedStyle) { return window.getComputedStyle(e,null)[s]||''; }\n",
       "\t}\n",
       "\n",
       "\taddEvent(window,\"message\", catchMsg);\n",
       "\t\n",
       "\tfunction catchMsg(e) {\n",
       "\t\tif (typeof e.data == 'string') {\n",
       "\t\t\tvar str = e.data;\n",
       "\t\t\tif (str.indexOf('admBranding_padTop') != -1) {\n",
       "\t\t\t\tbranding.padTop = str.split('_')[str.split('_').length-1]; \n",
       "\t\t\t}\n",
       "\t\t\tif (str.indexOf('admBranding_bgColor') != -1) {\n",
       "\t\t\t\tbranding.bgColor = str.split('_')[str.split('_').length-1];\n",
       "\t\t\t}\n",
       "\t\t\tif (str.indexOf('admBranding_fixed') != -1) {\n",
       "\t\t\t\tbranding.fixed = str.split('_')[str.split('_').length-1];\n",
       "\t\t\t}\n",
       "\t\t\tif (str.indexOf('admBranding_hwAlco') != -1) {\n",
       "\t\t\t\tbranding.hwAlco = str.split('_')[str.split('_').length-1];\n",
       "\t\t\t\tbranding.hwAlco = (branding.hwAlco=='true')?true:false;\n",
       "\t\t\t}\n",
       "\t\t\tif (str.indexOf('admBranding_hwMed') != -1) {\n",
       "\t\t\t\tbranding.hwMed = str.split('_')[str.split('_').length-1];\n",
       "\t\t\t\tbranding.hwMed = (branding.hwMed=='true')?true:false;\n",
       "\t\t\t}\n",
       "\t\t\tif (str.indexOf('admBranding_iuaNew') != -1) {\n",
       "\t\t\t\tbranding.iuaNew = str.split('_')[str.split('_').length-1];\n",
       "\t\t\t\tbranding.iuaNew = (branding.iuaNew=='true')?true:false;\n",
       "\t\t\t}\n",
       "\t\t\tif (e.data == 'admix_branding') {\n",
       "\t\t\t\tloadBranding();\n",
       "\t\t\t\tremoveEvent(window,\"message\", catchMsg);\n",
       "\t\t\t}\n",
       "\t\t}\n",
       "\t}\n",
       "\n",
       "\tfunction loadBranding() {\n",
       "\t\tvar html_brnd,\n",
       "\t\t\thtml_brnd_first,\n",
       "\t\t\ttopId = ['admixer_async_681667001',  // weather\n",
       "\t\t\t\t\t'admixer_async_1388268464',  // video\n",
       "\t\t\t\t\t'admixer_async_395934906',  // tv\n",
       "\t\t\t\t\t'admixer_async_1382177623',  // radio\n",
       "\t\t\t\t\t'admixer_async_1115304362',  // prikol\n",
       "\t\t\t\t\t'admixer_async_1036325645',  // perevod\n",
       "\t\t\t\t\t'admixer_async_1071860055',  // otvet\n",
       "\t\t\t\t\t'admixer_async_2022697699',  // news\n",
       "\t\t\t\t\t'admixer_async_697525821',  // narod\n",
       "\t\t\t\t\t'admixer_async_1419050558',  // music\n",
       "\t\t\t\t\t'admixer_async_1890157712',  // map\n",
       "\t\t\t\t\t'admixer_async_98527678',  // mail\n",
       "\t\t\t\t\t'admixer_async_884978609',  // love\n",
       "\t\t\t\t\t'admixer_async_393312103',  // links\n",
       "\t\t\t\t\t'admixer_async_1871637314',  // job\n",
       "\t\t\t\t\t'admixer_async_1764799217',  // goroskop\n",
       "\t\t\t\t\t'admixer_async_1714031575',  // cook\n",
       "\t\t\t\t\t'admixer_async_1974191118',  // board\n",
       "\t\t\t\t\t'admixer_async_1023898800',  // blog\n",
       "\t\t\t\t\t'admixer_async_68886793', // finance\n",
       "\t\t\t\t\t'admixer_async_168746454', // kino\n",
       "\t\t\t\t\t'admixer_async_536713179',  // inner\n",
       "\t\t\t\t\t'admixer_top_weather',  // weather\n",
       "\t\t\t\t\t'admixer_top_video',  // video\n",
       "\t\t\t\t\t'admixer_top_tv',  // tv\n",
       "\t\t\t\t\t'admixer_top_radio',  // radio\n",
       "\t\t\t\t\t'admixer_top_prikol',  // prikol\n",
       "\t\t\t\t\t'admixer_top_perevod',  // perevod\n",
       "\t\t\t\t\t'admixer_top_otvet',  // otvet\n",
       "\t\t\t\t\t'admixer_top_news',  // news\n",
       "\t\t\t\t\t'admixer_top_narod',  // narod\n",
       "\t\t\t\t\t'admixer_top_music',  // music\n",
       "\t\t\t\t\t'admixer_top_map',  // map\n",
       "\t\t\t\t\t'admixer_top_mail',  // mail\n",
       "\t\t\t\t\t'admixer_top_love',  // love\n",
       "\t\t\t\t\t'admixer_top_links',  // links\n",
       "\t\t\t\t\t'admixer_top_job',  // job\n",
       "\t\t\t\t\t'admixer_top_goroskop',  // goroskop\n",
       "\t\t\t\t\t'admixer_top_cook',  // cook\n",
       "\t\t\t\t\t'admixer_top_board',  // board\n",
       "\t\t\t\t\t'admixer_top_blog',  // blog\n",
       "\t\t\t\t\t'admixer_top_finance',  // finance\n",
       "\t\t\t\t\t'admixer_top_kino',  // kino\n",
       "\t\t\t\t\t'admixer_top_inner',\n",
       "\t\t\t\t\t'admixer1900238815',  // РїРѕРіРѕРґР°\n",
       "\t\t\t\t\t'admixer1592765002',  // РІС–РґРµРѕ\n",
       "\t\t\t\t\t'admixer2018680908',  // Р±Р»РѕРі\n",
       "\t\t\t\t\t'admixer2003887078',  // РѕРіРѕР»РѕС€РµРЅРЅСЏ\n",
       "\t\t\t\t\t'admixer1839429767',  // СЂРµС†РµРїС‚Рё\n",
       "\t\t\t\t\t'admixer1440041165',  // С„С–РЅР°РЅСЃРё\n",
       "\t\t\t\t\t'admixer1482317815',  // РіРѕСЂРѕСЃРєРѕРї\n",
       "\t\t\t\t\t'admixer2119521347',  // РєС–РЅРѕ\n",
       "\t\t\t\t\t'admixer2141460128',  // Р·Р°РєР»Р°РґРєРё\n",
       "\t\t\t\t\t'admixer1437555796',  // Р·РЅР°Р№РѕРјСЃС‚РІР°\n",
       "\t\t\t\t\t'admixer1737613027',  // РїРѕС€С‚Р°\n",
       "\t\t\t\t\t'admixer1357023805',  // РєР°СЂС‚Рё\n",
       "\t\t\t\t\t'admixer1725162627',  // РјСѓР·РёРєР°\n",
       "\t\t\t\t\t'admixer2104168544',  // РЅР°СЂРѕРґ\n",
       "\t\t\t\t\t'admixer1941108520',  // РЅРѕРІРёРЅРё\n",
       "\t\t\t\t\t'admixer1391926897',  // РІС–РґРїРѕРІС–РґС–\n",
       "\t\t\t\t\t'admixer1299639551',  // РїРµСЂРµРєР»Р°Рґ\n",
       "\t\t\t\t\t'admixer1703810878',  // РїСЂРёРєРѕР»Рё\n",
       "\t\t\t\t\t'admixer1950921536',  // СЂР°РґС–Рѕ\n",
       "\t\t\t\t\t'admixer1325805726',  // С‚РµР»РµРїСЂРѕРіСЂР°РјР°\n",
       "\t\t\t\t\t'admixer2018677155',  // РІСЃС– С–РЅС€С– СЂРѕР·РґС–Р»Рё\n",
       "\t\t\t\t\t];  // inner\n",
       "\n",
       "\t\tfor (var i=0; i<topId.length; i++) {\n",
       "\t\t\tif (document.getElementById(topId[i])) {\n",
       "\t\t\t\thtml_brnd = document.getElementById(topId[i]);\n",
       "\t\t\t\tbreak;\n",
       "\t\t\t}\n",
       "\t\t}\n",
       "\t\t\n",
       "\t\tvar partition = window.location.hostname.split('.')[0];\n",
       "\t\t\n",
       "\t\tif (branding.iuaNew) {\n",
       "\n",
       "\t\t\tvar partitions_new = ['weather','finance','perevod','map','tv','goroskop','prikol'];\n",
       "\t\t\t\n",
       "\t\t\tvar isNewPartition = (function() {\n",
       "\t\t\t\tfor (var i=0; i < partitions_new.length; i++) {\n",
       "\t\t\t\t\tif (partitions_new[i] == partition) {\n",
       "\t\t\t\t\t\treturn true;\n",
       "\t\t\t\t\t}\n",
       "\t\t\t\t}\n",
       "\t\t\t\treturn false;\n",
       "\t\t\t})();\n",
       "\t\t\t\n",
       "\t\t\tif (isNewPartition) {\n",
       "\t\t\t\t\n",
       "\t\t\t\tvar bOffset = 47;\n",
       "\t\t\t\t\n",
       "\t\t\t\tif (html_brnd) {\n",
       "\t\t\t\t\tif (html_brnd.firstChild) {\n",
       "\t\t\t\t\t\thtml_brnd_first = html_brnd.firstChild;\n",
       "\t\t\t\t\t\tmerge(html_brnd_first.style, {'max-width':'100%','max-height':'100%','min-width':'100%','min-height':'100%'});\n",
       "\t\t\t\t\t}\n",
       "\t\t\t\t} else {\n",
       "\t\t\t\t\tconsole.log('Function loadBranding stopped');\n",
       "\t\t\t\t\tconsole.log('Place holder id for TOP banner is not found in topId array');\n",
       "\t\t\t\t\treturn;\n",
       "\t\t\t\t}\n",
       "\t\t\t\t\n",
       "\t\t\t\tif (typeof I_VER3 !== 'undefined') {\n",
       "\t\t\t\t\t\n",
       "\t\t\t\t\tif (GEBCN('body_container')[0]) {\n",
       "\t\t\t\t\t\tvar body_cont = GEBCN('body_container')[0];\n",
       "\t\t\t\t\t}\n",
       "\t\t\t\t\t\n",
       "\t\t\t\t\taddClass(document.body, 'iua_branding');\n",
       "\t\t\t\t\tdocument.body.style.overflowX = 'hidden';\n",
       "\t\t\t\t\t\n",
       "\t\t\t\t\tif (GEBCN('header_adv')[0]) {\n",
       "\t\t\t\t\t\tvar header_adv_cont = GEBCN('header_adv')[0];\n",
       "\t\t\t\t\t\theader_adv_cont.style.display = 'none';\n",
       "\t\t\t\t\t}\n",
       "\t\t\t\t\t\n",
       "\t\t\t\t\tif (GEBCN('header_container').length) {\n",
       "\t\t\t\t\t\tmerge(GEBCN('header_container')[0].style, {'position':'absolute','width':'100%','z-index':2});\n",
       "\t\t\t\t\t}\n",
       "\t\t\t\t\t\n",
       "\t\t\t\t\tif (GEBCN('page')[0]) {\n",
       "\t\t\t\t\t\tvar page_cont = GEBCN('page')[0];\n",
       "\t\t\t\t\t\tmerge(page_cont.style, {'position':'relative','z-index':1});\n",
       "\t\t\t\t\t\tvar contWidth = getStyle(page_cont, 'width'); \n",
       "\t\t\t\t\t\tif (~contWidth.indexOf(\"px\")) {\n",
       "\t\t\t\t\t\t\tcontWidth = +contWidth.slice(0,contWidth.length-2)+8;\n",
       "\t\t\t\t\t\t}\n",
       "\t\t\t\t\t}\n",
       "\t\t\t\t\t\n",
       "\t\t\t\t\tbody_cont.style.top = (bOffset+parseInt(branding.padTop)) + 'px';\n",
       "\t\t\t\t\t\n",
       "\t\t\t\t\tif (document.getElementById('section_nav')) {\n",
       "\t\t\t\t\t\tdocument.getElementById('section_nav').style.zIndex = 1;\n",
       "\t\t\t\t\t}\n",
       "\t\t\t\t\t\n",
       "\t\t\t\t\tif (GEBCN('footer_container').length) {\n",
       "\t\t\t\t\t\tmerge(GEBCN('footer_container')[0].style, {'top':parseInt(branding.padTop)+20+ 'px', 'z-index':1});\n",
       "\t\t\t\t\t}\n",
       "\t\t\t\t\t\n",
       "\t\t\t\t\tmerge(html_brnd.style, {'position':'fixed','top':bOffset+'px','width':'100%','height':'100%','overflow': 'hidden','z-index':0});\n",
       "\t\t\t\t\tdocument.body.appendChild(html_brnd);\n",
       "\t\t\t\t\t\n",
       "\t\t\t\t\t$(window).scroll(function () {\n",
       "\t\t\t\t\t\tif ($(window).scrollTop() >= bOffset) {\n",
       "\t\t\t\t\t\t\t$(html_brnd).css({'top':0+'px', 'position':'fixed'});\n",
       "\t\t\t\t\t\t} else {\n",
       "\t\t\t\t\t\t\t$(html_brnd).css({'top':bOffset-$(window).scrollTop()+'px', 'position':'absolute'});\n",
       "\t\t\t\t\t\t}\n",
       "\t\t\t\t\t});\n",
       "\t\t\t\t\t\n",
       "\t\t\t\t\tfunction addHealthWarning() {\n",
       "\t\t\t\t\t\tvar hwDiv = document.createElement('DIV');\n",
       "\t\t\t\t\t\tGEBCN('page')[0].appendChild(hwDiv);\n",
       "\t\t\t\t\t\tmerge(hwDiv.style, {\n",
       "\t\t\t\t\t\t\t'position':'relative',\n",
       "\t\t\t\t\t\t\t'width':'1100px',\n",
       "\t\t\t\t\t\t\t'height':'142px',\n",
       "\t\t\t\t\t\t\t'margin':'0 auto',\n",
       "\t\t\t\t\t\t\t'min-width':'1100px',\n",
       "\t\t\t\t\t\t\t'max-width':'1100px',\n",
       "\t\t\t\t\t\t\t'background-color':'#fff',\n",
       "\t\t\t\t\t\t\t'background-image': (branding.hwAlco ? 'url(//i.holder.com.ua/h/1/2/282_pf2_1.jpg)' : branding.hwMed ? 'url(//i.holder.com.ua/h/5/6/266_pf1_1.jpg)' : ''),\n",
       "\t\t\t\t\t\t\t'background-repeat':'no-repeat',\n",
       "\t\t\t\t\t\t\t'background-position':'center top',\n",
       "\t\t\t\t\t\t\t'background-size':'contain',\n",
       "\t\t\t\t\t\t\t'z-index':1\n",
       "\t\t\t\t\t\t});\n",
       "\t\t\t\t\t\t\n",
       "\t\t\t\t\t}\n",
       "\t\t\t\t\t\n",
       "\t\t\t\t\tif (branding.hwAlco || branding.hwMed) {\n",
       "\t\t\t\t\t\taddHealthWarning();\n",
       "\t\t\t\t\t}\n",
       "\t\t\t\t\t\t\n",
       "\t\t\t\t}\n",
       "\t\t\t\t\t\n",
       "\t\t\t}\n",
       "\t\t\t\t\n",
       "\t\t} else {\n",
       "\t\t\t\t\n",
       "\t\t\tif (html_brnd) {\n",
       "\t\t\t\tif (html_brnd.firstChild) {\n",
       "\t\t\t\t\thtml_brnd_first = html_brnd.firstChild;\n",
       "\t\t\t\t\tmerge(html_brnd_first.style, {'max-width':'100%','max-height':'150px','min-width':'100%','min-height':'150px'});\n",
       "\t\t\t\t}\n",
       "\t\t\t} else {\n",
       "\t\t\t\tconsole.log('Function loadBranding stopped');\n",
       "\t\t\t\tconsole.log('Place holder id for TOP banner is not found in topId array');\n",
       "\t\t\t\treturn;\n",
       "\t\t\t}\n",
       "\t\t\t\n",
       "\t\t\tmerge(html_brnd.style, {'width':'100%','height':'150px','max-width':'100%','max-height':'150px','min-width':'100%','min-height':'150px','margin':'0px auto'});\n",
       "\t\t\tif (GEBCN('header_adv').length) {\n",
       "\t\t\t\tGEBCN('header_adv')[0].style.padding = '0px';\n",
       "\t\t\t}\n",
       "\t\t\tif (GEBCN('header_adv_item').length) {\n",
       "\t\t\t\tmerge(GEBCN('header_adv_item')[0].style, { 'width':'100%', 'border':'none' });\n",
       "\t\t\t}\n",
       "\t\t\tif (GEBCN('widget_adv').length) {\n",
       "\t\t\t\tmerge(GEBCN('widget_adv')[0].style, { 'width':'100%', 'border':'none' });\n",
       "\t\t\t}\n",
       "\t\t\t\n",
       "\t\t}\n",
       "\t\t\n",
       "\t}\n",
       "})();\n",
       "</script><script async=\"\" src=\"//i.holder.com.ua/t/holder.js\" type=\"text/javascript\"></script><script type=\"text/javascript\">\n",
       "<!--\n",
       "if (window.frPr)\n",
       "\twindow.frPr();\n",
       "//-->\n",
       "</script>\n",
       "</p>\n",
       "<div class=\"body_container\">\n",
       "<div id=\"bmcounter\">\n",
       "<script language=\"javascript\" type=\"text/javascript\"><!--\n",
       "iS='<img src=\"//r.i.ua/s?u4&p0&n'+Math.random();\n",
       "iD=document;if(!iD.cookie)iD.cookie=\"b=b; path=/\";if(iD.cookie)iS+='&c1';\n",
       "try{\n",
       "iS+='&d'+(screen.colorDepth?screen.colorDepth:screen.pixelDepth)\n",
       "+\"&w\"+screen.width+'&h'+screen.height;\n",
       "}catch(e){}\n",
       "iT=iR=iD.referrer.replace(/^.*\\/\\//, '');iH=window.location.href.replace(/^.*\\/\\//, '');\n",
       "((iI=iT.indexOf('/'))!=-1)?(iT=iT.substring(0,iI)):(iI=iT.length);\n",
       "if(iT!=iH.substring(0,iI))iS+='&f'+escape(iR);\n",
       "iS+='&r'+escape(iH);\n",
       "iD.write(iS+'\" border=\"0\" width=\"1\" height=\"1\" />');\n",
       "bmQ='//c.bigmir.net/?s134156&t6&n'+Math.random();\n",
       "bmD=document;\n",
       "if(bmD.cookie)bmQ+='&c1';\n",
       "try{\n",
       "bmS=screen;bmQ+='&d'+(bmS.colorDepth?bmS.colorDepth:bmS.pixelDepth)+\"&r\"+bmS.width;\n",
       "}catch(e){}\n",
       "bmF = bmD.referrer.replace(/^.*\\/\\//, '');\n",
       "if(bmF.indexOf('.i.ua')==-1)bmQ+='&f'+escape(bmF);\n",
       "UtilLite.addEvent(window, 'load', function () {\n",
       "\tvar img = dge('bmcounter').appendChild(dce('IMG'));\n",
       "\timg.border=0;\n",
       "\timg.width=1;\n",
       "\timg.height=1;\n",
       "\timg.src=bmQ;\n",
       "});\n",
       "\n",
       "function ILoadScript(src){var t='script',gt=iD.createElement(t),s=iD.getElementsByTagName(t)[0];gt.setAttribute('async','async');gt.src=src; s.parentNode.insertBefore(gt,s);}\n",
       "var pp_gemius_identifier = new String('dwCQpEtqd7TlAvr7SgxU.qdzrodgRsOq3BIOSj1hWE7.h7');\n",
       "function gemius_pending(i) { window[i] = window[i] || function() {var x = window[i+'_pdata'] = window[i+'_pdata'] || []; x[x.length]=arguments;};};\n",
       "gemius_pending('gemius_hit'); gemius_pending('gemius_event'); gemius_pending('pp_gemius_hit'); gemius_pending('pp_gemius_event');\n",
       "ILoadScript('//kpmediagaua.hit.gemius.pl/xgemius.js');\n",
       "\n",
       "/*var tns_already, tnscm_adn = tnscm_adn || [];\n",
       "(function(c,m){if(c.indexOf&&c.indexOf(m)<0){c.unshift(m);}}(tnscm_adn,\"inline_cm\"));\n",
       "if (!tns_already) {\n",
       "\ttns_already=1;\n",
       "\n",
       "\tUtilLite.addEvent(window, 'load', function () {\n",
       "\t\tvar i=new Image();\n",
       "\t\ti.src=\"http://juke.mmi.bemobile.ua/bug/pic.gif?siteid=i.ua&j=1&nocache=\"+Math.random();\n",
       "\t\tILoadScript(\"http://source.mmi.bemobile.ua/cm/cm.js\");\n",
       "\t});\n",
       "}*/\n",
       "\n",
       "var _gaq = _gaq || [];\n",
       "_gaq.push(['_setAccount', 'UA-34374057-1']);\n",
       "_gaq.push(['_setDomainName', '.i.ua']);\n",
       "_gaq.push(['_addOrganic', 'go.mail.ru', 'q']);\n",
       "_gaq.push(['_addOrganic', 'nigma.ru', 's']);\n",
       "_gaq.push(['_addOrganic', 'search.qip.ru', 'query']);\n",
       "_gaq.push(['_addOrganic', 'aport.ru', 'r']);\n",
       "_gaq.push(['_addOrganic', 'webalta.ru', 'q']);\n",
       "_gaq.push(['_addOrganic', 'search.livetool.ru', 'text']);\n",
       "_gaq.push(['_addOrganic', 'poisk.ngs.ru', 'q']);\n",
       "_gaq.push(['_addOrganic', 'search.tyt.by', 'query']);\n",
       "_gaq.push(['_addOrganic', 'search.ukr.net', 'search_query']);\n",
       "_gaq.push(['_addOrganic', 'liveinternet.ru', 'q']);\n",
       "_gaq.push(['_addOrganic', 'meta.ua', 'q']);\n",
       "_gaq.push(['_addOrganic', 'gogo.ru', 'q']);\n",
       "_gaq.push(['_trackPageview']);\n",
       "UtilLite.addEvent(window, 'load', function () {\n",
       "\tILoadScript('//stats.g.doubleclick.net/dc.js');\n",
       "});\n",
       "//--></script><img alt=\"\" border=\"0\" height=\"1\" src=\"//counter.rambler.ru/top100.cnt?1017843\" width=\"1\"/></div><div id=\"zone_1703792907\"></div>\n",
       "<script>\n",
       "\t\t\t(function(w,d,o,g,r,a,m){\n",
       "\t\t\t\tvar cid=\"zone_1703792907\";\n",
       "\t\t\t\tw[r]=w[r]||function(){(w[r+\"l\"]=w[r+\"l\"]||[]).push(arguments)};\n",
       "\t\t\t\tfunction e(b,w,r){if((w[r+\"h\"]=b.pop())&&!w.ABN){\n",
       "\t\t\t\t\tvar a=d.createElement(o),p=d.getElementsByTagName(o)[0];a.async=1;\n",
       "\t\t\t\t\ta.src=\"https://cdn.\"+w[r+\"h\"]+\"/libs/e.js\";a.onerror=function(){e(g,w,r)};\n",
       "\t\t\t\t\tp.parentNode.insertBefore(a,p)}}e(g,w,r);\n",
       "\t\t\t\tw[r](cid,{id:1703792907,domain:w[r+\"h\"]});\n",
       "\t\t\t})(window,document,\"script\",[\"umh.ua\"],\"ABNS\");\n",
       "\t\t</script>\n",
       "<div class=\"header_overall\" id=\"header_overall\">\n",
       "<div class=\"ho_nav\">\n",
       "<a class=\"ho_logo\" href=\"https://www.i.ua\"></a>\n",
       "<ul class=\"ho_menu ho_menu-main\">\n",
       "<li class=\"ho_menu_item\"><a href=\"https://www.i.ua/\">Головна</a></li>\n",
       "<li class=\"ho_menu_item\"><span class=\"a ho_sections\" onclick=\"i_showSections(this)\">Розділи</span></li>\n",
       "</ul>\n",
       "<ul class=\"ho_menu ho_menu-sections\" id=\"user_sections2_editable\">\n",
       "</ul>\n",
       "<ul class=\"ho_menu ho_menu-account\">\n",
       "<li class=\"ho_menu_item\"><a href=\"https://passport.i.ua/login/\" onclick=\"return i_showFloat(1);\">Вхід</a></li>\n",
       "<li class=\"ho_menu_item\"><a href=\"https://passport.i.ua/registration/?_url=https%3A%2F%2Flove.i.ua%2Fuser%2F12397249%2F\">Реєстрація</a></li>\n",
       "</ul>\n",
       "</div>\n",
       "<div class=\"ho_sections_nav\" id=\"sections\" style=\"display: none\">\n",
       "<div class=\"ho_sections_content ho_sections_nav_set\">\n",
       "<ul class=\"ho_site_sections\">\n",
       "<li class=\"ho_site_sections_item\"><a class=\"icon i_mail\" href=\"http://mail.i.ua/\" sectionid=\"11\">Пошта</a></li><li class=\"ho_site_sections_item\"><a class=\"icon i_finance\" href=\"https://finance.i.ua/\" sectionid=\"45\">Фінанси</a></li><li class=\"ho_site_sections_item\"><a class=\"icon i_map\" href=\"https://map.i.ua/\" sectionid=\"43\">Карти</a></li><li class=\"ho_site_sections_item\"><a class=\"icon i_tv\" href=\"https://tv.i.ua/\" sectionid=\"26\">TV</a></li><li class=\"ho_site_sections_item\"><a class=\"icon i_weather\" href=\"https://weather.i.ua/\" sectionid=\"23\">Погода</a></li><li class=\"ho_site_sections_item\"><a class=\"icon i_cancer\" href=\"https://goroskop.i.ua/\" sectionid=\"22\">Гороскоп</a></li><li class=\"ho_site_sections_item\"><a class=\"icon i_music\" href=\"http://music.i.ua/\" sectionid=\"64\">Музика</a></li><li class=\"ho_site_sections_item\"><a class=\"icon i_radio\" href=\"http://radio.i.ua/\" sectionid=\"81\">Радіо</a></li><li class=\"ho_site_sections_item\"><a class=\"icon i_kino\" href=\"http://kino.i.ua/\" sectionid=\"55\">Кіно</a></li><li class=\"ho_site_sections_item\"><a class=\"icon i_perevod\" href=\"https://perevod.i.ua/\" sectionid=\"29\">Переклад</a></li><li class=\"ho_site_sections_item\"><a class=\"icon i_org\" href=\"http://org.i.ua/\" sectionid=\"47\">Органайзер</a></li><li class=\"ho_site_sections_item\"><a class=\"icon i_files\" href=\"https://files.i.ua/\" sectionid=\"56\">Файли</a></li><li class=\"ho_site_sections_item\"><a class=\"icon i_job\" href=\"http://job.i.ua/\" sectionid=\"16\">Робота</a></li><li class=\"ho_site_sections_item\"><a class=\"icon i_catalog\" href=\"http://catalog.i.ua/\" sectionid=\"24\">Каталог</a></li><li class=\"ho_site_sections_item\"><a class=\"icon i_links\" href=\"http://links.i.ua/\" sectionid=\"36\">Закладки</a></li><li class=\"ho_site_sections_item\"><a class=\"icon i_rss\" href=\"http://rss.i.ua/\" sectionid=\"17\">RSS</a></li><li class=\"ho_site_sections_item\"><a class=\"icon i_board\" href=\"http://board.i.ua/\" sectionid=\"41\">Оголошення</a></li><li class=\"ho_site_sections_item\"><a class=\"icon i_news\" href=\"http://news.i.ua/\" sectionid=\"48\">Новини</a></li><li class=\"ho_site_sections_item\"><a class=\"icon i_otvet\" href=\"http://otvet.i.ua/\" sectionid=\"69\">Відповіді</a></li><li class=\"ho_site_sections_item\"><a class=\"icon i_oboi\" href=\"http://oboi.i.ua/\" sectionid=\"42\">Шпалери</a></li><li class=\"ho_site_sections_item\"><a class=\"icon i_cards\" href=\"http://cards.i.ua/\" sectionid=\"49\">Листівки</a></li><li class=\"ho_site_sections_item\"><a class=\"icon i_group\" href=\"http://group.i.ua/\" sectionid=\"74\">Групи</a></li><li class=\"ho_site_sections_item\"><a class=\"icon i_narod\" href=\"https://narod.i.ua/\" sectionid=\"28\">Народ</a></li><li class=\"ho_site_sections_item\"><a class=\"icon i_prikol\" href=\"https://prikol.i.ua/\" sectionid=\"20\">Приколи</a></li><li class=\"ho_site_sections_item\"><a class=\"icon i_love\" href=\"https://love.i.ua/\" sectionid=\"21\">Знайомства</a></li><li class=\"ho_site_sections_item\"><a class=\"icon i_photo\" href=\"http://photo.i.ua/\" sectionid=\"25\">Фото</a></li><li class=\"ho_site_sections_item\"><a class=\"icon i_blog\" href=\"http://blog.i.ua/\" sectionid=\"30\">Блоги</a></li><li class=\"ho_site_sections_item\"><a class=\"icon i_video\" href=\"https://video.i.ua/\" sectionid=\"32\">Відео</a></li><li class=\"ho_site_sections_item\"><a class=\"icon i_cook\" href=\"http://cook.i.ua/\" sectionid=\"59\">Рецепти</a></li> </ul>\n",
       "</div>\n",
       "<i class=\"ho_sections_nav_switcher\" onclick=\"i_showSections();\" title=\"Приховати меню розділів\"></i>\n",
       "</div>\n",
       "</div>\n",
       "<div class=\"header_adv summer\">\n",
       "<div class=\"header_adv_item\">\n",
       "<div id=\"zone_1437555796\"></div>\n",
       "<script>\n",
       "\t\t\t(function(w,d,o,g,r,a,m){\n",
       "\t\t\t\tvar cid=\"zone_1437555796\";\n",
       "\t\t\t\tw[r]=w[r]||function(){(w[r+\"l\"]=w[r+\"l\"]||[]).push(arguments)};\n",
       "\t\t\t\tfunction e(b,w,r){if((w[r+\"h\"]=b.pop())&&!w.ABN){\n",
       "\t\t\t\t\tvar a=d.createElement(o),p=d.getElementsByTagName(o)[0];a.async=1;\n",
       "\t\t\t\t\ta.src=\"https://cdn.\"+w[r+\"h\"]+\"/libs/e.js\";a.onerror=function(){e(g,w,r)};\n",
       "\t\t\t\t\tp.parentNode.insertBefore(a,p)}}e(g,w,r);\n",
       "\t\t\t\tw[r](cid,{id:1437555796,domain:w[r+\"h\"]});\n",
       "\t\t\t})(window,document,\"script\",[\"umh.ua\"],\"ABNS\");\n",
       "\t\t</script> </div>\n",
       "</div>\n",
       "<div class=\"section_nav\">\n",
       "<ul class=\"sn_menu\">\n",
       "<li class=\"sn_menu_item\"><span class=\"sn_menu_title\">Знайомства</span></li>\n",
       "<li class=\"sn_menu_item\"><a href=\"/\">Початок</a></li>\n",
       "<li class=\"sn_menu_item\"><a href=\"/user/0/\" onclick=\"return i_showFloat(1, 'http://love.i.ua/user/0/');\">Додати анкету</a></li>\n",
       "<li class=\"sn_menu_item\"><a href=\"/search/\">Знайти анкету</a></li>\n",
       "</ul>\n",
       "</div>\n",
       "<!--/branding -->\n",
       "<!-- }}} HEADER -->\n",
       "<div class=\"Body clear\">\n",
       "<div class=\"Right\">\n",
       "<!-- LEFT {{{ -->\n",
       "<!-- Right content -->\n",
       "<div class=\"baner\"><div id=\"zone_1756698084\"></div>\n",
       "<script>\n",
       "\t\t\t(function(w,d,o,g,r,a,m){\n",
       "\t\t\t\tvar cid=\"zone_1756698084\";\n",
       "\t\t\t\tw[r]=w[r]||function(){(w[r+\"l\"]=w[r+\"l\"]||[]).push(arguments)};\n",
       "\t\t\t\tfunction e(b,w,r){if((w[r+\"h\"]=b.pop())&&!w.ABN){\n",
       "\t\t\t\t\tvar a=d.createElement(o),p=d.getElementsByTagName(o)[0];a.async=1;\n",
       "\t\t\t\t\ta.src=\"https://cdn.\"+w[r+\"h\"]+\"/libs/e.js\";a.onerror=function(){e(g,w,r)};\n",
       "\t\t\t\t\tp.parentNode.insertBefore(a,p)}}e(g,w,r);\n",
       "\t\t\t\tw[r](cid,{id:1756698084,domain:w[r+\"h\"]});\n",
       "\t\t\t})(window,document,\"script\",[\"umh.ua\"],\"ABNS\");\n",
       "\t\t</script></div>\n",
       "<div class=\"baner\">\n",
       "<div id=\"holder_300x250_7731\"></div>\n",
       "<script type=\"text/javascript\">\n",
       "\t\t\tif (!window.holder) {\n",
       "\t\t\t\tvar script = document.createElement(\"script\");\n",
       "\t\t\t\tscript.onload = initWelcomToIUA;\n",
       "\t\t\t\tscript.src = \"//i.holder.com.ua/t/holder.js\";\n",
       "\t\t\t\tdocument.body.appendChild(script);\n",
       "\t\t\t} else {\n",
       "\t\t\t\tinitWelcomToIUA();\n",
       "\t\t\t};\n",
       "\t\t\tfunction initWelcomToIUA() {\n",
       "\t\t\t\tnew holder(\"holder_300x250_7731\",{block:7731});\n",
       "\t\t\t};\n",
       "\t\t</script></div><!-- /Right content -->\n",
       "<!-- }}} LEFT -->\n",
       "</div>\n",
       "<div class=\"Left\">\n",
       "<div class=\"Wrap\">\n",
       "<!-- CENTER {{{ -->\n",
       "<!-- Left content -->\n",
       "<div class=\"Left_fixed clear\">\n",
       "<div class=\"Left\">\n",
       "<div class=\"profile_photo\"><div class=\"preview\"><img id=\"bigsat\" src=\"https://os1.i.ua/3/8/16243380_bd86757b_64b6468e.jpg\"/> </div></div>\n",
       "<ul class=\"list_simple\">\n",
       "<li class=\"toolbar\"><a class=\"button l_r communicate\" href=\"/chat/?addUser=12397249\" title=\"написати власнику анкети\"><b></b>Поспілкуватися</a> </li>\n",
       "<li><a class=\"link like\" href=\"https://passport.i.ua/login/?_url=https%3A%2F%2Flove.i.ua%2Fuser%2F12397249%2F\" onclick=\"return i_showFloat(1, 'https://love.i.ua/user/12397249/');\" title=\"Додати в блокнот\"><i></i>Додати в блокнот</a></li>\n",
       "<li><a class=\"cards_16\" href=\"https://passport.i.ua/login/?_url=http%3A%2F%2Fcards.i.ua%2F%3Fsct%3D%25D1%25E2%25E5%25F2%25EB%25E0%25ED%25FC%26scti%3D12397249\" onclick=\"return i_showFloat(1, 'http://cards.i.ua/?sct=%D1%E2%E5%F2%EB%E0%ED%FC&amp;scti=12397249');\"><i></i>Надіслати листівку</a></li> <li><a class=\"gift important\" href=\"https://narod.i.ua/present/12397249/\"><i></i>Зробити подарунок</a></li>\n",
       "<li><a class=\"mail_16\" href=\"http://passport.i.ua/login/?_url=https://love.i.ua/user/12397249/\"></a><i></i>Написати листа</li>\n",
       "</ul>\n",
       "<ul class=\"user_controls sections clear\"><li><a class=\"photo_16\" href=\"http://photo.i.ua/user/12397249/\"><i></i>фотоальбом</a></li><li><a class=\"narod_16\" href=\"http://narod.i.ua/user/12397249/profile/\"><i></i>профіль</a></li><li><a class=\"gbook_16\" href=\"http://narod.i.ua/user/12397249/gbook/\"><i></i>гостьова</a></li><li><a class=\"friends_16\" href=\"http://narod.i.ua/friends/12397249/\"><i></i>друзі</a></li></ul> </div>\n",
       "<div class=\"Right\">\n",
       "<div class=\"Wrap\">\n",
       "<div class=\"profile_info\">\n",
       "<h2 class=\"underlined\">\n",
       "<div class=\"float_right\">Профіль <a class=\"girl\" href=\"http://narod.i.ua/user/12397249/\"><i></i>Светлань</a></div><span class=\"girl\"><i></i>Светлана</span> <span class=\"maketop\" title=\"анкета піднімалася 19.07.2023\"><i></i></span></h2>\n",
       "<ul class=\"list_cols_2 clear\">\n",
       "<li><p>Україна, Київ<br/><b>49 років</b>, <a href=\"https://goroskop.i.ua/aquarius/\" target=\"_blank\">водолій</a></p></li>\n",
       "<li><p><span class=\"description\">Була на сайті: 6 годин тому<br/>Анкета додана 18.07.2023</span></p></li>\n",
       "</ul>\n",
       "<div id=\"name_block\"><p>Дама с собачкой желает познакомиться с приятным молодым (и не очень) мужчиной для совместного досуга)</p></div>\n",
       "<div id=\"look_block\"><h3>Шукаю хлопця 40—55 років</h3><p>МУЖЧИНУ во всех его проявлениях!</p></div>\n",
       "<div id=\"interests_block\">\n",
       "<h4>Мої інтереси</h4>\n",
       "<p class=\"interests_list\"><a href=\"https://narod.i.ua/interests/?fid=-387667946\">медицина</a><sup>651</sup>\n",
       ", <a href=\"https://narod.i.ua/interests/?fid=-847095343\">психология</a><sup>3758</sup>\n",
       "</p>\n",
       "</div>\n",
       "</div>\n",
       "<div class=\"block_gamma_gradient\"><div class=\"tl\"></div><div class=\"br\"></div>\n",
       "<div class=\"content clear\">\n",
       "<div class=\"sorting clear\">\n",
       "<h2>Мої фотографії</h2> </div>\n",
       "<ul class=\"preview_list clear single_line\" id=\"preview_list\">\n",
       "<li><span class=\"preview\" title=\"Збільшити\"><img alt=\"\" onclick=\"Autoload.call('picPreview.showFloat', 'preview_list', this, 'https://os1.i.ua/3/1/16243380_705d69fd.jpg', 522, 696);\" src=\"https://os1.i.ua/3/2/16243380_d5550291.jpg\" style=\"width:75px;height:100px;margin:0px 12px 0px 13px\"/></span></li>\n",
       "</ul>\n",
       "</div></div><div class=\"baner\">\n",
       "<div id=\"zone_1602560199\"></div>\n",
       "<script>\n",
       "\t\t\t(function(w,d,o,g,r,a,m){\n",
       "\t\t\t\tvar cid=\"zone_1602560199\";\n",
       "\t\t\t\tw[r]=w[r]||function(){(w[r+\"l\"]=w[r+\"l\"]||[]).push(arguments)};\n",
       "\t\t\t\tfunction e(b,w,r){if((w[r+\"h\"]=b.pop())&&!w.ABN){\n",
       "\t\t\t\t\tvar a=d.createElement(o),p=d.getElementsByTagName(o)[0];a.async=1;\n",
       "\t\t\t\t\ta.src=\"https://cdn.\"+w[r+\"h\"]+\"/libs/e.js\";a.onerror=function(){e(g,w,r)};\n",
       "\t\t\t\t\tp.parentNode.insertBefore(a,p)}}e(g,w,r);\n",
       "\t\t\t\tw[r](cid,{id:1602560199,domain:w[r+\"h\"]});\n",
       "\t\t\t})(window,document,\"script\",[\"umh.ua\"],\"ABNS\");\n",
       "\t\t</script></div>\n",
       "<ul class=\"list_cols_3 clear\">\n",
       "</ul>\n",
       "</div>\n",
       "</div>\n",
       "</div>\n",
       "<!-- /Left content -->\n",
       "<!-- }}} CENTER -->\n",
       "</div>\n",
       "</div>\n",
       "</div>\n",
       "<!-- FOOTER {{{ -->\n",
       "</div><!-- /.body_container --><div class=\"footer_container\">\n",
       "<div class=\"footer_adv\">\n",
       "<div class=\"widget_adv widget-mt\" style=\"z-index: 0\">\n",
       "<div id=\"zone_2082798116\"></div>\n",
       "<script>\n",
       "\t\t\t(function(w,d,o,g,r,a,m){\n",
       "\t\t\t\tvar cid=\"zone_2082798116\";\n",
       "\t\t\t\tw[r]=w[r]||function(){(w[r+\"l\"]=w[r+\"l\"]||[]).push(arguments)};\n",
       "\t\t\t\tfunction e(b,w,r){if((w[r+\"h\"]=b.pop())&&!w.ABN){\n",
       "\t\t\t\t\tvar a=d.createElement(o),p=d.getElementsByTagName(o)[0];a.async=1;\n",
       "\t\t\t\t\ta.src=\"https://cdn.\"+w[r+\"h\"]+\"/libs/e.js\";a.onerror=function(){e(g,w,r)};\n",
       "\t\t\t\t\tp.parentNode.insertBefore(a,p)}}e(g,w,r);\n",
       "\t\t\t\tw[r](cid,{id:2082798116,domain:w[r+\"h\"]});\n",
       "\t\t\t})(window,document,\"script\",[\"umh.ua\"],\"ABNS\");\n",
       "\t\t</script> <div id=\"zone_1486955458\"></div>\n",
       "<script>\n",
       "\t\t\t(function(w,d,o,g,r,a,m){\n",
       "\t\t\t\tvar cid=\"zone_1486955458\";\n",
       "\t\t\t\tw[r]=w[r]||function(){(w[r+\"l\"]=w[r+\"l\"]||[]).push(arguments)};\n",
       "\t\t\t\tfunction e(b,w,r){if((w[r+\"h\"]=b.pop())&&!w.ABN){\n",
       "\t\t\t\t\tvar a=d.createElement(o),p=d.getElementsByTagName(o)[0];a.async=1;\n",
       "\t\t\t\t\ta.src=\"https://cdn.\"+w[r+\"h\"]+\"/libs/e.js\";a.onerror=function(){e(g,w,r)};\n",
       "\t\t\t\t\tp.parentNode.insertBefore(a,p)}}e(g,w,r);\n",
       "\t\t\t\tw[r](cid,{id:1486955458,domain:w[r+\"h\"]});\n",
       "\t\t\t})(window,document,\"script\",[\"umh.ua\"],\"ABNS\");\n",
       "\t\t</script> <!--/advertising -->\n",
       "</div>\n",
       "<div class=\"widget_adv widget-pda\"></div>\n",
       "</div>\n",
       "<div class=\"footer_overall\">\n",
       "<div class=\"wrapper\">\n",
       "<div class=\"fo_nav\">\n",
       "<div class=\"fo_sections_nav\">\n",
       "<ul class=\"fo_site_sections\"><li class=\"fo_site_sections_item\"><a href=\"https://mail.i.ua/\">Пошта</a></li><li class=\"fo_site_sections_item\"><a href=\"https://job.i.ua/\">Робота</a></li><li class=\"fo_site_sections_item\"><a href=\"https://search.i.ua/\">Пошук</a></li><li class=\"fo_site_sections_item\"><a href=\"https://soft.i.ua/\">Програми</a></li><li class=\"fo_site_sections_item\"><a href=\"https://catalog.i.ua/\">Каталог</a></li><li class=\"fo_site_sections_item\"><a href=\"https://links.i.ua/\">Закладки</a></li><li class=\"fo_site_sections_item\"><a href=\"https://rss.i.ua/\">RSS</a></li><li class=\"fo_site_sections_item\"><a href=\"https://board.i.ua/\">Оголошення</a></li><li class=\"fo_site_sections_item\"><a href=\"https://weather.i.ua/\">Погода</a></li><li class=\"fo_site_sections_item\"><a href=\"https://goroskop.i.ua/\">Гороскоп</a></li><li class=\"fo_site_sections_item\"><a href=\"https://tv.i.ua/\">Телепрограма</a></li><li class=\"fo_site_sections_item\"><a href=\"https://finance.i.ua/\">Курси валют</a></li><li class=\"fo_site_sections_item\"><a href=\"https://perevod.i.ua/\">Перекладач</a></li><li class=\"fo_site_sections_item\"><a href=\"https://narod.i.ua/\">Народ</a></li><li class=\"fo_site_sections_item\"><a href=\"https://prikol.i.ua/\">Приколи</a></li><li class=\"fo_site_sections_item\"><a href=\"https://love.i.ua/\">Знайомства</a></li><li class=\"fo_site_sections_item\"><a href=\"https://photo.i.ua/\">Фотоальбоми</a></li><li class=\"fo_site_sections_item\"><a href=\"https://blog.i.ua/\">Блоги</a></li><li class=\"fo_site_sections_item\"><a href=\"https://video.i.ua/\">Відео</a></li><li class=\"fo_site_sections_item\"><a href=\"https://oboi.i.ua/\">Шпалери</a></li><li class=\"fo_site_sections_item\"><a href=\"https://cards.i.ua/\">Листівки</a></li><li class=\"fo_site_sections_item\"><a href=\"https://map.i.ua/\">Карти</a></li><li class=\"fo_site_sections_item\"><a href=\"https://news.i.ua/\">Новини</a></li><li class=\"fo_site_sections_item\"><a href=\"https://kino.i.ua/\">Кіно</a></li><li class=\"fo_site_sections_item\"><a href=\"https://org.i.ua/\">Органайзер</a></li><li class=\"fo_site_sections_item\"><a href=\"https://files.i.ua/\">Файли</a></li><li class=\"fo_site_sections_item\"><a href=\"https://cook.i.ua/\">Рецепти</a></li><li class=\"fo_site_sections_item\"><a href=\"https://music.i.ua/\">Музика</a></li><li class=\"fo_site_sections_item\"><a href=\"https://otvet.i.ua/\">Відповіді</a></li><li class=\"fo_site_sections_item\"><a href=\"https://group.i.ua/\">Групи</a></li><li class=\"fo_site_sections_item\"><a href=\"https://radio.i.ua/\">Радіо</a></li></ul>\n",
       "</div><div class=\"fo_sidebar\">\n",
       "<div class=\"section_adv\">\n",
       "<span class=\"_title\"><a class=\"icon-l i_radio\" href=\"https://radio.i.ua/\"><i></i>Радіо онлайн</a></span>\n",
       "\t\t\t\t\t\tСлухай улюблені радіостанції в одному місці\t\t\t\t\t</div>\n",
       "</div>\n",
       "</div>\n",
       "<div class=\"fo_copyright\">\n",
       "<div class=\"counter\">\n",
       "<a href=\"//www.i.ua/\" onclick=\"this.href='//i.ua/r.php?1';\" target=\"_blank\" title=\"Каталог сайтов, поиск в Украине\"><img border=\"0\" height=\"31\" src=\"//i.i.ua/r/3_1_2.png\" width=\"88\"/></a> \t\t\t\t</div>\n",
       "<div class=\"copyright\">I.UA, 2006—2023.</div>\n",
       "<ul class=\"fo_copyright_nav\">\n",
       "<li class=\"fo_copyright_nav_item\"><a href=\"https://help.i.ua/section/21/\">Зворотний зв'язок</a></li>\n",
       "<li class=\"fo_copyright_nav_item\"><a href=\"https://help.i.ua/privacy-policy/\">Політика конфіденційності</a></li>\n",
       "</ul>\n",
       "</div>\n",
       "</div>\n",
       "</div>\n",
       "<div class=\"alarm\"> <span class=\"disclaimer_button\" onclick=\"i_closeDisclaimer(this)\" title=\"закрити\">Ok</span>\n",
       "\tДля зручності користування сайтом використовуються Cookies. Детальніше у <a href=\"https://help.i.ua/privacy-policy/\" target=\"_blank\">політиці конфіденційності</a>\n",
       "<br/>\n",
       "\tThis website uses cookies to ensure you get the best experience on our website. <a href=\"https://help.i.ua/privacy-policy/\" target=\"_blank\">Learn more</a>\n",
       "</div>\n",
       "<!--- 04061333 --><iframe name=\"n04061333\" style=\"display:none\"></iframe><script>(function(s,_,j,t){\"use strict\";function r(w,b){function t(){var t,r,o,e,n,i=[],a=s[W][kr],f=a[P];for(c=0;c<_[0][P];c++)for(_[0][c]=I(_[0][c],\"*\"),t=I(_[0][c][0]),o=0;o<t[P];o++)if(n=(e=t[o])[P],Ut[Gr](i,e),e==a||Qt[Gr](a,f-n)==e&&\".\"==a[f-n-1])return _[0][c];r||ar(\"no\",i)}function r(t){var r,o,e=\"\";for(r=0;r<t[P];r++)e+=1==(o=d[Kt[Gr](t,r)-32])[P]?o:Yt(hr+o);return e}function v(){function i(){var t,r,o,e,n=\"\";for(t in O){if(!(o=Bt[Gr](L[t]))[X])return lt(i,100);for(r=0;r<O[t][P];r++)R[r]&&(e=Bt[Gr](R[r]),n+=\".fsl\"+O[t][r][0]+\"{height:\"+(o[y[O[t][r][1]]]-e[y[0]])+\"px}\")}if(n)for(t=0;t<E[P];t++)Pt[Gr](E[t],x(bo,n));O={}}function t(t){var r;try{return Jt[Gr](M,t)<0&&(Ut[Gr](M,t),r=jt[Gr](t,U),Ut[Gr](C,r)),C[Jt[Gr](M,t)]}catch(t){return ar(t),0}}function r(t,r,o){var e,n,i,a,f,c,d,s,l='<div class=\"sl'+o+'\"><div class=\"sl\">',u=I(r[3],\".\"),p=I(r[1],\".\"),h=I(p[4],\":\"),b=I(r[0],\".\"),v=p[3]&&p[1]?x(\"clear\"):\"\";for(e=0;e<u[P];e++)f=u[e],c=I(w[H[f][0]]),l+=g(f,H[f][1],H[f][2]);for(d={},e=0;e<4;e++)d[y[e]]=b[e];for(e in p[2]&&(d[y[3]]=zt(d[y[3]])+Nt[Gr](m[t])),s=\".sl\"+o+\"{\"+(r[4]||\"\"),d)d[e]&&(s+=\"margin-\"+e+\":\"+(\" \"==d[e]?\"auto\":d[e]+\"px\")+\";\");s+=io+A[p[0]],s=x(bo,s+\"}\"),k[t][p[3]?1:0]+=v+l+\"</div></div>\"+s}function g(t,r,o){function e(t,r){return'<a class=\"i c'+r+\" i\"+t+'\" href=\"'+zo+j[2][t]+'\">'+x(\"kt\",j[0][t])+x(\"bg\")+x(\"kd\",j[1][t])+\"</a>\"}var n,i=_t(),a=zt(o[6]),f=zt(o[7]),c=er(),d='<div class=\"z z'+t+'\">';if(a&&i<a||f&&f<i)return\"\";for(N&&(d+=x(\"r\",x(\"rr\",N))),n=0;n<r;n++)d+=e((c+n)%j[0][P],(c+n)%5);return d+\"</div>\"}function x(t,r){return\"<\"+t+\">\"+(r||\"\")+\"</\"+t+\">\"}var m,k,o,e,n,a,f,c,d,s,l,u,p,h;for(lt(v,lr),m=[],k=[],a=0;a<S[P];a++)for(o=pt(_[3][S[a]]),f=0;f<o[P];f++)e=o[f],Jt[Gr](D,e)<0&&(Ut[Gr](D,e),It[Gr](e,bo,q+\":\"+B));for(a=0;a<z[P];a++){for(d=I(z[a]),s=[],l=I(d[2],\".\"),T[a]=T[a]||[],o=pt(_[3][l[0]]),f=0;f<o[P];f++){if(e=o[f],u=l[1],p=l[2],u)for(;Rt[Gr](e)&&u--;)e=Rt[Gr](e);if(p)for(h=Ht,p<0&&(h=Ot,p=0-p);h[Gr](e)&&p--;)e=h[Gr](e);if(Ut[Gr](s,e),Jt[Gr](T[a],e)<0){Ut[Gr](T[a],e),Jt[Gr](m,e)<0&&(Ut[Gr](k,[\"\",\"\"]),Ut[Gr](m,e)),r(Jt[Gr](m,e),d,a);break}}for(f=0;f<T[a][P];f++)(e=T[a][f])&&Jt[Gr](s,e)<0&&(T[a][f]=0,(n=t(e))&&Wt[Gr](n,x(To)))}for(a=0;a<m[P];a++)if(n=t(m[a])){for(f in Wt[Gr](n,x(\"cv\",k[a][0])+x(To)+x(\"cv\",k[a][1])+x(bo,b)+x(ho)),Ut[Gr](E,ht[Gr](n,ho)[0]),O)for(c=0;c<O[f][P];c++)(e=ht[Gr](n,\".fsl\"+O[f][c][0])[0])&&(R[c]=e);R[P]&&i()}}var c,o,e,n,i,a=I(\"5d0a0a|fcc|\"+\"06522b|cdffd6|\"+\"06526d|b7d5e6|\"+\"a4510b|ffdfcc|\"+\"500a5d|fcc\"),y=I(\"top|right|bottom|left\"),A=I(\"absolute|static|relative\"),f=t(),z=I(f[1],\"$\"),S=I(f[2],\",\"),T=[],M=[],C=[],D=[],L=[],R=[],E=[],O={},H=_[2],d=I(Xt[Gr](j),\"~\"),N=j[3]?r(j[3]):\"\";if(z){for(c=0;c<5;c++)b+=\".c\"+c+\"{background-color: #\"+a[2*c]+\"}\"+\".c\"+c+\" kd{color: #\"+a[2*c+1]+\"}\",c<2&&(j[c]=I(r(j[c])));for(j[2]=I(j[2]),c=0;c<H[P];c++){for(o=I(H[c]),e=Xt[Gr](o),n=I(w[e]),b+=\".z\"+c+\">.i{width:\"+100/n[2]+\"%;\"+\"height:\"+100/n[3]+\"%}\"+\".z\"+c+\", .z\"+c+\">r{width:\"+n[0]+\"px}\"+\".z\"+c+\"{height:\"+n[1]+\"px;\",i=0;i<4;i++)o[i]&&(b+=\"margin-\"+y[i]+\":\"+(\" \"==o[i]?\"auto\":o[i]+\"px\")+\";\");o[4]?b+=\"float:\"+y[o[4]]:b+=\"clear:both\",b+=\"}\",H[c]=[e,n[2]*n[3],o]}v()}}function a(){function t(){var t,r=yt[Gr](e);if(At[Gr](e)==i&&r[P]>lr)try{return t=bt(Kr),Lt[Gr](t,dr[Gr](r,Nr,ir)),gt(t)}catch(t){return}n=xt(),o()}function o(){xt()-n>Cr?tt++<3&&lt(a,Cr*tt):r(_[1],Vt)}var e=new kt,n=xt(),i=vr+\"s://\"+ko+ur;St[Gr](e,N,i),Mt[Gr](e,L,t),Mt[Gr](e,O,o),Tt[Gr](e,s[W][H])}function I(t,r){return Gt[Gr](t,r||\"|\")}var o,e,n,i,f,c,q,d,l,u,p,h,b,v,g,x,m,B,k,w,y,A,z,P,S,T,M,C,D,L,R,E,O,W,H,N,F,J,U,X,$,G,K,Q,V,Y,Z,tt,rt,ot,et,nt,it,at,ft,ct,dt,st,lt,ut,pt,ht,bt,vt,gt,xt,mt,kt,wt,yt,At,zt,St,Tt,Mt,Ct,Dt,Lt,Rt,Et,Ot,Ht,Nt,_t,jt,It,qt,Bt,Pt,Wt,Ft,Jt,Ut,Xt,$t,Gt,Kt,Qt,Vt,Yt,Zt,tr,rr,or,er,nr,ir,ar,fr,cr,dr,sr,lr=300,ur=\"/z\",pr,hr=\"0x0\",br,vr=\"http\",gr=\"substr\",xr,mr,kr=\"host\",wr,yr=\"body\",Ar,zr=\"name\",Sr=\"javascript\",Tr=\"insertBefore\",Mr=\"insertAdjacentHTML\",Cr=lr,Dr=\"argon_\"+\"debug\"+\"=1\",Lr,Rr=\"Element\",Er=\"prototype\",Or=\"frame\",Hr=\"i\"+Or,Nr=zr+\"274625294\",_r=\"create\"+Rr,jr=\"appendChild\",Ir=\"beforeend\",qr=Or+Rr,Br=\"querySelectorAll\",Pr=\"getOwnPropertyDescriptor\",Wr=\"getBoundingClientRect\",Fr=\"Object\",Jr=\"charCodeAt\",Ur=\"fromCharCode\",Xr=\"zmc\"+\"track\"+\".net\",$r=\"bind\",Gr=\"call\",Kr=\"script\",Qr=\"head\",Vr=\"get\",Yr=\"set\",Zr=\"replace\",to=\"indexOf\",ro=\"cookie\",oo=\"XMLHttpRequest\",eo=\"Date\",no=\"now\",io=\"position:\",ao=\"response\",fo=ao+\"Text\",co=ao+\"URL\",so=\"open\",lo=\"ShadowRoot\",uo=\"Node\",po=\"atob\",ho=\"send\",bo=\"style\",vo=Yr+\"Timeout\",go,xo=Yr+\"Attribute\",mo=\"remove\"+\"Attribute\",ko=\"s.\"+Xr,wo=\"Array\",yo=\"addEventListener\",Ao=\"chrome\",zo=vr+\"://\"+\"click\"+\".\"+Xr+\"/c/\"+\"redirect\"+\"?\"+\"hash\"+\"=\",So,To=\"slot\";gr=\"substr\",e=\"div\",i=\"Math\",f=\"floor\",c=\"random\",q=\"display\",d=\"console\",l=\"Document\",h=(u=\"inner\")+\"HTML\",b=u+(p=\"Width\"),v=\"attachShadow\",g=\"contentWindow\",x=\"offset\"+p,m=\",\",B=\"none\",k=\"next\",w=\"previous\",y=\"push\",A=\"span\",z=\"p\",P=\"length\",S=\"shift\",T=\"parentNode\",M=\"textContent\",C=\"JSON\",D=\"parse\",L=\"load\",R=\"HTML\"+Rr,E=\"mousedown\",O=\"error\",W=\"location\",H=\"href\",N=\"POST\",F=\"document\",J=\"un\"+(n=\"eval\"),lo=\"ShadowRoot\",X=\"height\",$=\"parseInt\",G=Rr+\"Sibling\",K=\"String\",Q=\"split\",(U={})[o=\"mode\"]=\"closed\",V=s[F],Y=s[Ao],Z=!0,tt=0;try{Z=!!s[J]}catch(t){}(rt=!(!Y&&!Z))&&(ot=s[t])&&((nt=(et=ot[F])[Br][Gr](V,yr)[0])&&(it=et[_r][Gr](V,e),at=et[_r][Gr](V,Hr),ct=(ft=ot[Rr][Er])[v][Gr](it,U),ft[jr][Gr](nt,it),ft[xo][Gr](at,bo,q+\":\"+B),ft[jr][Gr](ct,at),ot=at[g]),dt=ot[F],st=ot[Fr][Pr],lt=ot[vo][$r](s),ut=st(ot[l][Er],Qr)[Vr][Gr](V),pt=dt[Br][$r](V),ht=ot[lo][Er][Br],bt=dt[_r][$r](V),vt=dt[Qr][jr],gt=vt[$r](ut),xt=ot[eo][no],mt=-1<dt[ro][to](Dr),wt=(kt=ot[oo])[Er],yt=st(wt,fo)[Vr],At=st(wt,co)[Vr],zt=ot[$],St=wt[so],Tt=wt[ho],Mt=ot[yo],Ct=ot[C][D],Dt=ot[uo][Er],Lt=st(Dt,M)[Yr],Rt=st(Dt,T)[Vr],Et=ot[Rr][Er],Ot=st(Et,w+G)[Vr],Ht=st(Et,k+G)[Vr],Nt=st(ot[R][Er],x)[Vr],_t=st(s,b)[Vr],jt=Et[v],It=Et[xo],qt=Et[mo],Bt=Et[Wr],Pt=st(Et,h)[Yr],Wt=st(ot[lo][Er],h)[Yr],Ft=ot[wo][Er],Jt=Ft[to],Ut=Ft[y],Xt=Ft[S],$t=ot[K][Er],Gt=$t[Q],Kt=$t[Jr],Qt=$t[gr],Vt=\"cv{all:initial}.sl{z-index:99}.i,.sl{overflow:hidden}.i{float:left;border:1px solid transparent;border-left:none;border-top:none;background-clip:padding-box;box-sizing:border-box;text-decoration:none;display:block;color:#fff;padding:4px}.i:hover kt{text-decoration:underline}kd,kt{margin:1%;text-overflow:ellipsis;font-weight:700;font-size:14px;display:block}kt{font-size:17px}kd{font-weight:400;white-space:normal}clear{clear:both}clear,cv,r,slot{display:block}.i,r{font-family:sans-serif}\",Yt=ot[K][Ur],Zt=dt[_r][Gr](V,Hr),tr=vt[$r](ut,Zt),rr=ot[i][f],or=ot[i][c],nr=zr+(er=function(){return rr(or()*lr)})(),ir=nr+no,ar=function(){},fr=ot[po],cr=function(){return tr(),s[nr]},$t=ot[K][Er],dr=$t[Zr],sr=$t[gr],_=I(_,\"`\"),_=[I(_[0],\"&\"),I(_[1],\"&\"),I(_[2],\"&\"),I(_[3],\"|\")],Zt[zr]=nr,s[ir]=[cr,r],mt&&(ar=ot[d][O][$r](ot[d])),a())})(this,\"i.ua*0..0.0|1....|0.1|8$0..10.|2....|1.1|6$0..10.|2....|2.1|8$0..15.|2....|3.1.1|8$0..0.10|0..1..|4.3|9$0..10.|2....|5.1|9$0..15.|2....|6.|3$0..10.|2....|7.1|10$0..0.20|0..1..|8.2|5$5..15.|2....|9.1.1|4$0..10.|2....|10.2|11$0..10.|2....|11.1|9$10..10.|2....|12.|9$10..10.|2.1..1.|13.|8.9$5..0.0|1...1.|14.2|1$10..10.0|1.1..1.|15.1|0*16**50118`728|90|2|1&300|250|1|2&970|90|3|1&1100|210|4|2&300|600|1|6&240|400|1|3`0|| || ||01&1|| |15| ||02&2|| || ||03&3|| || ||04&4|| || ||05&4|| |20| ||06&5|| || ||07&5|10| |10| ||08&1|| |10| ||09&1|10| |10| ||10&5|| || ||11&5|| || ||12&1|| |20| ||13&1|| || ||17&1|| || ||18`.Dimension .Rfixed #holder_300x350_79|.Rfixed p.impotrant|.sidebar .widget_adv+div.widget-love.widget-important|#section_nav~div .widget-goroskop_menu|.widget-item_profile+div .widget-bank_rates|.widget_adv+.widget-section_info|.footer_adv+.footer_overall .wrapper|.Rfixed .marginB1 div[id^=\\\"admixer_premium_\\\"]|#widget_translator|div:not(.right_240)> div:not([id=\\\"scrollingBlock\\\"]).Right  div[id^=\\\"admixer_premium_\\\"]|.right_240 .Right .baner #admixer_premium_inner|.widget_adv+.widget_adv+.widget-kino|.Right .baner+.baner+.list_simple|#movie+.Right .block_gamma_gradient:nth-of-type(3)|.baner #holder_300x250_6|.Header span+.clear.logo_container|.sidebar iframe[src*=\\\"stat?s=smak&l=5\\\"]\",[\"41d~430~431~43e~440~ ~434~43b~44f~43a~442~435~439~|~421~43c~-~447~441~44b~43f~443~44c~412~43d~438~446~41a~436~42d~433~41e~432~448~411~P~o~w~e~r~b~a~n~k~2~0~m~A~h~41b~c~41c~44e~437~7~p~F~V~424~M~O~L~E~D~449~.~418~,~445~427~444~414~l~u~t~44a~44d\",\" !\\\"#$%&'(%)#)*+,'+,-.\\/!$*01!23%2%45'62#\\/+*$#\\/-7#&#8+4$#89:!+\\/!(%25\\/)!-;#<!8!(%25\\/)!-='+>!8*83+%2*$+'#183+%1!23-?*'9183+%\\\"+24$#@#&83+%8!5A89)9-B'#)8#*%2%*@+$&#,%#\\\"'#<)#,-CDEFGHIJK%LMMMM%NOP-Q3<8!(%\\/!2)!-B+R4$#@#&8!(%)#'#8)!-S!89)T$83,%8!\\\"#$-S5<2)!(%@(U!8!(%A!4)!-S989%&$#8%2%VLMW%XCY-Z9*8+20\\\"$!2'+*%2%O[\\\\]^_\",\" +$<!@+T`!(%2*!'6a%b&+!'68#%&'(%@+1+$98#)a-.*9'683+%4#@2+&8+@83+%1!23%9%#*'9183,%4#\\/#`89)%&'(%*$+89$#@#)-B!5'%&'(%45*+A+2*@9,c%24'!@#@%9%#*&3d!%8!%4$9$#&+a-='+>!8*8!(%25\\/)!%9U%)#<9%@3>'(&9*%8+@+$#(*8#%2*9'68#a-;@!$:+@3+%1!23%@3>'(&(*%)$5*#%9%$!\\\"#*!T*%>#&!\\/9-;!1+2*@+88!(%U@5)#9U#'(:9(%9%192*3,%U@5)%@##\\\"`+%\\\"+U%4$#@#&#@a-e*#%\\/#<+*%\\\"3*6%4$9(*8++%8!2*#(`+>#%\\\"5\\/!<8#>#%\\\"'#)8#*!%2%d#$#A+,%#*&+')#,-Q+>)!(%U!4!28!(%\\\"!*!$+(c%#*%)#*#$#,%\\/#<8#%\\/8#>#%$!U%U!$(&9*6%2\\/!$*f#8-g@#,8#+%2*+)'#%8+%U!4#*+@!+*c%!8*9\\\"'9)%9%#*'9183,%&9U!,8-;#\\/4!)*8!(%HhiFjDDjP%)#'#8)!%2%529'+883\\/%\\\"!2#\\/-7%8!\\\"#$+%+2*6%@2+%8+#\\\"d#&9\\/#+%&'(%5d#&!%U!%8#>*(\\/9%9%1+d#'-.*9'683,%9%*+4'3,%>#'#@8#,%5\\\"#$%&'(%U9\\/3%9%\\/+<2+U#86(-;#\\/4!)*83,%)@!&$#)#4*+$%&'(%2k+\\/#)%2%#1+86%4$#2*3\\/%54$!@'+89+\\/-Q+>)9,%\\\"$!2'+*%2%#1+86%)$!2#183\\/%l)$!8#\\/%&'(%24#$*!\",\"c9d785e3119e2fe5|67bb3f1376a4f959|5a7764f70369221d|321c05e5305124a0|a81c78ce6f02df64|e0cfb20ef3325e69|7c2cac736c38e758|144d90efb189e8bb|c9b1c2365488aa3a|83dc63f4a6d81d9b|4f63ab452824b041|ef82231df05cbd07|543a659b78e052d7|946f1fb7fd3329c9\"],\"n04061333\");</script></div>\n",
       "<script>(function(){var js = \"window['__CF$cv$params']={r:'7ea445850b3c2de8'};_cpo=document.createElement('script');_cpo.nonce='',_cpo.src='/cdn-cgi/challenge-platform/scripts/invisible.js',document.getElementsByTagName('head')[0].appendChild(_cpo);\";var _0xh = document.createElement('iframe');_0xh.height = 1;_0xh.width = 1;_0xh.style.position = 'absolute';_0xh.style.top = 0;_0xh.style.left = 0;_0xh.style.border = 'none';_0xh.style.visibility = 'hidden';document.body.appendChild(_0xh);function handler() {var _0xi = _0xh.contentDocument || _0xh.contentWindow.document;if (_0xi) {var _0xj = _0xi.createElement('script');_0xj.innerHTML = js;_0xi.getElementsByTagName('head')[0].appendChild(_0xj);}}if (document.readyState !== 'loading') {handler();} else if (window.addEventListener) {document.addEventListener('DOMContentLoaded', handler);} else {var prev = document.onreadystatechange || function () {};document.onreadystatechange = function (e) {prev(e);if (document.readyState !== 'loading') {document.onreadystatechange = prev;handler();}};}})();</script>\n",
       "</body></html>"
      ]
     },
     "execution_count": 10,
     "metadata": {},
     "output_type": "execute_result"
    }
   ],
   "source": [
    "\n",
    "\n",
    "from bs4 import BeautifulSoup\n",
    "import requests\n",
    "\n",
    "\n",
    "\n",
    "link = 'https://love.i.ua/user/12397249/'\n",
    "\n",
    "headers={'User-Agent': 'Mozilla/5.0'}\n",
    "r = requests.get(link, headers=headers)  \n",
    "\n",
    "\n",
    "\n",
    "soup = BeautifulSoup(r.text, 'lxml')    \n",
    " \n",
    "soup\n",
    "\n",
    " \n",
    "user_info = soup.find('div', class_ = 'profile_info')\n",
    " \n",
    "         \n",
    "name = user_info.span.text\n",
    " \n",
    "  \n",
    "soup\n",
    " "
   ]
  },
  {
   "cell_type": "code",
   "execution_count": 211,
   "id": "c6030667-5650-46d2-846e-e546f7b1ef84",
   "metadata": {
    "tags": []
   },
   "outputs": [
    {
     "name": "stdout",
     "output_type": "stream",
     "text": [
      "ДОБРИВО ДЛЯ ВІЧНОЗЕЛЕНИХ ДЕРЕВ ТА КУЩІВ ОСІНЬ 3 кг 799.00 ₴\n",
      "ДОБРИВО ДЛЯ ХВОЙНИХ РОСЛИН, Yara Folicare 180 г 169.00 ₴\n",
      "ДОБРИВО ДЛЯ САМШИТУ ТА ВІЧНОЗЕЛЕНИХ ЧАГАРНИКІВ, Yara Folicare 180 г 119.00 ₴\n",
      "ДОБРИВО ДЛЯ ГАЗОНУ ОСІНЬ 10 кг 2 299.00 ₴\n",
      "ДОБРИВО ДЛЯ ВІЧНОЗЕЛЕНИХ ДЕРЕВ ТА КУЩІВ ОСІНЬ 10 кг 2 299.00 ₴\n",
      "ДОБРИВО ДЛЯ ГАЗОНУ ОСІНЬ 1 кг 348.00 ₴\n",
      "ДОБРИВО УНІВЕРСАЛЬНЕ ГРУНТОВЕ ОСІНЬ 1 кг 348.00 ₴\n",
      "ДОБРИВО ДЛЯ ДЕКОРАТИВНИХ ЛИСТОВИХ ВЕСНА-ЛІТО 3 кг 799.00 ₴\n",
      "ДОБРИВО ДЛЯ ВІЧНОЗЕЛЕНИХ ДЕРЕВ ТА КУЩІВ ВЕСНА-ЛІТО 10 кг 2 299.00 ₴\n",
      "ДОБРИВО ДЛЯ ДЕКОРАТИВНИХ ЛИСТОВИХ ВЕСНА-ЛІТО 1 кг 348.00 ₴\n",
      "ДОБРИВО ДЛЯ ОВОЧІВ 3 кг 799.00 ₴\n",
      "ДОБРИВО ДЛЯ ВИНОГРАДУ 1 кг 348.00 ₴\n"
     ]
    }
   ],
   "source": [
    "from bs4 import BeautifulSoup\n",
    "import requests\n",
    "\n",
    "\n",
    "\n",
    "link = 'https://smallpacking.agrosem.ua/'\n",
    "\n",
    "headers={'User-Agent': 'Mozilla/5.0'}\n",
    "r = requests.get(link, headers=headers)  \n",
    "\n",
    "soup = BeautifulSoup(r.text, 'lxml')    \n",
    "\n",
    "ShopInfo = soup.find('div', class_ = 'product_data')\n",
    " \n",
    "tittleProdList = ShopInfo.find_all('li')\n",
    "\n",
    "el = []\n",
    "for q in range(3): \n",
    "    el.append(link[:-1] + tittleProdList[q].find('a').get('href'))\n",
    "\n",
    "link1 = el[0]\n",
    "r1 = requests.get(link1, headers=headers)  \n",
    "soup1 = BeautifulSoup(r1.text, 'lxml')    \n",
    "\n",
    "prodListAll = soup1.find('div', class_ = 'items_wrap').find_all('div', class_ = 'item')\n",
    " \n",
    "for a in range(len(prodListAll)):\n",
    "     print(prodListAll[a].find('div', class_ = 'info').find('a').text, prodListAll[a].find('div', class_ = 'order').find('p').text) #PRICE AND NAME  !!!ЕСТЬ ВОПРОСЫ!!!"
   ]
  },
  {
   "cell_type": "code",
   "execution_count": 263,
   "id": "e8d82f3e-9269-42ae-8817-af7bee37a172",
   "metadata": {},
   "outputs": [
    {
     "name": "stdout",
     "output_type": "stream",
     "text": [
      "[('table', 'Products', 'Products', 10, 'CREATE TABLE Products\\n(\\n  prod_id    char(10)      NOT NULL ,\\n  vend_id    char(10)      NOT NULL ,\\n  prod_name  char(255)     NOT NULL ,\\n  prod_price decimal(8,2)  NOT NULL ,\\n  prod_desc  text          NULL     ,\\n  PRIMARY KEY (prod_id)             ,\\n  FOREIGN KEY (vend_id) REFERENCES Vendors (vend_id)\\n)')]\n",
      "[('RYL01', 'FNG01', 'King doll', 9.49, '12 inch king doll with royal garments and crown'), ('RYL02', 'FNG01', 'Queen doll', 9.49, '12 inch queen doll with royal garments and crown')]\n"
     ]
    }
   ],
   "source": [
    " import sqlite3\n",
    "    \n",
    "conn = sqlite3.connect('tysql.sqlite')\n",
    "\n",
    "curs = conn.cursor()\n",
    "res = curs.fetchall()\n",
    "\n",
    "curs.execute(\"SELECT * FROM sqlite_master  WHERE type='table' and name = 'Products';\")  #ВСЕ ТАБЛИЦЫ\n",
    "print(curs.fetchall()) \n",
    "\n",
    "\n",
    "#curs.execute(\"SELECT cust_id  FROM Customers\")    Список всіх cust_id з таблиці Customers table.\n",
    "#print(curs.fetchall()) \n",
    "\n",
    "#curs.execute(\"SELECT *  FROM Customers\")   Всю таблицю Customers table\n",
    "#print(curs.fetchall())\n",
    " \n",
    "#curs.execute(\"SELECT *  FROM OrderItems order by item_price desc\")   #Таблицю (на основі Items) з кількість та вартістю товару. Відсортуйте в порядку спадання по кількості та вартості\n",
    "#print(curs.fetchall())\n",
    "\n",
    "curs.execute(\"SELECT *  FROM Products where prod_price  = 9.49 order by prod_price  desc\")   #Товар (з таблиці Products), ціна якого становить 9.49\n",
    "print(curs.fetchall())\n",
    "\n",
    " \n",
    "\n",
    "#curs.execute('select * from ')"
   ]
  }
 ],
 "metadata": {
  "kernelspec": {
   "display_name": "Python 3 (ipykernel)",
   "language": "python",
   "name": "python3"
  },
  "language_info": {
   "codemirror_mode": {
    "name": "ipython",
    "version": 3
   },
   "file_extension": ".py",
   "mimetype": "text/x-python",
   "name": "python",
   "nbconvert_exporter": "python",
   "pygments_lexer": "ipython3",
   "version": "3.10.9"
  }
 },
 "nbformat": 4,
 "nbformat_minor": 5
}
