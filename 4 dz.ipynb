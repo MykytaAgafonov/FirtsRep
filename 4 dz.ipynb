{
 "cells": [
  {
   "cell_type": "code",
   "execution_count": null,
   "id": "08a8ccd7-42c4-47f8-9780-a7c0be189cff",
   "metadata": {},
   "outputs": [],
   "source": []
  },
  {
   "cell_type": "code",
   "execution_count": 1,
   "id": "125f1411-0f3a-4edf-9303-9a07affc132e",
   "metadata": {},
   "outputs": [
    {
     "name": "stderr",
     "output_type": "stream",
     "text": [
      "\n",
      "KeyboardInterrupt\n",
      "\n"
     ]
    }
   ],
   "source": [
    "number = int(input(\"Insert a number: \"))\n",
    "digit1 = str(number)[0]\n",
    "digit2 = str(number)[1]\n",
    "digit3 = str(number)[2]\n",
    "digit4 = str(number)[3]\n",
    "\n",
    "digit11 = int(number/1000)\n",
    "digit22 = int((number-digit11*1000)/100)\n",
    "digit33 = int((number-digit11*1000-digit22*100)/10)\n",
    "digit44 = int((number-digit11*1000-digit22*100-digit33*10))\n",
    "\n",
    "print(digit1) \n",
    "print(digit2) \n",
    "print(digit3) \n",
    "print(digit4) \n",
    "print(digit11) \n",
    "print(digit22) \n",
    "print(digit33) \n",
    "print(digit44) "
   ]
  },
  {
   "cell_type": "code",
   "execution_count": 3,
   "id": "f7292833-3bf9-4b3d-bd05-656d413ee4c4",
   "metadata": {},
   "outputs": [
    {
     "name": "stdin",
     "output_type": "stream",
     "text": [
      " 12\n",
      " 23\n",
      " 34\n",
      " 45\n",
      " 56\n",
      " 67\n",
      " 78\n",
      " 89\n",
      " 1212\n",
      " 31\n"
     ]
    },
    {
     "name": "stdout",
     "output_type": "stream",
     "text": [
      "s = 1647\n"
     ]
    }
   ],
   "source": [
    "\n",
    "s = 0\n",
    "for _ in range (10):\n",
    "    s += int(input())\n",
    "print('s =',s)\n",
    "\n"
   ]
  },
  {
   "cell_type": "code",
   "execution_count": 8,
   "id": "1b1416da-81ed-419a-84ec-f55482feef45",
   "metadata": {},
   "outputs": [
    {
     "data": {
      "text/plain": [
       "0"
      ]
     },
     "execution_count": 8,
     "metadata": {},
     "output_type": "execute_result"
    }
   ],
   "source": [
    "lst = []\n",
    "for i in range(3):\n",
    "      lst.append(int())\n",
    "sum(lst)"
   ]
  },
  {
   "cell_type": "code",
   "execution_count": 10,
   "id": "f3395140-9283-4d9c-86de-f19572b65bc5",
   "metadata": {},
   "outputs": [
    {
     "name": "stdout",
     "output_type": "stream",
     "text": [
      "4\n",
      "2\n",
      "6\n",
      "4\n"
     ]
    }
   ],
   "source": [
    "lst = [4,2,6,5,4,5,7]\n",
    "\n",
    "for el in lst:\n",
    "    if el%2 == 0:\n",
    "        print(el)"
   ]
  },
  {
   "cell_type": "code",
   "execution_count": 11,
   "id": "e32df885-13c5-4c10-9474-b3e48a30b082",
   "metadata": {},
   "outputs": [
    {
     "ename": "SyntaxError",
     "evalue": "incomplete input (2348454159.py, line 1)",
     "output_type": "error",
     "traceback": [
      "\u001b[1;36m  Cell \u001b[1;32mIn[11], line 1\u001b[1;36m\u001b[0m\n\u001b[1;33m    list(enumerate(lst)\u001b[0m\n\u001b[1;37m                       ^\u001b[0m\n\u001b[1;31mSyntaxError\u001b[0m\u001b[1;31m:\u001b[0m incomplete input\n"
     ]
    }
   ],
   "source": [
    "list(enumerate(lst)"
   ]
  },
  {
   "cell_type": "code",
   "execution_count": 13,
   "id": "ac38ae9c-6d7f-4279-ada1-a55ccaf53614",
   "metadata": {},
   "outputs": [
    {
     "name": "stdin",
     "output_type": "stream",
     "text": [
      "n =  10\n"
     ]
    },
    {
     "name": "stdout",
     "output_type": "stream",
     "text": [
      "11235813213455"
     ]
    }
   ],
   "source": [
    "a=1\n",
    "b=1\n",
    "\n",
    "n = int(input('n = '))\n",
    "\n",
    "for _ in range(n):\n",
    "    print(a, end= '')\n",
    "    a,b = b, (a+b)"
   ]
  },
  {
   "cell_type": "code",
   "execution_count": 20,
   "id": "e1feca90-5c6a-41df-a29f-c26053f422ce",
   "metadata": {},
   "outputs": [
    {
     "ename": "KeyboardInterrupt",
     "evalue": "Interrupted by user",
     "output_type": "error",
     "traceback": [
      "\u001b[1;31m---------------------------------------------------------------------------\u001b[0m",
      "\u001b[1;31mKeyboardInterrupt\u001b[0m                         Traceback (most recent call last)",
      "Cell \u001b[1;32mIn[20], line 5\u001b[0m\n\u001b[0;32m      3\u001b[0m lst \u001b[38;5;241m=\u001b[39m []\n\u001b[0;32m      4\u001b[0m \u001b[38;5;28;01mfor\u001b[39;00m i \u001b[38;5;129;01min\u001b[39;00m \u001b[38;5;28mrange\u001b[39m(\u001b[38;5;241m10\u001b[39m):\n\u001b[1;32m----> 5\u001b[0m     lst\u001b[38;5;241m.\u001b[39mappend(\u001b[38;5;28mint\u001b[39m(\u001b[38;5;28;43minput\u001b[39;49m\u001b[43m(\u001b[49m\u001b[38;5;124;43mf\u001b[39;49m\u001b[38;5;124;43m'\u001b[39;49m\u001b[38;5;124;43mnumber \u001b[39;49m\u001b[38;5;132;43;01m{\u001b[39;49;00m\u001b[43mi\u001b[49m\u001b[38;5;241;43m+\u001b[39;49m\u001b[38;5;241;43m1\u001b[39;49m\u001b[38;5;132;43;01m}\u001b[39;49;00m\u001b[38;5;124;43m = \u001b[39;49m\u001b[38;5;124;43m'\u001b[39;49m\u001b[43m)\u001b[49m))\n\u001b[0;32m      7\u001b[0m     \u001b[38;5;28mprint\u001b[39m(\u001b[38;5;124m'\u001b[39m\u001b[38;5;124mmean =\u001b[39m\u001b[38;5;124m'\u001b[39m, statistics\u001b[38;5;241m.\u001b[39mmean(lst))\n\u001b[0;32m      8\u001b[0m     \u001b[38;5;28mprint\u001b[39m(\u001b[38;5;124m'\u001b[39m\u001b[38;5;124mmed =\u001b[39m\u001b[38;5;124m'\u001b[39m, statistics\u001b[38;5;241m.\u001b[39mmedian(lst))\n",
      "File \u001b[1;32m~\\anaconda3\\lib\\site-packages\\ipykernel\\kernelbase.py:1175\u001b[0m, in \u001b[0;36mKernel.raw_input\u001b[1;34m(self, prompt)\u001b[0m\n\u001b[0;32m   1171\u001b[0m \u001b[38;5;28;01mif\u001b[39;00m \u001b[38;5;129;01mnot\u001b[39;00m \u001b[38;5;28mself\u001b[39m\u001b[38;5;241m.\u001b[39m_allow_stdin:\n\u001b[0;32m   1172\u001b[0m     \u001b[38;5;28;01mraise\u001b[39;00m StdinNotImplementedError(\n\u001b[0;32m   1173\u001b[0m         \u001b[38;5;124m\"\u001b[39m\u001b[38;5;124mraw_input was called, but this frontend does not support input requests.\u001b[39m\u001b[38;5;124m\"\u001b[39m\n\u001b[0;32m   1174\u001b[0m     )\n\u001b[1;32m-> 1175\u001b[0m \u001b[38;5;28;01mreturn\u001b[39;00m \u001b[38;5;28;43mself\u001b[39;49m\u001b[38;5;241;43m.\u001b[39;49m\u001b[43m_input_request\u001b[49m\u001b[43m(\u001b[49m\n\u001b[0;32m   1176\u001b[0m \u001b[43m    \u001b[49m\u001b[38;5;28;43mstr\u001b[39;49m\u001b[43m(\u001b[49m\u001b[43mprompt\u001b[49m\u001b[43m)\u001b[49m\u001b[43m,\u001b[49m\n\u001b[0;32m   1177\u001b[0m \u001b[43m    \u001b[49m\u001b[38;5;28;43mself\u001b[39;49m\u001b[38;5;241;43m.\u001b[39;49m\u001b[43m_parent_ident\u001b[49m\u001b[43m[\u001b[49m\u001b[38;5;124;43m\"\u001b[39;49m\u001b[38;5;124;43mshell\u001b[39;49m\u001b[38;5;124;43m\"\u001b[39;49m\u001b[43m]\u001b[49m\u001b[43m,\u001b[49m\n\u001b[0;32m   1178\u001b[0m \u001b[43m    \u001b[49m\u001b[38;5;28;43mself\u001b[39;49m\u001b[38;5;241;43m.\u001b[39;49m\u001b[43mget_parent\u001b[49m\u001b[43m(\u001b[49m\u001b[38;5;124;43m\"\u001b[39;49m\u001b[38;5;124;43mshell\u001b[39;49m\u001b[38;5;124;43m\"\u001b[39;49m\u001b[43m)\u001b[49m\u001b[43m,\u001b[49m\n\u001b[0;32m   1179\u001b[0m \u001b[43m    \u001b[49m\u001b[43mpassword\u001b[49m\u001b[38;5;241;43m=\u001b[39;49m\u001b[38;5;28;43;01mFalse\u001b[39;49;00m\u001b[43m,\u001b[49m\n\u001b[0;32m   1180\u001b[0m \u001b[43m\u001b[49m\u001b[43m)\u001b[49m\n",
      "File \u001b[1;32m~\\anaconda3\\lib\\site-packages\\ipykernel\\kernelbase.py:1217\u001b[0m, in \u001b[0;36mKernel._input_request\u001b[1;34m(self, prompt, ident, parent, password)\u001b[0m\n\u001b[0;32m   1214\u001b[0m             \u001b[38;5;28;01mbreak\u001b[39;00m\n\u001b[0;32m   1215\u001b[0m \u001b[38;5;28;01mexcept\u001b[39;00m \u001b[38;5;167;01mKeyboardInterrupt\u001b[39;00m:\n\u001b[0;32m   1216\u001b[0m     \u001b[38;5;66;03m# re-raise KeyboardInterrupt, to truncate traceback\u001b[39;00m\n\u001b[1;32m-> 1217\u001b[0m     \u001b[38;5;28;01mraise\u001b[39;00m \u001b[38;5;167;01mKeyboardInterrupt\u001b[39;00m(\u001b[38;5;124m\"\u001b[39m\u001b[38;5;124mInterrupted by user\u001b[39m\u001b[38;5;124m\"\u001b[39m) \u001b[38;5;28;01mfrom\u001b[39;00m \u001b[38;5;28mNone\u001b[39m\n\u001b[0;32m   1218\u001b[0m \u001b[38;5;28;01mexcept\u001b[39;00m \u001b[38;5;167;01mException\u001b[39;00m:\n\u001b[0;32m   1219\u001b[0m     \u001b[38;5;28mself\u001b[39m\u001b[38;5;241m.\u001b[39mlog\u001b[38;5;241m.\u001b[39mwarning(\u001b[38;5;124m\"\u001b[39m\u001b[38;5;124mInvalid Message:\u001b[39m\u001b[38;5;124m\"\u001b[39m, exc_info\u001b[38;5;241m=\u001b[39m\u001b[38;5;28;01mTrue\u001b[39;00m)\n",
      "\u001b[1;31mKeyboardInterrupt\u001b[0m: Interrupted by user"
     ]
    }
   ],
   "source": [
    "import statistics\n",
    "\n",
    "lst = []\n",
    "for i in range(10):\n",
    "    lst.append(int(input(f'number {i+1} = ')))\n",
    "    \n",
    "    print('mean =', statistics.mean(lst))\n",
    "    print('med =', statistics.median(lst))"
   ]
  },
  {
   "cell_type": "code",
   "execution_count": 27,
   "id": "b958da0d-6e49-4321-ab5d-08aa21a9814c",
   "metadata": {},
   "outputs": [],
   "source": [
    "\n",
    "def is_prime(n):\n",
    "    if n==1:\n",
    "        return False\n",
    "    if n==2:\n",
    "        return True\n",
    "    for i in range(2, int(n**0.5)+1):\n",
    "        if n % i == 0:\n",
    "            return False\n",
    "    return True"
   ]
  },
  {
   "cell_type": "code",
   "execution_count": 28,
   "id": "0826a24e-b755-4648-a22e-8fd2d8be462c",
   "metadata": {},
   "outputs": [
    {
     "data": {
      "text/plain": [
       "False"
      ]
     },
     "execution_count": 28,
     "metadata": {},
     "output_type": "execute_result"
    }
   ],
   "source": [
    "is_prime(123)"
   ]
  },
  {
   "cell_type": "markdown",
   "id": "e45f4219-3740-49af-add7-b0709a69c86d",
   "metadata": {
    "tags": []
   },
   "source": [
    "#### num = 0\n",
    "for _ in range(10):\n",
    "    num += is_prime(int(input()))"
   ]
  },
  {
   "cell_type": "code",
   "execution_count": 30,
   "id": "7cd2918b-7d5b-456a-809b-4fe05d94e7e8",
   "metadata": {},
   "outputs": [
    {
     "name": "stdout",
     "output_type": "stream",
     "text": [
      "3\n"
     ]
    }
   ],
   "source": [
    "print(num)"
   ]
  },
  {
   "cell_type": "code",
   "execution_count": 32,
   "id": "f505dbdb-ea7e-4836-b8ce-e7c026db981c",
   "metadata": {},
   "outputs": [
    {
     "name": "stdout",
     "output_type": "stream",
     "text": [
      "['3', '4', '5', '6']\n"
     ]
    }
   ],
   "source": [
    "lst = [3,4,5,6]\n",
    "\n",
    "lst1=[]\n",
    "for el in lst:\n",
    "    lst1.append(str(el))\n",
    "    \n",
    "print(lst1)"
   ]
  },
  {
   "cell_type": "code",
   "execution_count": 36,
   "id": "cea7c37d-bf56-4617-9f63-88c23bd36d7d",
   "metadata": {},
   "outputs": [
    {
     "data": {
      "text/plain": [
       "['3', '4', '5', '6']"
      ]
     },
     "execution_count": 36,
     "metadata": {},
     "output_type": "execute_result"
    }
   ],
   "source": [
    "list(map(str,lst))"
   ]
  },
  {
   "cell_type": "code",
   "execution_count": 40,
   "id": "30726a53-5195-4835-b0bb-8201f10117b3",
   "metadata": {},
   "outputs": [
    {
     "data": {
      "text/plain": [
       "[6, 8, 10, 12]"
      ]
     },
     "execution_count": 40,
     "metadata": {},
     "output_type": "execute_result"
    }
   ],
   "source": [
    "list(map(lambda x,y: x+y, lst,lst[:5]))"
   ]
  },
  {
   "cell_type": "code",
   "execution_count": 42,
   "id": "8e3b5c61-e351-482d-8c8b-96e85a226148",
   "metadata": {},
   "outputs": [
    {
     "data": {
      "text/plain": [
       "[9, 16, 25, 36]"
      ]
     },
     "execution_count": 42,
     "metadata": {},
     "output_type": "execute_result"
    }
   ],
   "source": [
    "list(map(lambda x: x**2, lst))"
   ]
  },
  {
   "cell_type": "code",
   "execution_count": 43,
   "id": "f2b89845-602b-42ad-b427-4fec8551c413",
   "metadata": {},
   "outputs": [
    {
     "data": {
      "text/plain": [
       "[3, 5]"
      ]
     },
     "execution_count": 43,
     "metadata": {},
     "output_type": "execute_result"
    }
   ],
   "source": [
    "list(filter(is_prime,lst))"
   ]
  },
  {
   "cell_type": "code",
   "execution_count": 45,
   "id": "a5d93d6a-4b1e-457d-9f71-ea103c3cc503",
   "metadata": {},
   "outputs": [
    {
     "data": {
      "text/plain": [
       "['Bnm,,nb', 'Zxczxc', 'Qweqwe', 'Asda']"
      ]
     },
     "execution_count": 45,
     "metadata": {},
     "output_type": "execute_result"
    }
   ],
   "source": [
    "words = ['bnm,,nb','zxczxc','qweqwe','asda']\n",
    "\n",
    "list(map(lambda x: x[0].upper()+x[1:],words))"
   ]
  },
  {
   "cell_type": "code",
   "execution_count": 49,
   "id": "9743a7ee-c218-477d-a5bd-66f99cbf0414",
   "metadata": {},
   "outputs": [
    {
     "data": {
      "text/plain": [
       "'bnm,,nb zxczxc qweqwe asda'"
      ]
     },
     "execution_count": 49,
     "metadata": {},
     "output_type": "execute_result"
    }
   ],
   "source": [
    "from functools import reduce\n",
    "\n",
    "reduce(lambda x,y: x+' '+y, words)"
   ]
  },
  {
   "cell_type": "code",
   "execution_count": 51,
   "id": "ce9d869d-411a-4d70-823e-5359b48b211a",
   "metadata": {},
   "outputs": [
    {
     "name": "stdout",
     "output_type": "stream",
     "text": [
      "bnm,,nb zxczxc qweqwe asda\n"
     ]
    }
   ],
   "source": [
    "def f(x,y):\n",
    "    return x+' '+y\n",
    "\n",
    "res = words[0]\n",
    "for el in words[1:]:\n",
    "    res = f(res,el)\n",
    "print(res)"
   ]
  },
  {
   "cell_type": "code",
   "execution_count": 52,
   "id": "e2afdc47-4c3c-4157-8911-8c32b774ccc0",
   "metadata": {},
   "outputs": [
    {
     "data": {
      "text/plain": [
       "['asda', 'bnm,,nb', 'qweqwe', 'zxczxc']"
      ]
     },
     "execution_count": 52,
     "metadata": {},
     "output_type": "execute_result"
    }
   ],
   "source": [
    "sorted(words)"
   ]
  },
  {
   "cell_type": "code",
   "execution_count": null,
   "id": "2fb858cf-7268-4f7a-93f0-63c473611c32",
   "metadata": {},
   "outputs": [],
   "source": [
    "seed(123)\n",
    "x=[]\n",
    "for i in range(4):\n",
    "    y = []\n",
    "    for j in range(6)"
   ]
  },
  {
   "cell_type": "code",
   "execution_count": 57,
   "id": "eecd8dc7-7d9c-4eb6-8bbe-7c12c0114ef4",
   "metadata": {},
   "outputs": [
    {
     "name": "stdout",
     "output_type": "stream",
     "text": [
      "[1, 0, 1, 0, 0, 0, 1, 1, 1, 1, 0, 0, 0, 0, 1, 1, 1, 1, 1, 1, 1, 1, 0, 1, 0, 0, 0, 1, 1, 1, 1, 0, 1, 1, 0, 1, 0, 1, 0, 0, 1, 0, 0, 0, 0, 1, 1, 0, 1, 0, 0, 0, 0, 1, 1, 0, 0, 1, 0, 0, 0, 0, 1, 1, 0, 0, 1, 0, 1, 0, 0, 0, 1, 0, 1, 0, 1, 0, 1, 1, 1, 1, 0, 0, 0, 0, 0, 0, 0, 0, 1, 1, 1, 0, 1, 1, 1, 1, 1, 0]\n"
     ]
    }
   ],
   "source": [
    "from random import *\n",
    "x = []\n",
    "for _ in range(100):\n",
    "    x.append(randrange(2))\n",
    "print(x)"
   ]
  },
  {
   "cell_type": "code",
   "execution_count": null,
   "id": "c81d9f7a-5f6f-4dad-b4d3-64fe162db55b",
   "metadata": {},
   "outputs": [],
   "source": [
    "heads = x.count"
   ]
  },
  {
   "cell_type": "code",
   "execution_count": 58,
   "id": "c8b79db9-0528-4481-992b-c8722b1b1fa1",
   "metadata": {},
   "outputs": [
    {
     "ename": "NameError",
     "evalue": "name 'x2' is not defined",
     "output_type": "error",
     "traceback": [
      "\u001b[1;31m---------------------------------------------------------------------------\u001b[0m",
      "\u001b[1;31mNameError\u001b[0m                                 Traceback (most recent call last)",
      "Cell \u001b[1;32mIn[58], line 1\u001b[0m\n\u001b[1;32m----> 1\u001b[0m \u001b[43mx2\u001b[49m\n",
      "\u001b[1;31mNameError\u001b[0m: name 'x2' is not defined"
     ]
    }
   ],
   "source": [
    "x2\n"
   ]
  },
  {
   "cell_type": "code",
   "execution_count": 61,
   "id": "6c3857da-7fcf-4892-a14a-268194abcabd",
   "metadata": {},
   "outputs": [
    {
     "name": "stdout",
     "output_type": "stream",
     "text": [
      "{'Person 0': 2, 'Person 1': 11}\n"
     ]
    }
   ],
   "source": [
    "test = {'Person '+str(i):j if i == 0 else 11 for i in range (2) for j in range(3)}\n",
    "print(test)"
   ]
  },
  {
   "cell_type": "code",
   "execution_count": 62,
   "id": "832a26f4-4bb0-40f1-bbf2-6863ec5d8ccb",
   "metadata": {},
   "outputs": [
    {
     "data": {
      "text/plain": [
       "[1, 2, 3, 4, 5]"
      ]
     },
     "execution_count": 62,
     "metadata": {},
     "output_type": "execute_result"
    }
   ],
   "source": [
    "[i+1 for i in range(5)]"
   ]
  },
  {
   "cell_type": "code",
   "execution_count": 65,
   "id": "c7bc4314-32f5-46c0-9aa6-7c706c6edd4e",
   "metadata": {},
   "outputs": [
    {
     "ename": "IndentationError",
     "evalue": "expected an indented block after 'for' statement on line 4 (3500282126.py, line 5)",
     "output_type": "error",
     "traceback": [
      "\u001b[1;36m  Cell \u001b[1;32mIn[65], line 5\u001b[1;36m\u001b[0m\n\u001b[1;33m    print((y1[i],y2[i]))\u001b[0m\n\u001b[1;37m    ^\u001b[0m\n\u001b[1;31mIndentationError\u001b[0m\u001b[1;31m:\u001b[0m expected an indented block after 'for' statement on line 4\n"
     ]
    }
   ],
   "source": [
    "y1 = [1,2,3]\n",
    "y2 = ['one','two','three']\n",
    "\n",
    "for i in range(len(y1)):\n",
    "    print((y1[i],y2[i]))"
   ]
  },
  {
   "cell_type": "code",
   "execution_count": 3,
   "id": "ff4405fd-5d45-4e1e-a927-2402dbece4d6",
   "metadata": {},
   "outputs": [
    {
     "name": "stdin",
     "output_type": "stream",
     "text": [
      " 12\n",
      " 5\n"
     ]
    },
    {
     "name": "stdout",
     "output_type": "stream",
     "text": [
      "90.0\n"
     ]
    }
   ],
   "source": [
    "a = int(input())\n",
    "h = int(input())\n",
    " \n",
    "print(a*h*1.5)"
   ]
  },
  {
   "cell_type": "code",
   "execution_count": 7,
   "id": "222afe66-50c0-4517-941a-625cb3028f0c",
   "metadata": {},
   "outputs": [
    {
     "name": "stdin",
     "output_type": "stream",
     "text": [
      " 345\n"
     ]
    },
    {
     "name": "stdout",
     "output_type": "stream",
     "text": [
      "['3', '4', '5']\n"
     ]
    }
   ],
   "source": [
    "N = input()\n",
    "\n",
    "newN = []\n",
    "for i in range(3):\n",
    "  newN.append(N[i])\n",
    "print(newN) "
   ]
  },
  {
   "cell_type": "code",
   "execution_count": 15,
   "id": "ee62d5f1-deb9-40d9-8d6a-d4c26e365a88",
   "metadata": {},
   "outputs": [
    {
     "name": "stdout",
     "output_type": "stream",
     "text": [
      "['My', 'favourite', 'tutor', 'in', 'academy', 'is', 'Ihor']\n",
      "7\n",
      "My Ihor\n"
     ]
    }
   ],
   "source": [
    "sentence = 'My favourite tutor in academy is Ihor'\n",
    "\n",
    "lst = sentence.split()\n",
    "\n",
    "print(lst)\n",
    "print(len(lst))\n",
    "print(lst[0]+' '+lst[len(lst)-1])"
   ]
  },
  {
   "cell_type": "code",
   "execution_count": 20,
   "id": "2e43bdf1-47c1-4237-9f91-013618479147",
   "metadata": {},
   "outputs": [
    {
     "name": "stdin",
     "output_type": "stream",
     "text": [
      " asd\n",
      " 123\n"
     ]
    },
    {
     "name": "stdout",
     "output_type": "stream",
     "text": [
      "Діаметр планети  asd дорівнює  123\n"
     ]
    }
   ],
   "source": [
    "Planet  = input()\n",
    "Diament = input()\n",
    "\n",
    "print('Діаметр планети ',Planet+' '+'дорівнює ',Diament)"
   ]
  },
  {
   "cell_type": "code",
   "execution_count": null,
   "id": "acc02b5c-29a4-4ebd-bfd0-22137b0dcffa",
   "metadata": {},
   "outputs": [],
   "source": []
  },
  {
   "cell_type": "code",
   "execution_count": null,
   "id": "c86206ea-b994-4838-95e4-137c1de6e37e",
   "metadata": {},
   "outputs": [],
   "source": [
    "1awe\n",
    "\n",
    "\n"
   ]
  }
 ],
 "metadata": {
  "kernelspec": {
   "display_name": "Python 3 (ipykernel)",
   "language": "python",
   "name": "python3"
  },
  "language_info": {
   "codemirror_mode": {
    "name": "ipython",
    "version": 3
   },
   "file_extension": ".py",
   "mimetype": "text/x-python",
   "name": "python",
   "nbconvert_exporter": "python",
   "pygments_lexer": "ipython3",
   "version": "3.10.9"
  }
 },
 "nbformat": 4,
 "nbformat_minor": 5
}
