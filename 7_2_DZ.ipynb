{
 "cells": [
  {
   "cell_type": "code",
   "execution_count": null,
   "id": "08a8ccd7-42c4-47f8-9780-a7c0be189cff",
   "metadata": {},
   "outputs": [],
   "source": []
  },
  {
   "cell_type": "code",
   "execution_count": 1,
   "id": "125f1411-0f3a-4edf-9303-9a07affc132e",
   "metadata": {},
   "outputs": [
    {
     "name": "stderr",
     "output_type": "stream",
     "text": [
      "\n",
      "KeyboardInterrupt\n",
      "\n"
     ]
    }
   ],
   "source": [
    "number = int(input(\"Insert a number: \"))\n",
    "digit1 = str(number)[0]\n",
    "digit2 = str(number)[1]\n",
    "digit3 = str(number)[2]\n",
    "digit4 = str(number)[3]\n",
    "\n",
    "digit11 = int(number/1000)\n",
    "digit22 = int((number-digit11*1000)/100)\n",
    "digit33 = int((number-digit11*1000-digit22*100)/10)\n",
    "digit44 = int((number-digit11*1000-digit22*100-digit33*10))\n",
    "\n",
    "print(digit1) \n",
    "print(digit2) \n",
    "print(digit3) \n",
    "print(digit4) \n",
    "print(digit11) \n",
    "print(digit22) \n",
    "print(digit33) \n",
    "print(digit44) "
   ]
  },
  {
   "cell_type": "code",
   "execution_count": 3,
   "id": "f7292833-3bf9-4b3d-bd05-656d413ee4c4",
   "metadata": {},
   "outputs": [
    {
     "name": "stdin",
     "output_type": "stream",
     "text": [
      " 12\n",
      " 23\n",
      " 34\n",
      " 45\n",
      " 56\n",
      " 67\n",
      " 78\n",
      " 89\n",
      " 1212\n",
      " 31\n"
     ]
    },
    {
     "name": "stdout",
     "output_type": "stream",
     "text": [
      "s = 1647\n"
     ]
    }
   ],
   "source": [
    "\n",
    "s = 0\n",
    "for _ in range (10):\n",
    "    s += int(input())\n",
    "print('s =',s)\n",
    "\n"
   ]
  },
  {
   "cell_type": "code",
   "execution_count": 8,
   "id": "1b1416da-81ed-419a-84ec-f55482feef45",
   "metadata": {},
   "outputs": [
    {
     "data": {
      "text/plain": [
       "0"
      ]
     },
     "execution_count": 8,
     "metadata": {},
     "output_type": "execute_result"
    }
   ],
   "source": [
    "lst = []\n",
    "for i in range(3):\n",
    "      lst.append(int())\n",
    "sum(lst)"
   ]
  },
  {
   "cell_type": "code",
   "execution_count": 10,
   "id": "f3395140-9283-4d9c-86de-f19572b65bc5",
   "metadata": {},
   "outputs": [
    {
     "name": "stdout",
     "output_type": "stream",
     "text": [
      "4\n",
      "2\n",
      "6\n",
      "4\n"
     ]
    }
   ],
   "source": [
    "lst = [4,2,6,5,4,5,7]\n",
    "\n",
    "for el in lst:\n",
    "    if el%2 == 0:\n",
    "        print(el)"
   ]
  },
  {
   "cell_type": "code",
   "execution_count": 11,
   "id": "e32df885-13c5-4c10-9474-b3e48a30b082",
   "metadata": {},
   "outputs": [
    {
     "ename": "SyntaxError",
     "evalue": "incomplete input (2348454159.py, line 1)",
     "output_type": "error",
     "traceback": [
      "\u001b[1;36m  Cell \u001b[1;32mIn[11], line 1\u001b[1;36m\u001b[0m\n\u001b[1;33m    list(enumerate(lst)\u001b[0m\n\u001b[1;37m                       ^\u001b[0m\n\u001b[1;31mSyntaxError\u001b[0m\u001b[1;31m:\u001b[0m incomplete input\n"
     ]
    }
   ],
   "source": [
    "list(enumerate(lst)"
   ]
  },
  {
   "cell_type": "code",
   "execution_count": 13,
   "id": "ac38ae9c-6d7f-4279-ada1-a55ccaf53614",
   "metadata": {},
   "outputs": [
    {
     "name": "stdin",
     "output_type": "stream",
     "text": [
      "n =  10\n"
     ]
    },
    {
     "name": "stdout",
     "output_type": "stream",
     "text": [
      "11235813213455"
     ]
    }
   ],
   "source": [
    "a=1\n",
    "b=1\n",
    "\n",
    "n = int(input('n = '))\n",
    "\n",
    "for _ in range(n):\n",
    "    print(a, end= '')\n",
    "    a,b = b, (a+b)"
   ]
  },
  {
   "cell_type": "code",
   "execution_count": 20,
   "id": "e1feca90-5c6a-41df-a29f-c26053f422ce",
   "metadata": {},
   "outputs": [
    {
     "ename": "KeyboardInterrupt",
     "evalue": "Interrupted by user",
     "output_type": "error",
     "traceback": [
      "\u001b[1;31m---------------------------------------------------------------------------\u001b[0m",
      "\u001b[1;31mKeyboardInterrupt\u001b[0m                         Traceback (most recent call last)",
      "Cell \u001b[1;32mIn[20], line 5\u001b[0m\n\u001b[0;32m      3\u001b[0m lst \u001b[38;5;241m=\u001b[39m []\n\u001b[0;32m      4\u001b[0m \u001b[38;5;28;01mfor\u001b[39;00m i \u001b[38;5;129;01min\u001b[39;00m \u001b[38;5;28mrange\u001b[39m(\u001b[38;5;241m10\u001b[39m):\n\u001b[1;32m----> 5\u001b[0m     lst\u001b[38;5;241m.\u001b[39mappend(\u001b[38;5;28mint\u001b[39m(\u001b[38;5;28;43minput\u001b[39;49m\u001b[43m(\u001b[49m\u001b[38;5;124;43mf\u001b[39;49m\u001b[38;5;124;43m'\u001b[39;49m\u001b[38;5;124;43mnumber \u001b[39;49m\u001b[38;5;132;43;01m{\u001b[39;49;00m\u001b[43mi\u001b[49m\u001b[38;5;241;43m+\u001b[39;49m\u001b[38;5;241;43m1\u001b[39;49m\u001b[38;5;132;43;01m}\u001b[39;49;00m\u001b[38;5;124;43m = \u001b[39;49m\u001b[38;5;124;43m'\u001b[39;49m\u001b[43m)\u001b[49m))\n\u001b[0;32m      7\u001b[0m     \u001b[38;5;28mprint\u001b[39m(\u001b[38;5;124m'\u001b[39m\u001b[38;5;124mmean =\u001b[39m\u001b[38;5;124m'\u001b[39m, statistics\u001b[38;5;241m.\u001b[39mmean(lst))\n\u001b[0;32m      8\u001b[0m     \u001b[38;5;28mprint\u001b[39m(\u001b[38;5;124m'\u001b[39m\u001b[38;5;124mmed =\u001b[39m\u001b[38;5;124m'\u001b[39m, statistics\u001b[38;5;241m.\u001b[39mmedian(lst))\n",
      "File \u001b[1;32m~\\anaconda3\\lib\\site-packages\\ipykernel\\kernelbase.py:1175\u001b[0m, in \u001b[0;36mKernel.raw_input\u001b[1;34m(self, prompt)\u001b[0m\n\u001b[0;32m   1171\u001b[0m \u001b[38;5;28;01mif\u001b[39;00m \u001b[38;5;129;01mnot\u001b[39;00m \u001b[38;5;28mself\u001b[39m\u001b[38;5;241m.\u001b[39m_allow_stdin:\n\u001b[0;32m   1172\u001b[0m     \u001b[38;5;28;01mraise\u001b[39;00m StdinNotImplementedError(\n\u001b[0;32m   1173\u001b[0m         \u001b[38;5;124m\"\u001b[39m\u001b[38;5;124mraw_input was called, but this frontend does not support input requests.\u001b[39m\u001b[38;5;124m\"\u001b[39m\n\u001b[0;32m   1174\u001b[0m     )\n\u001b[1;32m-> 1175\u001b[0m \u001b[38;5;28;01mreturn\u001b[39;00m \u001b[38;5;28;43mself\u001b[39;49m\u001b[38;5;241;43m.\u001b[39;49m\u001b[43m_input_request\u001b[49m\u001b[43m(\u001b[49m\n\u001b[0;32m   1176\u001b[0m \u001b[43m    \u001b[49m\u001b[38;5;28;43mstr\u001b[39;49m\u001b[43m(\u001b[49m\u001b[43mprompt\u001b[49m\u001b[43m)\u001b[49m\u001b[43m,\u001b[49m\n\u001b[0;32m   1177\u001b[0m \u001b[43m    \u001b[49m\u001b[38;5;28;43mself\u001b[39;49m\u001b[38;5;241;43m.\u001b[39;49m\u001b[43m_parent_ident\u001b[49m\u001b[43m[\u001b[49m\u001b[38;5;124;43m\"\u001b[39;49m\u001b[38;5;124;43mshell\u001b[39;49m\u001b[38;5;124;43m\"\u001b[39;49m\u001b[43m]\u001b[49m\u001b[43m,\u001b[49m\n\u001b[0;32m   1178\u001b[0m \u001b[43m    \u001b[49m\u001b[38;5;28;43mself\u001b[39;49m\u001b[38;5;241;43m.\u001b[39;49m\u001b[43mget_parent\u001b[49m\u001b[43m(\u001b[49m\u001b[38;5;124;43m\"\u001b[39;49m\u001b[38;5;124;43mshell\u001b[39;49m\u001b[38;5;124;43m\"\u001b[39;49m\u001b[43m)\u001b[49m\u001b[43m,\u001b[49m\n\u001b[0;32m   1179\u001b[0m \u001b[43m    \u001b[49m\u001b[43mpassword\u001b[49m\u001b[38;5;241;43m=\u001b[39;49m\u001b[38;5;28;43;01mFalse\u001b[39;49;00m\u001b[43m,\u001b[49m\n\u001b[0;32m   1180\u001b[0m \u001b[43m\u001b[49m\u001b[43m)\u001b[49m\n",
      "File \u001b[1;32m~\\anaconda3\\lib\\site-packages\\ipykernel\\kernelbase.py:1217\u001b[0m, in \u001b[0;36mKernel._input_request\u001b[1;34m(self, prompt, ident, parent, password)\u001b[0m\n\u001b[0;32m   1214\u001b[0m             \u001b[38;5;28;01mbreak\u001b[39;00m\n\u001b[0;32m   1215\u001b[0m \u001b[38;5;28;01mexcept\u001b[39;00m \u001b[38;5;167;01mKeyboardInterrupt\u001b[39;00m:\n\u001b[0;32m   1216\u001b[0m     \u001b[38;5;66;03m# re-raise KeyboardInterrupt, to truncate traceback\u001b[39;00m\n\u001b[1;32m-> 1217\u001b[0m     \u001b[38;5;28;01mraise\u001b[39;00m \u001b[38;5;167;01mKeyboardInterrupt\u001b[39;00m(\u001b[38;5;124m\"\u001b[39m\u001b[38;5;124mInterrupted by user\u001b[39m\u001b[38;5;124m\"\u001b[39m) \u001b[38;5;28;01mfrom\u001b[39;00m \u001b[38;5;28mNone\u001b[39m\n\u001b[0;32m   1218\u001b[0m \u001b[38;5;28;01mexcept\u001b[39;00m \u001b[38;5;167;01mException\u001b[39;00m:\n\u001b[0;32m   1219\u001b[0m     \u001b[38;5;28mself\u001b[39m\u001b[38;5;241m.\u001b[39mlog\u001b[38;5;241m.\u001b[39mwarning(\u001b[38;5;124m\"\u001b[39m\u001b[38;5;124mInvalid Message:\u001b[39m\u001b[38;5;124m\"\u001b[39m, exc_info\u001b[38;5;241m=\u001b[39m\u001b[38;5;28;01mTrue\u001b[39;00m)\n",
      "\u001b[1;31mKeyboardInterrupt\u001b[0m: Interrupted by user"
     ]
    }
   ],
   "source": [
    "import statistics\n",
    "\n",
    "lst = []\n",
    "for i in range(10):\n",
    "    lst.append(int(input(f'number {i+1} = ')))\n",
    "    \n",
    "    print('mean =', statistics.mean(lst))\n",
    "    print('med =', statistics.median(lst))"
   ]
  },
  {
   "cell_type": "code",
   "execution_count": 27,
   "id": "b958da0d-6e49-4321-ab5d-08aa21a9814c",
   "metadata": {},
   "outputs": [],
   "source": [
    "\n",
    "def is_prime(n):\n",
    "    if n==1:\n",
    "        return False\n",
    "    if n==2:\n",
    "        return True\n",
    "    for i in range(2, int(n**0.5)+1):\n",
    "        if n % i == 0:\n",
    "            return False\n",
    "    return True"
   ]
  },
  {
   "cell_type": "code",
   "execution_count": 28,
   "id": "0826a24e-b755-4648-a22e-8fd2d8be462c",
   "metadata": {},
   "outputs": [
    {
     "data": {
      "text/plain": [
       "False"
      ]
     },
     "execution_count": 28,
     "metadata": {},
     "output_type": "execute_result"
    }
   ],
   "source": [
    "is_prime(123)"
   ]
  },
  {
   "cell_type": "markdown",
   "id": "e45f4219-3740-49af-add7-b0709a69c86d",
   "metadata": {
    "tags": []
   },
   "source": [
    "#### num = 0\n",
    "for _ in range(10):\n",
    "    num += is_prime(int(input()))"
   ]
  },
  {
   "cell_type": "code",
   "execution_count": 30,
   "id": "7cd2918b-7d5b-456a-809b-4fe05d94e7e8",
   "metadata": {},
   "outputs": [
    {
     "name": "stdout",
     "output_type": "stream",
     "text": [
      "3\n"
     ]
    }
   ],
   "source": [
    "print(num)"
   ]
  },
  {
   "cell_type": "code",
   "execution_count": 32,
   "id": "f505dbdb-ea7e-4836-b8ce-e7c026db981c",
   "metadata": {},
   "outputs": [
    {
     "name": "stdout",
     "output_type": "stream",
     "text": [
      "['3', '4', '5', '6']\n"
     ]
    }
   ],
   "source": [
    "lst = [3,4,5,6]\n",
    "\n",
    "lst1=[]\n",
    "for el in lst:\n",
    "    lst1.append(str(el))\n",
    "    \n",
    "print(lst1)"
   ]
  },
  {
   "cell_type": "code",
   "execution_count": 36,
   "id": "cea7c37d-bf56-4617-9f63-88c23bd36d7d",
   "metadata": {},
   "outputs": [
    {
     "data": {
      "text/plain": [
       "['3', '4', '5', '6']"
      ]
     },
     "execution_count": 36,
     "metadata": {},
     "output_type": "execute_result"
    }
   ],
   "source": [
    "list(map(str,lst))"
   ]
  },
  {
   "cell_type": "code",
   "execution_count": 40,
   "id": "30726a53-5195-4835-b0bb-8201f10117b3",
   "metadata": {},
   "outputs": [
    {
     "data": {
      "text/plain": [
       "[6, 8, 10, 12]"
      ]
     },
     "execution_count": 40,
     "metadata": {},
     "output_type": "execute_result"
    }
   ],
   "source": [
    "list(map(lambda x,y: x+y, lst,lst[:5]))"
   ]
  },
  {
   "cell_type": "code",
   "execution_count": 42,
   "id": "8e3b5c61-e351-482d-8c8b-96e85a226148",
   "metadata": {},
   "outputs": [
    {
     "data": {
      "text/plain": [
       "[9, 16, 25, 36]"
      ]
     },
     "execution_count": 42,
     "metadata": {},
     "output_type": "execute_result"
    }
   ],
   "source": [
    "list(map(lambda x: x**2, lst))"
   ]
  },
  {
   "cell_type": "code",
   "execution_count": 43,
   "id": "f2b89845-602b-42ad-b427-4fec8551c413",
   "metadata": {},
   "outputs": [
    {
     "data": {
      "text/plain": [
       "[3, 5]"
      ]
     },
     "execution_count": 43,
     "metadata": {},
     "output_type": "execute_result"
    }
   ],
   "source": [
    "list(filter(is_prime,lst))"
   ]
  },
  {
   "cell_type": "code",
   "execution_count": 45,
   "id": "a5d93d6a-4b1e-457d-9f71-ea103c3cc503",
   "metadata": {},
   "outputs": [
    {
     "data": {
      "text/plain": [
       "['Bnm,,nb', 'Zxczxc', 'Qweqwe', 'Asda']"
      ]
     },
     "execution_count": 45,
     "metadata": {},
     "output_type": "execute_result"
    }
   ],
   "source": [
    "words = ['bnm,,nb','zxczxc','qweqwe','asda']\n",
    "\n",
    "list(map(lambda x: x[0].upper()+x[1:],words))"
   ]
  },
  {
   "cell_type": "code",
   "execution_count": 49,
   "id": "9743a7ee-c218-477d-a5bd-66f99cbf0414",
   "metadata": {},
   "outputs": [
    {
     "data": {
      "text/plain": [
       "'bnm,,nb zxczxc qweqwe asda'"
      ]
     },
     "execution_count": 49,
     "metadata": {},
     "output_type": "execute_result"
    }
   ],
   "source": [
    "from functools import reduce\n",
    "\n",
    "reduce(lambda x,y: x+' '+y, words)"
   ]
  },
  {
   "cell_type": "code",
   "execution_count": 51,
   "id": "ce9d869d-411a-4d70-823e-5359b48b211a",
   "metadata": {},
   "outputs": [
    {
     "name": "stdout",
     "output_type": "stream",
     "text": [
      "bnm,,nb zxczxc qweqwe asda\n"
     ]
    }
   ],
   "source": [
    "def f(x,y):\n",
    "    return x+' '+y\n",
    "\n",
    "res = words[0]\n",
    "for el in words[1:]:\n",
    "    res = f(res,el)\n",
    "print(res)"
   ]
  },
  {
   "cell_type": "code",
   "execution_count": 52,
   "id": "e2afdc47-4c3c-4157-8911-8c32b774ccc0",
   "metadata": {},
   "outputs": [
    {
     "data": {
      "text/plain": [
       "['asda', 'bnm,,nb', 'qweqwe', 'zxczxc']"
      ]
     },
     "execution_count": 52,
     "metadata": {},
     "output_type": "execute_result"
    }
   ],
   "source": [
    "sorted(words)"
   ]
  },
  {
   "cell_type": "code",
   "execution_count": null,
   "id": "2fb858cf-7268-4f7a-93f0-63c473611c32",
   "metadata": {},
   "outputs": [],
   "source": [
    "seed(123)\n",
    "x=[]\n",
    "for i in range(4):\n",
    "    y = []\n",
    "    for j in range(6)"
   ]
  },
  {
   "cell_type": "code",
   "execution_count": 57,
   "id": "eecd8dc7-7d9c-4eb6-8bbe-7c12c0114ef4",
   "metadata": {},
   "outputs": [
    {
     "name": "stdout",
     "output_type": "stream",
     "text": [
      "[1, 0, 1, 0, 0, 0, 1, 1, 1, 1, 0, 0, 0, 0, 1, 1, 1, 1, 1, 1, 1, 1, 0, 1, 0, 0, 0, 1, 1, 1, 1, 0, 1, 1, 0, 1, 0, 1, 0, 0, 1, 0, 0, 0, 0, 1, 1, 0, 1, 0, 0, 0, 0, 1, 1, 0, 0, 1, 0, 0, 0, 0, 1, 1, 0, 0, 1, 0, 1, 0, 0, 0, 1, 0, 1, 0, 1, 0, 1, 1, 1, 1, 0, 0, 0, 0, 0, 0, 0, 0, 1, 1, 1, 0, 1, 1, 1, 1, 1, 0]\n"
     ]
    }
   ],
   "source": [
    "from random import *\n",
    "x = []\n",
    "for _ in range(100):\n",
    "    x.append(randrange(2))\n",
    "print(x)"
   ]
  },
  {
   "cell_type": "code",
   "execution_count": null,
   "id": "c81d9f7a-5f6f-4dad-b4d3-64fe162db55b",
   "metadata": {},
   "outputs": [],
   "source": [
    "heads = x.count"
   ]
  },
  {
   "cell_type": "code",
   "execution_count": 58,
   "id": "c8b79db9-0528-4481-992b-c8722b1b1fa1",
   "metadata": {},
   "outputs": [
    {
     "ename": "NameError",
     "evalue": "name 'x2' is not defined",
     "output_type": "error",
     "traceback": [
      "\u001b[1;31m---------------------------------------------------------------------------\u001b[0m",
      "\u001b[1;31mNameError\u001b[0m                                 Traceback (most recent call last)",
      "Cell \u001b[1;32mIn[58], line 1\u001b[0m\n\u001b[1;32m----> 1\u001b[0m \u001b[43mx2\u001b[49m\n",
      "\u001b[1;31mNameError\u001b[0m: name 'x2' is not defined"
     ]
    }
   ],
   "source": [
    "x2\n"
   ]
  },
  {
   "cell_type": "code",
   "execution_count": 61,
   "id": "6c3857da-7fcf-4892-a14a-268194abcabd",
   "metadata": {},
   "outputs": [
    {
     "name": "stdout",
     "output_type": "stream",
     "text": [
      "{'Person 0': 2, 'Person 1': 11}\n"
     ]
    }
   ],
   "source": [
    "test = {'Person '+str(i):j if i == 0 else 11 for i in range (2) for j in range(3)}\n",
    "print(test)"
   ]
  },
  {
   "cell_type": "code",
   "execution_count": 62,
   "id": "832a26f4-4bb0-40f1-bbf2-6863ec5d8ccb",
   "metadata": {},
   "outputs": [
    {
     "data": {
      "text/plain": [
       "[1, 2, 3, 4, 5]"
      ]
     },
     "execution_count": 62,
     "metadata": {},
     "output_type": "execute_result"
    }
   ],
   "source": [
    "[i+1 for i in range(5)]"
   ]
  },
  {
   "cell_type": "code",
   "execution_count": 65,
   "id": "c7bc4314-32f5-46c0-9aa6-7c706c6edd4e",
   "metadata": {},
   "outputs": [
    {
     "ename": "IndentationError",
     "evalue": "expected an indented block after 'for' statement on line 4 (3500282126.py, line 5)",
     "output_type": "error",
     "traceback": [
      "\u001b[1;36m  Cell \u001b[1;32mIn[65], line 5\u001b[1;36m\u001b[0m\n\u001b[1;33m    print((y1[i],y2[i]))\u001b[0m\n\u001b[1;37m    ^\u001b[0m\n\u001b[1;31mIndentationError\u001b[0m\u001b[1;31m:\u001b[0m expected an indented block after 'for' statement on line 4\n"
     ]
    }
   ],
   "source": [
    "y1 = [1,2,3]\n",
    "y2 = ['one','two','three']\n",
    "\n",
    "for i in range(len(y1)):\n",
    "    print((y1[i],y2[i]))"
   ]
  },
  {
   "cell_type": "code",
   "execution_count": 3,
   "id": "ff4405fd-5d45-4e1e-a927-2402dbece4d6",
   "metadata": {},
   "outputs": [
    {
     "name": "stdin",
     "output_type": "stream",
     "text": [
      " 12\n",
      " 5\n"
     ]
    },
    {
     "name": "stdout",
     "output_type": "stream",
     "text": [
      "90.0\n"
     ]
    }
   ],
   "source": [
    "a = int(input())\n",
    "h = int(input())\n",
    " \n",
    "print(a*h*1.5)"
   ]
  },
  {
   "cell_type": "code",
   "execution_count": 7,
   "id": "222afe66-50c0-4517-941a-625cb3028f0c",
   "metadata": {},
   "outputs": [
    {
     "name": "stdin",
     "output_type": "stream",
     "text": [
      " 345\n"
     ]
    },
    {
     "name": "stdout",
     "output_type": "stream",
     "text": [
      "['3', '4', '5']\n"
     ]
    }
   ],
   "source": [
    "N = input()\n",
    "\n",
    "newN = []\n",
    "for i in range(3):\n",
    "  newN.append(N[i])\n",
    "print(newN) "
   ]
  },
  {
   "cell_type": "code",
   "execution_count": 15,
   "id": "ee62d5f1-deb9-40d9-8d6a-d4c26e365a88",
   "metadata": {},
   "outputs": [
    {
     "name": "stdout",
     "output_type": "stream",
     "text": [
      "['My', 'favourite', 'tutor', 'in', 'academy', 'is', 'Ihor']\n",
      "7\n",
      "My Ihor\n"
     ]
    }
   ],
   "source": [
    "sentence = 'My favourite tutor in academy is Ihor'\n",
    "\n",
    "lst = sentence.split()\n",
    "\n",
    "print(lst)\n",
    "print(len(lst))\n",
    "print(lst[0]+' '+lst[len(lst)-1])"
   ]
  },
  {
   "cell_type": "code",
   "execution_count": 20,
   "id": "2e43bdf1-47c1-4237-9f91-013618479147",
   "metadata": {},
   "outputs": [
    {
     "name": "stdin",
     "output_type": "stream",
     "text": [
      " asd\n",
      " 123\n"
     ]
    },
    {
     "name": "stdout",
     "output_type": "stream",
     "text": [
      "Діаметр планети  asd дорівнює  123\n"
     ]
    }
   ],
   "source": [
    "Planet  = input()\n",
    "Diament = input()\n",
    "\n",
    "print('Діаметр планети ',Planet+' '+'дорівнює ',Diament)"
   ]
  },
  {
   "cell_type": "code",
   "execution_count": 48,
   "id": "acc02b5c-29a4-4ebd-bfd0-22137b0dcffa",
   "metadata": {},
   "outputs": [
    {
     "ename": "NameError",
     "evalue": "name 'randletter' is not defined",
     "output_type": "error",
     "traceback": [
      "\u001b[1;31m---------------------------------------------------------------------------\u001b[0m",
      "\u001b[1;31mNameError\u001b[0m                                 Traceback (most recent call last)",
      "Cell \u001b[1;32mIn[48], line 24\u001b[0m\n\u001b[0;32m     21\u001b[0m     x\u001b[38;5;241m.\u001b[39mappend(b7)   \n\u001b[0;32m     22\u001b[0m     \u001b[38;5;28;01mreturn\u001b[39;00m x\n\u001b[1;32m---> 24\u001b[0m \u001b[38;5;28mprint\u001b[39m(\u001b[43mmethPassw\u001b[49m\u001b[43m(\u001b[49m\u001b[43m)\u001b[49m)\n",
      "Cell \u001b[1;32mIn[48], line 7\u001b[0m, in \u001b[0;36mmethPassw\u001b[1;34m()\u001b[0m\n\u001b[0;32m      5\u001b[0m x \u001b[38;5;241m=\u001b[39m [] \n\u001b[0;32m      6\u001b[0m a \u001b[38;5;241m=\u001b[39m randint(\u001b[38;5;241m0\u001b[39m,\u001b[38;5;241m9\u001b[39m)\n\u001b[1;32m----> 7\u001b[0m b1 \u001b[38;5;241m=\u001b[39m \u001b[43mrandletter\u001b[49m(\u001b[38;5;124m'\u001b[39m\u001b[38;5;124ma\u001b[39m\u001b[38;5;124m'\u001b[39m, \u001b[38;5;124m'\u001b[39m\u001b[38;5;124mz\u001b[39m\u001b[38;5;124m'\u001b[39m)\n\u001b[0;32m      8\u001b[0m b2 \u001b[38;5;241m=\u001b[39m randletter(\u001b[38;5;124m'\u001b[39m\u001b[38;5;124ma\u001b[39m\u001b[38;5;124m'\u001b[39m, \u001b[38;5;124m'\u001b[39m\u001b[38;5;124mz\u001b[39m\u001b[38;5;124m'\u001b[39m)\n\u001b[0;32m      9\u001b[0m b3 \u001b[38;5;241m=\u001b[39m randletter(\u001b[38;5;124m'\u001b[39m\u001b[38;5;124ma\u001b[39m\u001b[38;5;124m'\u001b[39m, \u001b[38;5;124m'\u001b[39m\u001b[38;5;124mz\u001b[39m\u001b[38;5;124m'\u001b[39m)\n",
      "\u001b[1;31mNameError\u001b[0m: name 'randletter' is not defined"
     ]
    }
   ],
   "source": [
    "from random import *\n",
    "\n",
    "  \n",
    "def methPassw(): \n",
    "    x = [] \n",
    "    a = randint(0,9)\n",
    "    b1 = randletter('a', 'z')\n",
    "    b2 = randletter('a', 'z')\n",
    "    b3 = randletter('a', 'z')\n",
    "    b4 = randletter('a', 'z')\n",
    "    b5 = randletter('a', 'z')\n",
    "    b6 = randletter('a', 'z')\n",
    "    b7 = randletter('a', 'z')\n",
    "    x.append(a)\n",
    "    x.append(b1)\n",
    "    x.append(b2)\n",
    "    x.append(b3)\n",
    "    x.append(b4)\n",
    "    x.append(b5)\n",
    "    x.append(b6)\n",
    "    x.append(b7)   \n",
    "    return x\n",
    " \n",
    "print(methPassw())                                          \n",
    "                                               "
   ]
  },
  {
   "cell_type": "code",
   "execution_count": 105,
   "id": "c86206ea-b994-4838-95e4-137c1de6e37e",
   "metadata": {},
   "outputs": [
    {
     "ename": "SyntaxError",
     "evalue": "invalid syntax (2611299002.py, line 5)",
     "output_type": "error",
     "traceback": [
      "\u001b[1;36m  Cell \u001b[1;32mIn[107], line 5\u001b[1;36m\u001b[0m\n\u001b[1;33m    text = random.choice(string.ascii_lowercase + string.digits if i != 5 else string.ascii_uppercase) for i in range(10)\u001b[0m\n\u001b[1;37m                                                                                                       ^\u001b[0m\n\u001b[1;31mSyntaxError\u001b[0m\u001b[1;31m:\u001b[0m invalid syntax\n"
     ]
    }
   ],
   "source": [
    "import random\n",
    "import string\n",
    "\n",
    "def methPassw(): \n",
    "    text = [random.choice(string.ascii_lowercase + string.digits if i != 5 else string.ascii_uppercase) for i in range(10)]  \n",
    "    return (text)"
   ]
  },
  {
   "cell_type": "code",
   "execution_count": 106,
   "id": "d64d4cf9-ac55-458e-be6c-d1ba4e01b902",
   "metadata": {},
   "outputs": [
    {
     "name": "stdout",
     "output_type": "stream",
     "text": [
      "['7', 'g', 'y', 'p', 'w', 'C', 'l', 'u', '7', '4']\n"
     ]
    }
   ],
   "source": [
    "print(methPassw())"
   ]
  },
  {
   "cell_type": "code",
   "execution_count": 110,
   "id": "1792febf-0f4c-49d5-8d2e-bcf97d5de1ed",
   "metadata": {},
   "outputs": [
    {
     "ename": "IndentationError",
     "evalue": "unexpected indent (1751179338.py, line 3)",
     "output_type": "error",
     "traceback": [
      "\u001b[1;36m  Cell \u001b[1;32mIn[110], line 3\u001b[1;36m\u001b[0m\n\u001b[1;33m    for  methPassw[i] in string.digits:\u001b[0m\n\u001b[1;37m    ^\u001b[0m\n\u001b[1;31mIndentationError\u001b[0m\u001b[1;31m:\u001b[0m unexpected indent\n"
     ]
    }
   ],
   "source": [
    " def CheckMethPassw (methPassw):\n",
    "        for i in range(len(methPassw)): []\n",
    "             for  methPassw[i] in string.digits:\n",
    "                    for methPassw[i] in string.ascii_lowercase:\n",
    "                        for methPassw[i] in string.ascii_uppercase:\n",
    "                            return 'OK' "
   ]
  },
  {
   "cell_type": "code",
   "execution_count": 101,
   "id": "a42a7ac4-dd3b-40e0-b903-70c11dc3bd1d",
   "metadata": {},
   "outputs": [
    {
     "name": "stdout",
     "output_type": "stream",
     "text": [
      "<function CheckMethPassw at 0x0000019957B7B7F0>\n"
     ]
    }
   ],
   "source": [
    "print(CheckMethPassw())"
   ]
  },
  {
   "cell_type": "code",
   "execution_count": 45,
   "id": "ef6fd00d-784e-4073-9696-815557bb2fc1",
   "metadata": {},
   "outputs": [
    {
     "name": "stdout",
     "output_type": "stream",
     "text": [
      "[21, -58, -79, -27, 63, 86, -98, 33, -93, -77, 25, 7, -37, -3, -56, -78, 70, 95, 5, -94]\n",
      "-14.75\n",
      "[-94, -58, -79, -27, -98, -93, -77, -37, -56, -78]\n",
      "[]\n",
      "[21, 63, 86, 33, 25, 7, -3, 70, 95, 5]\n"
     ]
    }
   ],
   "source": [
    "from random import *\n",
    "import   statistics  \n",
    "\n",
    "\n",
    "a = []\n",
    "b_MEAN = int\n",
    "c_LowerMean = []\n",
    "d_EquelsMean = []\n",
    "E_UpperMean = []\n",
    "for i in range(20): \n",
    "    b = randint(-100,100)\n",
    "    a.append(b)\n",
    "    \n",
    "b_MEAN = statistics.mean(a)\n",
    "\n",
    "for i2 in range(20):\n",
    "    if a[i2-1] <= b_MEAN:\n",
    "        c_LowerMean.append(a[i2-1]) \n",
    "    if a[i2-1] == b_MEAN:\n",
    "        d_EquelsMean.append(a[i2-1]) \n",
    "    if a[i2-1] >= b_MEAN:   \n",
    "        E_UpperMean.append(a[i2-1]) \n",
    "        \n",
    "print(a)\n",
    "print(b_MEAN)\n",
    "print(c_LowerMean)\n",
    "print(d_EquelsMean)\n",
    "print(E_UpperMean)\n",
    "\n"
   ]
  },
  {
   "cell_type": "code",
   "execution_count": 108,
   "id": "82a134b7-f451-4a5c-ae53-e3df42022d65",
   "metadata": {},
   "outputs": [
    {
     "name": "stdout",
     "output_type": "stream",
     "text": [
      "a_8_nums:  [1000, 8, 16, 24, 32, 40, 48, 56, 64, 72, 80, 88, 96, 104, 112, 120, 128, 136, 144, 152, 160, 168, 176, 184, 192, 200, 208, 216, 224, 232, 240, 248, 256, 264, 272, 280, 288, 296, 304, 312, 320, 328, 336, 344, 352, 360, 368, 376, 384, 392, 400, 408, 416, 424, 432, 440, 448, 456, 464, 472, 480, 488, 496, 504, 512, 520, 528, 536, 544, 552, 560, 568, 576, 584, 592, 600, 608, 616, 624, 632, 640, 648, 656, 664, 672, 680, 688, 696, 704, 712, 720, 728, 736, 744, 752, 760, 768, 776, 784, 792, 800, 808, 816, 824, 832, 840, 848, 856, 864, 872, 880, 888, 896, 904, 912, 920, 928, 936, 944, 952, 960, 968, 976, 984, 992]\n",
      "b_6_nums:  [6]\n",
      "test:  ['Practice', 'Following', 'Problems', 'to', 'Drill', 'List', 'Comprehension', 'in', 'Your', 'Head.']\n",
      "a_5_string:  ['to', 'List', 'in', 'Your']\n",
      "a_5_string:  [5, 8, 9, 8, 2, 5, 4, 13, 2, 4]\n",
      "a_5_string:  [13, 23, 26, 37, 39, 46, 52, 65, 69, 74, 78, 91, 92, 104, 111, 115, 117, 130, 138, 143, 148, 156, 161, 169, 182, 184, 185, 195, 207, 208, 221, 222, 230, 234, 247, 253, 259, 260, 273, 276, 286, 296, 299, 299, 312, 322, 325, 333, 338, 345, 351, 364, 368, 370, 377, 390, 391, 403, 407, 414, 416, 429, 437, 442, 444, 455, 460, 468, 481, 481, 483, 494, 506, 507, 518, 520, 529, 533, 546, 552, 555, 559, 572, 575, 585, 592, 598, 598, 611, 621, 624, 629, 637, 644, 650, 663, 666, 667, 676, 689, 690, 702, 703, 713, 715, 728, 736, 740, 741, 754, 759, 767, 777, 780, 782, 793, 805, 806, 814, 819, 828, 832, 845, 851, 851, 858, 871, 874, 884, 888, 897, 897, 910, 920, 923, 925, 936, 943, 949, 962, 962, 966, 975, 988, 989, 999]\n"
     ]
    }
   ],
   "source": [
    "nums = [i for i in range(1,1001)]\n",
    "string = \"Practice Following Problems to Drill List Comprehension in Your Head.\"\n",
    "\n",
    "a_8_nums = []\n",
    "b_6_nums = [] \n",
    "a_5_string = []\n",
    "a_5_LEN_string = []\n",
    "a_13_23_37_num = []\n",
    "\n",
    "\n",
    "for i in range(len(nums)):\n",
    "    if nums[i-1] >= 1:\n",
    "        if nums[i-1] <= 1000: \n",
    "            \n",
    "            for i3 in range(9):\n",
    "                if nums[i-1]%i3 == 0:\n",
    "                    \n",
    "                во\n",
    "            \n",
    "            \n",
    "            \n",
    "            \n",
    "            \n",
    "            if nums[i-1]%8==0:\n",
    "                a_8_nums.append(nums[i-1]) \n",
    "                \n",
    "            if nums[i-1]==6:\n",
    "                    b_6_nums.append(nums[i-1]) \n",
    "            if nums[i-1]%13==0:\n",
    "                    a_13_23_37_num.append(nums[i-1]) \n",
    "            if nums[i-1]%23==0:\n",
    "                    a_13_23_37_num.append(nums[i-1]) \n",
    "            if nums[i-1]%37==0:\n",
    "                    a_13_23_37_num.append(nums[i-1])     \n",
    "                    \n",
    "splitString = string.split()\n",
    "\n",
    "for i in range(len(splitString)):\n",
    "    a_5_LEN_string.append((len(splitString[i-1])))\n",
    "    \n",
    "    if len(splitString[i-1]) <5:\n",
    "        a_5_string.append(splitString[i-1])\n",
    "        \n",
    "    \n",
    "        \n",
    "        \n",
    "print('a_8_nums: ',a_8_nums)\n",
    "print('b_6_nums: ',b_6_nums)  \n",
    "print('a_5_string: ',a_5_string)  \n",
    "print('a_5_LEN_string: ',a_5_LEN_string)  \n",
    "print('a_13_23_37_num: ',a_13_23_37_num)  \n",
    "\n"
   ]
  },
  {
   "cell_type": "code",
   "execution_count": null,
   "id": "82f6edf6-7bba-4513-8a32-c9a7e4528291",
   "metadata": {},
   "outputs": [],
   "source": []
  },
  {
   "cell_type": "code",
   "execution_count": null,
   "id": "3e876055-c732-4415-87b6-84c60b179a2c",
   "metadata": {},
   "outputs": [],
   "source": []
  }
 ],
 "metadata": {
  "kernelspec": {
   "display_name": "Python 3 (ipykernel)",
   "language": "python",
   "name": "python3"
  },
  "language_info": {
   "codemirror_mode": {
    "name": "ipython",
    "version": 3
   },
   "file_extension": ".py",
   "mimetype": "text/x-python",
   "name": "python",
   "nbconvert_exporter": "python",
   "pygments_lexer": "ipython3",
   "version": "3.10.9"
  }
 },
 "nbformat": 4,
 "nbformat_minor": 5
}
